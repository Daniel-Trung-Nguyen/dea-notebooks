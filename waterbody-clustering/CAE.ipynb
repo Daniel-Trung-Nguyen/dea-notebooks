{
 "cells": [
  {
   "cell_type": "markdown",
   "metadata": {},
   "source": [
    "# CAE\n",
    "\n",
    "Let's use a CAE to generate a good representation of waterbodies."
   ]
  },
  {
   "cell_type": "markdown",
   "metadata": {},
   "source": [
    "## Setup"
   ]
  },
  {
   "cell_type": "markdown",
   "metadata": {},
   "source": [
    "### Load modules"
   ]
  },
  {
   "cell_type": "code",
   "execution_count": 7,
   "metadata": {},
   "outputs": [
    {
     "name": "stderr",
     "output_type": "stream",
     "text": [
      "Using TensorFlow backend.\n",
      "/g/data/v10/public/modules/dea-env/20200713/lib/python3.6/site-packages/tensorflow/python/framework/dtypes.py:526: FutureWarning: Passing (type, 1) or '1type' as a synonym of type is deprecated; in a future version of numpy, it will be understood as (type, (1,)) / '(1,)type'.\n",
      "  _np_qint8 = np.dtype([(\"qint8\", np.int8, 1)])\n",
      "/g/data/v10/public/modules/dea-env/20200713/lib/python3.6/site-packages/tensorflow/python/framework/dtypes.py:527: FutureWarning: Passing (type, 1) or '1type' as a synonym of type is deprecated; in a future version of numpy, it will be understood as (type, (1,)) / '(1,)type'.\n",
      "  _np_quint8 = np.dtype([(\"quint8\", np.uint8, 1)])\n",
      "/g/data/v10/public/modules/dea-env/20200713/lib/python3.6/site-packages/tensorflow/python/framework/dtypes.py:528: FutureWarning: Passing (type, 1) or '1type' as a synonym of type is deprecated; in a future version of numpy, it will be understood as (type, (1,)) / '(1,)type'.\n",
      "  _np_qint16 = np.dtype([(\"qint16\", np.int16, 1)])\n",
      "/g/data/v10/public/modules/dea-env/20200713/lib/python3.6/site-packages/tensorflow/python/framework/dtypes.py:529: FutureWarning: Passing (type, 1) or '1type' as a synonym of type is deprecated; in a future version of numpy, it will be understood as (type, (1,)) / '(1,)type'.\n",
      "  _np_quint16 = np.dtype([(\"quint16\", np.uint16, 1)])\n",
      "/g/data/v10/public/modules/dea-env/20200713/lib/python3.6/site-packages/tensorflow/python/framework/dtypes.py:530: FutureWarning: Passing (type, 1) or '1type' as a synonym of type is deprecated; in a future version of numpy, it will be understood as (type, (1,)) / '(1,)type'.\n",
      "  _np_qint32 = np.dtype([(\"qint32\", np.int32, 1)])\n",
      "/g/data/v10/public/modules/dea-env/20200713/lib/python3.6/site-packages/tensorflow/python/framework/dtypes.py:535: FutureWarning: Passing (type, 1) or '1type' as a synonym of type is deprecated; in a future version of numpy, it will be understood as (type, (1,)) / '(1,)type'.\n",
      "  np_resource = np.dtype([(\"resource\", np.ubyte, 1)])\n"
     ]
    }
   ],
   "source": [
    "import numpy as np\n",
    "import matplotlib.pyplot as plt\n",
    "import geopandas as gpd\n",
    "import scipy.optimize as opt\n",
    "import matplotlib.colors\n",
    "import matplotlib.patches\n",
    "from tqdm.notebook import tqdm\n",
    "import sklearn.cluster\n",
    "import sklearn.decomposition\n",
    "import scipy.ndimage.filters\n",
    "import scipy.cluster\n",
    "import matplotlib.animation\n",
    "import datacube\n",
    "\n",
    "import sys\n",
    "sys.path.insert(1, '../Scripts')\n",
    "import dea_plotting\n",
    "\n",
    "import keras\n",
    "\n",
    "%matplotlib widget"
   ]
  },
  {
   "cell_type": "markdown",
   "metadata": {},
   "source": [
    "### Load the data"
   ]
  },
  {
   "cell_type": "markdown",
   "metadata": {},
   "source": [
    "This was generated in WaterbodyClustering.ipynb."
   ]
  },
  {
   "cell_type": "code",
   "execution_count": 2,
   "metadata": {},
   "outputs": [],
   "source": [
    "history = np.load('history_murray_full_norivers.npy')\n",
    "times = np.load('time_axis_murray_full_norivers.npy').astype('datetime64[D]')\n",
    "waterbodies = gpd.read_file('waterbodies_murray_norivers.geojson')"
   ]
  },
  {
   "cell_type": "markdown",
   "metadata": {},
   "source": [
    "We will work with the last five years of data, not blurred since we have convolutions."
   ]
  },
  {
   "cell_type": "code",
   "execution_count": 198,
   "metadata": {},
   "outputs": [],
   "source": [
    "input_size = 2048\n",
    "data = history[:, -input_size:]\n",
    "times_ = times[-input_size:]"
   ]
  },
  {
   "cell_type": "code",
   "execution_count": 199,
   "metadata": {},
   "outputs": [],
   "source": [
    "mean = data.mean(axis=0)"
   ]
  },
  {
   "cell_type": "markdown",
   "metadata": {},
   "source": [
    "## Keras time"
   ]
  },
  {
   "cell_type": "code",
   "execution_count": 200,
   "metadata": {},
   "outputs": [],
   "source": [
    "from keras.layers import Input, Dense, Conv1D, MaxPooling1D, UpSampling1D\n",
    "from keras.models import Model\n",
    "from keras import backend as K"
   ]
  },
  {
   "cell_type": "code",
   "execution_count": 201,
   "metadata": {},
   "outputs": [],
   "source": [
    "input_img = Input(shape=(input_size, 1))"
   ]
  },
  {
   "cell_type": "code",
   "execution_count": 202,
   "metadata": {},
   "outputs": [],
   "source": [
    "x = Conv1D(8, 7, activation='relu', padding='same')(input_img)\n",
    "x = MaxPooling1D(4, padding='same')(x)"
   ]
  },
  {
   "cell_type": "code",
   "execution_count": 203,
   "metadata": {},
   "outputs": [],
   "source": [
    "x = Conv1D(8, 3, activation='relu', padding='same')(x)\n",
    "x = MaxPooling1D(4, padding='same')(x)\n",
    "x = Conv1D(4, 3, activation='relu', padding='same')(x)\n",
    "x = Conv1D(4, 3, activation='relu', padding='same')(x)\n",
    "encoded = MaxPooling1D(4, padding='same')(x)"
   ]
  },
  {
   "cell_type": "code",
   "execution_count": 204,
   "metadata": {},
   "outputs": [],
   "source": [
    "x = Conv1D(4, 3, activation='relu', padding='same')(encoded)\n",
    "x = UpSampling1D(4)(x)\n",
    "x = Conv1D(8, 3, activation='relu', padding='same')(x)\n",
    "x = UpSampling1D(4)(x)\n",
    "x = Conv1D(8, 3, activation='relu', padding='same')(x)\n",
    "x = Conv1D(8, 3, activation='relu', padding='same')(x)\n",
    "x = UpSampling1D(4)(x)\n",
    "decoded = Conv1D(1, 2, activation='sigmoid', padding='same')(x)"
   ]
  },
  {
   "cell_type": "code",
   "execution_count": 205,
   "metadata": {},
   "outputs": [],
   "source": [
    "autoencoder = Model(input_img, decoded)\n",
    "autoencoder.compile(optimizer='adadelta', loss='mse')"
   ]
  },
  {
   "cell_type": "code",
   "execution_count": 206,
   "metadata": {},
   "outputs": [],
   "source": [
    "data_ = data.reshape(data.shape + (1,)) / 100"
   ]
  },
  {
   "cell_type": "code",
   "execution_count": 207,
   "metadata": {},
   "outputs": [
    {
     "name": "stdout",
     "output_type": "stream",
     "text": [
      "Epoch 1/50\n",
      "9081/9081 [==============================] - 16s 2ms/step - loss: 0.0981\n",
      "Epoch 2/50\n",
      "9081/9081 [==============================] - 8s 905us/step - loss: 0.0233\n",
      "Epoch 3/50\n",
      "9081/9081 [==============================] - 8s 883us/step - loss: 0.0166\n",
      "Epoch 4/50\n",
      "9081/9081 [==============================] - 8s 900us/step - loss: 0.0152\n",
      "Epoch 5/50\n",
      "9081/9081 [==============================] - 8s 916us/step - loss: 0.0137\n",
      "Epoch 6/50\n",
      "9081/9081 [==============================] - 8s 888us/step - loss: 0.0130\n",
      "Epoch 7/50\n",
      "9081/9081 [==============================] - 8s 916us/step - loss: 0.0125\n",
      "Epoch 8/50\n",
      "9081/9081 [==============================] - 8s 909us/step - loss: 0.0122\n",
      "Epoch 9/50\n",
      "9081/9081 [==============================] - 8s 895us/step - loss: 0.0117\n",
      "Epoch 10/50\n",
      "9081/9081 [==============================] - 8s 903us/step - loss: 0.0115\n",
      "Epoch 11/50\n",
      "9081/9081 [==============================] - 8s 900us/step - loss: 0.0116\n",
      "Epoch 12/50\n",
      "9081/9081 [==============================] - 8s 911us/step - loss: 0.0113\n",
      "Epoch 13/50\n",
      "9081/9081 [==============================] - 8s 905us/step - loss: 0.0111\n",
      "Epoch 14/50\n",
      "9081/9081 [==============================] - 8s 898us/step - loss: 0.0107\n",
      "Epoch 15/50\n",
      "9081/9081 [==============================] - 8s 912us/step - loss: 0.0107\n",
      "Epoch 16/50\n",
      "9081/9081 [==============================] - 8s 884us/step - loss: 0.0100\n",
      "Epoch 17/50\n",
      "9081/9081 [==============================] - 8s 912us/step - loss: 0.0104\n",
      "Epoch 18/50\n",
      "9081/9081 [==============================] - 8s 913us/step - loss: 0.0102\n",
      "Epoch 19/50\n",
      "9081/9081 [==============================] - 8s 874us/step - loss: 0.0102\n",
      "Epoch 20/50\n",
      "9081/9081 [==============================] - 8s 913us/step - loss: 0.0100\n",
      "Epoch 21/50\n",
      "9081/9081 [==============================] - 8s 901us/step - loss: 0.0101\n",
      "Epoch 22/50\n",
      "9081/9081 [==============================] - 8s 896us/step - loss: 0.0099\n",
      "Epoch 23/50\n",
      "9081/9081 [==============================] - 8s 923us/step - loss: 0.0095\n",
      "Epoch 24/50\n",
      "9081/9081 [==============================] - 8s 899us/step - loss: 0.0096\n",
      "Epoch 25/50\n",
      "9081/9081 [==============================] - 8s 890us/step - loss: 0.0097\n",
      "Epoch 26/50\n",
      "9081/9081 [==============================] - 8s 887us/step - loss: 0.0094\n",
      "Epoch 27/50\n",
      "9081/9081 [==============================] - 8s 897us/step - loss: 0.0093\n",
      "Epoch 28/50\n",
      "9081/9081 [==============================] - 8s 909us/step - loss: 0.0094\n",
      "Epoch 29/50\n",
      "9081/9081 [==============================] - 8s 901us/step - loss: 0.0093\n",
      "Epoch 30/50\n",
      "9081/9081 [==============================] - 8s 919us/step - loss: 0.0094\n",
      "Epoch 31/50\n",
      "9081/9081 [==============================] - 8s 923us/step - loss: 0.0092\n",
      "Epoch 32/50\n",
      "9081/9081 [==============================] - 8s 908us/step - loss: 0.0093\n",
      "Epoch 33/50\n",
      "9081/9081 [==============================] - 8s 905us/step - loss: 0.0093\n",
      "Epoch 34/50\n",
      "9081/9081 [==============================] - 8s 899us/step - loss: 0.0093\n",
      "Epoch 35/50\n",
      "9081/9081 [==============================] - 8s 899us/step - loss: 0.0090\n",
      "Epoch 36/50\n",
      "9081/9081 [==============================] - 8s 911us/step - loss: 0.0091\n",
      "Epoch 37/50\n",
      "9081/9081 [==============================] - 8s 900us/step - loss: 0.0091\n",
      "Epoch 38/50\n",
      "9081/9081 [==============================] - 8s 921us/step - loss: 0.0091\n",
      "Epoch 39/50\n",
      "9081/9081 [==============================] - 8s 931us/step - loss: 0.0089\n",
      "Epoch 40/50\n",
      "9081/9081 [==============================] - 8s 901us/step - loss: 0.0088\n",
      "Epoch 41/50\n",
      "9081/9081 [==============================] - 8s 908us/step - loss: 0.0087\n",
      "Epoch 42/50\n",
      "9081/9081 [==============================] - 8s 914us/step - loss: 0.0088\n",
      "Epoch 43/50\n",
      "9081/9081 [==============================] - 8s 889us/step - loss: 0.0087\n",
      "Epoch 44/50\n",
      "9081/9081 [==============================] - 8s 906us/step - loss: 0.0086\n",
      "Epoch 45/50\n",
      "9081/9081 [==============================] - 8s 909us/step - loss: 0.0086\n",
      "Epoch 46/50\n",
      "9081/9081 [==============================] - 8s 912us/step - loss: 0.0087\n",
      "Epoch 47/50\n",
      "9081/9081 [==============================] - 8s 907us/step - loss: 0.0085\n",
      "Epoch 48/50\n",
      "9081/9081 [==============================] - 8s 915us/step - loss: 0.0085\n",
      "Epoch 49/50\n",
      "9081/9081 [==============================] - 8s 911us/step - loss: 0.0086\n",
      "Epoch 50/50\n",
      "9081/9081 [==============================] - 8s 917us/step - loss: 0.0082\n"
     ]
    },
    {
     "data": {
      "text/plain": [
       "<keras.callbacks.callbacks.History at 0x7f99873f43c8>"
      ]
     },
     "execution_count": 207,
     "metadata": {},
     "output_type": "execute_result"
    }
   ],
   "source": [
    "autoencoder.fit(data_, data_,\n",
    "                epochs=50,\n",
    "                batch_size=128,\n",
    "                shuffle=True)"
   ]
  },
  {
   "cell_type": "code",
   "execution_count": 208,
   "metadata": {},
   "outputs": [],
   "source": [
    "encoder = Model(input_img, encoded)"
   ]
  },
  {
   "cell_type": "code",
   "execution_count": 209,
   "metadata": {},
   "outputs": [],
   "source": [
    "enc_ = encoder.predict(data_)"
   ]
  },
  {
   "cell_type": "code",
   "execution_count": 210,
   "metadata": {},
   "outputs": [],
   "source": [
    "pca = sklearn.manifold.TSNE(n_components=2)"
   ]
  },
  {
   "cell_type": "code",
   "execution_count": 211,
   "metadata": {},
   "outputs": [],
   "source": [
    "pca_f = pca.fit_transform(enc_.reshape(data.shape[0], -1))"
   ]
  },
  {
   "cell_type": "code",
   "execution_count": 216,
   "metadata": {},
   "outputs": [
    {
     "name": "stderr",
     "output_type": "stream",
     "text": [
      "/g/data/v10/public/modules/dea-env/20200713/lib/python3.6/site-packages/ipykernel_launcher.py:1: RuntimeWarning: More than 20 figures have been opened. Figures created through the pyplot interface (`matplotlib.pyplot.figure`) are retained until explicitly closed and may consume too much memory. (To control this warning, see the rcParam `figure.max_open_warning`).\n",
      "  \"\"\"Entry point for launching an IPython kernel.\n"
     ]
    },
    {
     "data": {
      "application/vnd.jupyter.widget-view+json": {
       "model_id": "1770801fbab544429d2fe5e972713e61",
       "version_major": 2,
       "version_minor": 0
      },
      "text/plain": [
       "Canvas(toolbar=Toolbar(toolitems=[('Home', 'Reset original view', 'home', 'home'), ('Back', 'Back to previous …"
      ]
     },
     "metadata": {},
     "output_type": "display_data"
    },
    {
     "data": {
      "text/plain": [
       "<matplotlib.collections.PathCollection at 0x7f998573b940>"
      ]
     },
     "execution_count": 216,
     "metadata": {},
     "output_type": "execute_result"
    }
   ],
   "source": [
    "plt.figure()\n",
    "c = (pca_f[:, 0] > 62) & (pca_f[:, 1] > -20)\n",
    "plt.scatter(*pca_f.T, s=1, c=c)"
   ]
  },
  {
   "cell_type": "markdown",
   "metadata": {},
   "source": [
    "A single blob keeps showing up in the tSNE for autoencoded stuff. What is it? I suspect it's like \"dry all the time\" or something. Let's see."
   ]
  },
  {
   "cell_type": "code",
   "execution_count": 220,
   "metadata": {},
   "outputs": [],
   "source": [
    "dc = datacube.Datacube()\n",
    "def cluster_sample(cluster_mask):\n",
    "    das_1 = []\n",
    "    cluster_1_sample = np.random.choice(cluster_mask.nonzero()[0], size=9, replace=False)\n",
    "    for k in cluster_1_sample:\n",
    "        waterbody = waterbodies.iloc[k]\n",
    "        da = dc.load('ls8_nbart_geomedian_annual', measurements=['red', 'green', 'blue'],\n",
    "                     geopolygon=datacube.utils.geometry.Geometry(waterbody.geometry.buffer(1500), crs='EPSG:3577'), time='2019-01')\n",
    "        das_1.append(da.isel(time=0))\n",
    "    plt.figure(figsize=(10, 10))\n",
    "    for i in range(9):\n",
    "        ax = plt.subplot(3, 3, i + 1)\n",
    "        dea_plotting.rgb(das_1[i], bands=['red', 'green', 'blue'], ax=ax)\n",
    "        geometry = waterbodies.iloc[cluster_1_sample[i]].geometry\n",
    "        patch = matplotlib.patches.Polygon(geometry.exterior, edgecolor='white', facecolor='#AAAAFF55')\n",
    "        ax.add_patch(patch)\n",
    "        ax.set_title('')\n",
    "        ax.axis('off')\n",
    "        ys = data[cluster_1_sample[i]]\n",
    "        ys = ys / max(ys) * 0.5\n",
    "        xs = np.linspace(0, 1, len(ys))\n",
    "        points = np.stack([xs, ys]).T\n",
    "        tf_sp = ax.transData.inverted().transform(ax.transAxes.transform(points))\n",
    "        plt.plot(tf_sp[:, 0], tf_sp[:, 1], c='white')\n",
    "    "
   ]
  },
  {
   "cell_type": "code",
   "execution_count": 221,
   "metadata": {},
   "outputs": [
    {
     "name": "stderr",
     "output_type": "stream",
     "text": [
      "/g/data/v10/public/modules/dea-env/20200713/lib/python3.6/site-packages/ipykernel_launcher.py:10: RuntimeWarning: More than 20 figures have been opened. Figures created through the pyplot interface (`matplotlib.pyplot.figure`) are retained until explicitly closed and may consume too much memory. (To control this warning, see the rcParam `figure.max_open_warning`).\n",
      "  # Remove the CWD from sys.path while we load stuff.\n"
     ]
    },
    {
     "data": {
      "application/vnd.jupyter.widget-view+json": {
       "model_id": "8a17149d5ba048fe853f700e7a2a2957",
       "version_major": 2,
       "version_minor": 0
      },
      "text/plain": [
       "Canvas(toolbar=Toolbar(toolitems=[('Home', 'Reset original view', 'home', 'home'), ('Back', 'Back to previous …"
      ]
     },
     "metadata": {},
     "output_type": "display_data"
    },
    {
     "name": "stderr",
     "output_type": "stream",
     "text": [
      "/g/data/v10/public/modules/dea-env/20200713/lib/python3.6/site-packages/ipykernel_launcher.py:20: RuntimeWarning: invalid value encountered in true_divide\n",
      "/g/data/v10/public/modules/dea-env/20200713/lib/python3.6/site-packages/ipykernel_launcher.py:20: RuntimeWarning: invalid value encountered in true_divide\n",
      "/g/data/v10/public/modules/dea-env/20200713/lib/python3.6/site-packages/ipykernel_launcher.py:20: RuntimeWarning: invalid value encountered in true_divide\n",
      "/g/data/v10/public/modules/dea-env/20200713/lib/python3.6/site-packages/ipykernel_launcher.py:20: RuntimeWarning: invalid value encountered in true_divide\n",
      "/g/data/v10/public/modules/dea-env/20200713/lib/python3.6/site-packages/ipykernel_launcher.py:20: RuntimeWarning: invalid value encountered in true_divide\n",
      "/g/data/v10/public/modules/dea-env/20200713/lib/python3.6/site-packages/ipykernel_launcher.py:20: RuntimeWarning: invalid value encountered in true_divide\n"
     ]
    }
   ],
   "source": [
    "cluster_sample(c)"
   ]
  },
  {
   "cell_type": "markdown",
   "metadata": {},
   "source": [
    "Yeah it's dry stuff."
   ]
  },
  {
   "cell_type": "code",
   "execution_count": 241,
   "metadata": {},
   "outputs": [
    {
     "name": "stderr",
     "output_type": "stream",
     "text": [
      "/g/data/v10/public/modules/dea-env/20200713/lib/python3.6/site-packages/ipykernel_launcher.py:1: RuntimeWarning: More than 20 figures have been opened. Figures created through the pyplot interface (`matplotlib.pyplot.figure`) are retained until explicitly closed and may consume too much memory. (To control this warning, see the rcParam `figure.max_open_warning`).\n",
      "  \"\"\"Entry point for launching an IPython kernel.\n"
     ]
    },
    {
     "data": {
      "application/vnd.jupyter.widget-view+json": {
       "model_id": "01fe6730d6ab4c37b1ce683b07359427",
       "version_major": 2,
       "version_minor": 0
      },
      "text/plain": [
       "Canvas(toolbar=Toolbar(toolitems=[('Home', 'Reset original view', 'home', 'home'), ('Back', 'Back to previous …"
      ]
     },
     "metadata": {},
     "output_type": "display_data"
    },
    {
     "data": {
      "text/plain": [
       "[<matplotlib.lines.Line2D at 0x7f99846d2470>]"
      ]
     },
     "execution_count": 241,
     "metadata": {},
     "output_type": "execute_result"
    }
   ],
   "source": [
    "plt.figure()\n",
    "plt.plot(times_, data_[500])\n",
    "plt.plot(times_, autoencoder.predict(data_[500][None, :]).ravel())"
   ]
  },
  {
   "cell_type": "markdown",
   "metadata": {},
   "source": [
    "## RNN\n",
    "\n",
    "One way to encode sequential data while taking advantage of its (temporal) structure is to use an RNN. These work absurdly well on sequences, even just simple ones. Let's build a dead-simple RNN in Keras and get it to predict water sequences. I briefly thought that it might be a good idea to pass the gradient in as well, but then it becomes really easy to guess what the value should be (just multiply the gradient by the time step...)."
   ]
  },
  {
   "cell_type": "code",
   "execution_count": 226,
   "metadata": {},
   "outputs": [],
   "source": [
    "from keras.models import Sequential  \n",
    "from keras.layers.core import Dense, Activation  \n",
    "from keras.layers.recurrent import LSTM"
   ]
  },
  {
   "cell_type": "code",
   "execution_count": 238,
   "metadata": {},
   "outputs": [],
   "source": [
    "data_diffs = np.diff(data / 100)"
   ]
  },
  {
   "cell_type": "code",
   "execution_count": 270,
   "metadata": {},
   "outputs": [
    {
     "data": {
      "application/vnd.jupyter.widget-view+json": {
       "model_id": "0206678ae01f439f8f2d189d297f0240",
       "version_major": 2,
       "version_minor": 0
      },
      "text/plain": [
       "HBox(children=(FloatProgress(value=0.0, max=9081.0), HTML(value='')))"
      ]
     },
     "metadata": {},
     "output_type": "display_data"
    },
    {
     "name": "stdout",
     "output_type": "stream",
     "text": [
      "\n"
     ]
    }
   ],
   "source": [
    "time_window = 14  # days\n",
    "Xs = []\n",
    "ys = []\n",
    "for row in tqdm(data_diffs):\n",
    "    for start in range(0, len(row) - time_window - 1, 2):\n",
    "        Xs.append(row[start:start + time_window])\n",
    "        ys.append(row[start + time_window])"
   ]
  },
  {
   "cell_type": "code",
   "execution_count": 271,
   "metadata": {},
   "outputs": [],
   "source": [
    "Xs = np.array(Xs).reshape(len(Xs), time_window, 1)\n",
    "ys = np.array(ys)"
   ]
  },
  {
   "cell_type": "code",
   "execution_count": 272,
   "metadata": {},
   "outputs": [],
   "source": [
    "Xs_train = Xs[::100]\n",
    "ys_train = ys[::100]"
   ]
  },
  {
   "cell_type": "code",
   "execution_count": 273,
   "metadata": {},
   "outputs": [],
   "source": [
    "model = Sequential()\n",
    "n_hidden = 25\n",
    "model.add(LSTM(n_hidden, input_shape=(time_window, 1), return_sequences=False))\n",
    "model.add(Dense(1, input_shape=(n_hidden,)))\n",
    "model.add(Activation('tanh'))\n",
    "model.compile(loss='mse', optimizer='rmsprop')"
   ]
  },
  {
   "cell_type": "code",
   "execution_count": 274,
   "metadata": {},
   "outputs": [
    {
     "name": "stdout",
     "output_type": "stream",
     "text": [
      "Epoch 1/2\n",
      "92263/92263 [==============================] - 13s 138us/step - loss: 5.9777e-04\n",
      "Epoch 2/2\n",
      "92263/92263 [==============================] - 7s 79us/step - loss: 5.9325e-04\n"
     ]
    }
   ],
   "source": [
    "history = model.fit(Xs_train, ys_train, epochs=2, batch_size=128, verbose=1, shuffle=True)"
   ]
  },
  {
   "cell_type": "code",
   "execution_count": 288,
   "metadata": {},
   "outputs": [],
   "source": [
    "predictions = model.predict(Xs[:1000])"
   ]
  },
  {
   "cell_type": "code",
   "execution_count": 290,
   "metadata": {},
   "outputs": [
    {
     "name": "stderr",
     "output_type": "stream",
     "text": [
      "/g/data/v10/public/modules/dea-env/20200713/lib/python3.6/site-packages/ipykernel_launcher.py:1: RuntimeWarning: More than 20 figures have been opened. Figures created through the pyplot interface (`matplotlib.pyplot.figure`) are retained until explicitly closed and may consume too much memory. (To control this warning, see the rcParam `figure.max_open_warning`).\n",
      "  \"\"\"Entry point for launching an IPython kernel.\n"
     ]
    },
    {
     "data": {
      "application/vnd.jupyter.widget-view+json": {
       "model_id": "7c35bf5e2dd549eda4acfb1d10b336d9",
       "version_major": 2,
       "version_minor": 0
      },
      "text/plain": [
       "Canvas(toolbar=Toolbar(toolitems=[('Home', 'Reset original view', 'home', 'home'), ('Back', 'Back to previous …"
      ]
     },
     "metadata": {},
     "output_type": "display_data"
    },
    {
     "data": {
      "text/plain": [
       "[<matplotlib.lines.Line2D at 0x7f997826bdd8>]"
      ]
     },
     "execution_count": 290,
     "metadata": {},
     "output_type": "execute_result"
    }
   ],
   "source": [
    "plt.figure()\n",
    "plt.plot(ys[:1000])\n",
    "plt.plot(predictions)"
   ]
  },
  {
   "cell_type": "code",
   "execution_count": null,
   "metadata": {},
   "outputs": [],
   "source": []
  }
 ],
 "metadata": {
  "kernelspec": {
   "display_name": "Python 3",
   "language": "python",
   "name": "python3"
  },
  "language_info": {
   "codemirror_mode": {
    "name": "ipython",
    "version": 3
   },
   "file_extension": ".py",
   "mimetype": "text/x-python",
   "name": "python",
   "nbconvert_exporter": "python",
   "pygments_lexer": "ipython3",
   "version": "3.6.10"
  }
 },
 "nbformat": 4,
 "nbformat_minor": 4
}
