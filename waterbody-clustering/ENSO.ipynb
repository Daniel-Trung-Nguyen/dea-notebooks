{
 "cells": [
  {
   "cell_type": "markdown",
   "metadata": {},
   "source": [
    "# Climate drivers\n",
    "\n",
    "This notebook plots ENSO against surface area in a few different ways. Can we figure out which climate driver affects which waterbodies?"
   ]
  },
  {
   "cell_type": "markdown",
   "metadata": {},
   "source": [
    "## Setup"
   ]
  },
  {
   "cell_type": "markdown",
   "metadata": {},
   "source": [
    "### Load modules"
   ]
  },
  {
   "cell_type": "code",
   "execution_count": 2,
   "metadata": {},
   "outputs": [
    {
     "name": "stdout",
     "output_type": "stream",
     "text": [
      "Warning: dea-env/20200713 exists in the python env (/g/data/v10/public/modules/otps/0.1/shallow_water/src/python:/home/547/ma6611/.digitalearthau/dea-env/20200713/local/lib/python3.6/site-packages:/home/547/ma6611/.digitalearthau/dea-env/20200713/local/lib/python3.6/site-packages:/g/data/v10/public/modules/dea/20200828/lib/python3.6/site-packages/:/g/data/v10/public/modules/dea-env/20200713/share/qgis/python)\n",
      "Unload all python modules, if you experience any issues.\n",
      "Warning: dea/20200828 exists in the python env (/g/data/v10/public/modules/otps/0.1/shallow_water/src/python:/home/547/ma6611/.digitalearthau/dea-env/20200713/local/lib/python3.6/site-packages:/home/547/ma6611/.digitalearthau/dea-env/20200713/local/lib/python3.6/site-packages:/g/data/v10/public/modules/dea/20200828/lib/python3.6/site-packages/:/g/data/v10/public/modules/dea-env/20200713/share/qgis/python)\n",
      "Defaulting to user installation because normal site-packages is not writeable\n",
      "Collecting rioxarray\n",
      "  Downloading rioxarray-0.0.31.tar.gz (991 kB)\n",
      "\u001b[K     |████████████████████████████████| 991 kB 4.4 MB/s eta 0:00:01\n",
      "\u001b[?25hRequirement already satisfied: rasterio in /g/data4/v10/public/modules/dea-env/20200713/lib/python3.6/site-packages (from rioxarray) (1.1.4)\n",
      "Requirement already satisfied: scipy in /g/data4/v10/public/modules/dea-env/20200713/lib/python3.6/site-packages (from rioxarray) (1.5.0)\n",
      "Requirement already satisfied: xarray in /g/data4/v10/public/modules/dea-env/20200713/lib/python3.6/site-packages (from rioxarray) (0.16.0)\n",
      "Requirement already satisfied: pyproj>=2.2 in /g/data4/v10/public/modules/dea-env/20200713/lib/python3.6/site-packages (from rioxarray) (2.6.1.post1)\n",
      "Requirement already satisfied: affine in /g/data4/v10/public/modules/dea-env/20200713/lib/python3.6/site-packages (from rasterio->rioxarray) (2.3.0)\n",
      "Requirement already satisfied: numpy in /g/data4/v10/public/modules/dea-env/20200713/lib/python3.6/site-packages (from rasterio->rioxarray) (1.18.5)\n",
      "Requirement already satisfied: click-plugins in /g/data4/v10/public/modules/dea-env/20200713/lib/python3.6/site-packages (from rasterio->rioxarray) (1.1.1)\n",
      "Requirement already satisfied: snuggs>=1.4.1 in /g/data4/v10/public/modules/dea-env/20200713/lib/python3.6/site-packages (from rasterio->rioxarray) (1.4.7)\n",
      "Requirement already satisfied: cligj>=0.5 in /g/data4/v10/public/modules/dea-env/20200713/lib/python3.6/site-packages (from rasterio->rioxarray) (0.5.0)\n",
      "Requirement already satisfied: click<8,>=4.0 in /g/data4/v10/public/modules/dea-env/20200713/lib/python3.6/site-packages (from rasterio->rioxarray) (7.1.2)\n",
      "Requirement already satisfied: attrs in /g/data4/v10/public/modules/dea-env/20200713/lib/python3.6/site-packages (from rasterio->rioxarray) (19.3.0)\n",
      "Requirement already satisfied: setuptools>=41.2 in /g/data4/v10/public/modules/dea-env/20200713/lib/python3.6/site-packages (from xarray->rioxarray) (49.2.0.post20200712)\n",
      "Requirement already satisfied: pandas>=0.25 in /g/data4/v10/public/modules/dea-env/20200713/lib/python3.6/site-packages (from xarray->rioxarray) (1.0.5)\n",
      "Requirement already satisfied: pyparsing>=2.1.6 in /g/data4/v10/public/modules/dea-env/20200713/lib/python3.6/site-packages (from snuggs>=1.4.1->rasterio->rioxarray) (2.4.7)\n",
      "Requirement already satisfied: pytz>=2017.2 in /g/data4/v10/public/modules/dea-env/20200713/lib/python3.6/site-packages (from pandas>=0.25->xarray->rioxarray) (2020.1)\n",
      "Requirement already satisfied: python-dateutil>=2.6.1 in /g/data4/v10/public/modules/dea-env/20200713/lib/python3.6/site-packages (from pandas>=0.25->xarray->rioxarray) (2.8.1)\n",
      "Requirement already satisfied: six>=1.5 in /g/data4/v10/public/modules/dea-env/20200713/lib/python3.6/site-packages (from python-dateutil>=2.6.1->pandas>=0.25->xarray->rioxarray) (1.15.0)\n",
      "Building wheels for collected packages: rioxarray\n",
      "  Building wheel for rioxarray (setup.py) ... \u001b[?25ldone\n",
      "\u001b[?25h  Created wheel for rioxarray: filename=rioxarray-0.0.31-py3-none-any.whl size=39287 sha256=18c6e97898e1f47bc951dba01af7314ec3ca6190122c7d8348bcc6bb19bef61c\n",
      "  Stored in directory: /home/547/ma6611/.cache/pip/wheels/d0/d8/f9/caa0e5b4936f60d2f2156c9092c3c7c4a3abd9c8163c22d2ec\n",
      "Successfully built rioxarray\n",
      "Installing collected packages: rioxarray\n",
      "Successfully installed rioxarray-0.0.31\n",
      "Note: you may need to restart the kernel to use updated packages.\n"
     ]
    }
   ],
   "source": [
    "pip install rioxarray"
   ]
  },
  {
   "cell_type": "code",
   "execution_count": 3,
   "metadata": {},
   "outputs": [],
   "source": [
    "import sys\n",
    "\n",
    "import h5py\n",
    "import cmocean.cm\n",
    "import datacube\n",
    "import geopandas as gpd\n",
    "import matplotlib.animation\n",
    "import matplotlib.colors\n",
    "import matplotlib.patches\n",
    "import numpy as np\n",
    "import scipy.cluster\n",
    "import scipy.ndimage.filters\n",
    "import sklearn.cluster\n",
    "import sklearn.decomposition\n",
    "import sklearn.pipeline\n",
    "import sklearn.preprocessing\n",
    "import statsmodels.tsa.stattools\n",
    "from matplotlib import pyplot as plt\n",
    "from scipy import optimize as opt\n",
    "from tqdm.notebook import tqdm\n",
    "import pandas as pd\n",
    "import xarray\n",
    "import rasterio.mask\n",
    "import rioxarray\n",
    "\n",
    "sys.path.insert(1, \"../Scripts\")\n",
    "import dea_plotting\n",
    "import mattplot\n",
    "\n",
    "%matplotlib inline"
   ]
  },
  {
   "cell_type": "markdown",
   "metadata": {},
   "source": [
    "### Load the data"
   ]
  },
  {
   "cell_type": "markdown",
   "metadata": {},
   "source": [
    "This was generated in LoadWaterbodies.ipynb."
   ]
  },
  {
   "cell_type": "code",
   "execution_count": 6,
   "metadata": {},
   "outputs": [],
   "source": [
    "waterbodies = gpd.read_file('waterbodies_joined_drainage_basins.shp').to_crs('EPSG:3577')"
   ]
  },
  {
   "cell_type": "code",
   "execution_count": 7,
   "metadata": {},
   "outputs": [],
   "source": [
    "waterbodies = waterbodies.set_index('UID')"
   ]
  },
  {
   "cell_type": "code",
   "execution_count": 145,
   "metadata": {},
   "outputs": [],
   "source": [
    "waterbodies.loc[pd.isnull(waterbodies.BNAME), 'BNAME'] = 'NONE'"
   ]
  },
  {
   "cell_type": "code",
   "execution_count": 5,
   "metadata": {},
   "outputs": [],
   "source": [
    "history_file = h5py.File('interpolated_waterbodies_by_division_and_basin.h5', mode='r')"
   ]
  },
  {
   "cell_type": "code",
   "execution_count": 9,
   "metadata": {},
   "outputs": [],
   "source": [
    "dates = pd.to_datetime([l.decode('ascii') for l in history_file['dates']])"
   ]
  },
  {
   "cell_type": "markdown",
   "metadata": {},
   "source": [
    "Then load the SOI, AAO, and DMI data. You can download them from the NOAA:"
   ]
  },
  {
   "cell_type": "code",
   "execution_count": 10,
   "metadata": {},
   "outputs": [
    {
     "name": "stderr",
     "output_type": "stream",
     "text": [
      "Warning: dea-env/20200713 exists in the python env (/g/data/v10/public/modules/otps/0.1/shallow_water/src/python:/home/547/ma6611/.digitalearthau/dea-env/20200713/local/lib/python3.6/site-packages:/home/547/ma6611/.digitalearthau/dea-env/20200713/local/lib/python3.6/site-packages:/g/data/v10/public/modules/dea/20200828/lib/python3.6/site-packages/:/g/data/v10/public/modules/dea-env/20200713/share/qgis/python)\n",
      "Unload all python modules, if you experience any issues.\n",
      "Warning: dea/20200828 exists in the python env (/g/data/v10/public/modules/otps/0.1/shallow_water/src/python:/home/547/ma6611/.digitalearthau/dea-env/20200713/local/lib/python3.6/site-packages:/home/547/ma6611/.digitalearthau/dea-env/20200713/local/lib/python3.6/site-packages:/g/data/v10/public/modules/dea/20200828/lib/python3.6/site-packages/:/g/data/v10/public/modules/dea-env/20200713/share/qgis/python)\n"
     ]
    }
   ],
   "source": [
    "%%bash\n",
    "# wget https://stateoftheocean.osmc.noaa.gov/atm/data/soi.nc\n",
    "# wget https://stateoftheocean.osmc.noaa.gov/sur/data/dmi.nc\n",
    "# wget ftp://ftp.cpc.ncep.noaa.gov/cwlinks/norm.daily.aao.index.b790101.current.ascii"
   ]
  },
  {
   "cell_type": "markdown",
   "metadata": {},
   "source": [
    "Then read them in and convert to a daily time series."
   ]
  },
  {
   "cell_type": "code",
   "execution_count": 154,
   "metadata": {},
   "outputs": [],
   "source": [
    "soi = xarray.open_dataset('soi.nc').SOI\n",
    "soi = pd.DataFrame({'SOI': soi.to_pandas()})\n",
    "soi.index.name = 'Date'\n",
    "soi = soi.resample('1D').mean().ffill()\n",
    "soi = soi.reindex(dates)"
   ]
  },
  {
   "cell_type": "code",
   "execution_count": 155,
   "metadata": {},
   "outputs": [],
   "source": [
    "dmi = xarray.open_dataarray('dmi.nc')\n",
    "dmi = pd.DataFrame({'DMI': dmi.to_pandas()})\n",
    "dmi.index.name = 'Date'\n",
    "dmi = dmi.resample('1D').mean().ffill()\n",
    "dmi = dmi.reindex(dates)"
   ]
  },
  {
   "cell_type": "code",
   "execution_count": 156,
   "metadata": {},
   "outputs": [],
   "source": [
    "aao = pd.read_csv('norm.daily.aao.index.b790101.current.ascii', sep='\\s+', names=['Year', 'Month', 'Day', 'AAO'], skiprows=[8885])\n",
    "# 8885 has a bunch of asterisks instead of the AAO.\n",
    "aao_dates = pd.to_datetime(aao[['Year', 'Month', 'Day']])\n",
    "aao.index = aao_dates\n",
    "aao.index = np.array(aao.index).astype('datetime64[D]')\n",
    "aao = aao.resample('1D').mean().ffill()\n",
    "aao = aao.reindex(dates)"
   ]
  },
  {
   "cell_type": "markdown",
   "metadata": {},
   "source": [
    "## Calculate percentiles for El Nino, La Nina, etc.\n",
    "\n",
    "For each time series, calculate the percentiles. We haven't filled the NaNs so we will just ignore them and compute the percentiles as if we have perfect observations. This should be equivalent to certain imputation methods (those based on percentiles, specifically...).\n",
    "\n",
    "We assume that an absolute rolling monthly average $> 8$ indicates an ENSO phase, $> 0.4\\circ\\mathrm{C}$ indicates an IOD phase, and $> 0.5$ indicates a SAM phase."
   ]
  },
  {
   "cell_type": "markdown",
   "metadata": {},
   "source": [
    "The rolling window size is the indicative sustained time you need for a phase. For SAM this is about 4 weeks, and for ENSO it's a bit longer. I haven't found anything about the IOD! I assume it's much like ENSO."
   ]
  },
  {
   "cell_type": "code",
   "execution_count": 158,
   "metadata": {},
   "outputs": [],
   "source": [
    "rolling_aao = aao.AAO.rolling(28).mean()\n",
    "rolling_soi = soi.SOI.rolling(28 * 4).mean() * 10\n",
    "rolling_dmi = dmi.DMI.rolling(28 * 4).mean()"
   ]
  },
  {
   "cell_type": "code",
   "execution_count": 159,
   "metadata": {},
   "outputs": [],
   "source": [
    "el_nino = rolling_soi < -7\n",
    "la_nina = rolling_soi > 7\n",
    "neutral_enso = ~el_nino & ~la_nina & pd.notnull(rolling_soi)"
   ]
  },
  {
   "cell_type": "code",
   "execution_count": 160,
   "metadata": {},
   "outputs": [],
   "source": [
    "iod_neg = rolling_dmi < -0.4\n",
    "iod_pos = rolling_dmi > 0.4\n",
    "neutral_iod = ~iod_neg & ~iod_pos & pd.notnull(rolling_dmi)"
   ]
  },
  {
   "cell_type": "code",
   "execution_count": 161,
   "metadata": {},
   "outputs": [],
   "source": [
    "sam_neg = rolling_aao < -0.5\n",
    "sam_pos = rolling_aao > 0.5\n",
    "neutral_sam = ~sam_neg & ~sam_pos & pd.notnull(rolling_aao)"
   ]
  },
  {
   "cell_type": "code",
   "execution_count": 162,
   "metadata": {},
   "outputs": [],
   "source": [
    "phases = {\n",
    "    'El Niño': el_nino,\n",
    "    'La Niña': la_nina,\n",
    "    'Neutral ENSO': neutral_enso,\n",
    "    'Negative IOD': iod_neg,\n",
    "    'Positive IOD': iod_pos,\n",
    "    'Neutral IOD': neutral_iod,\n",
    "    'Negative SAM': sam_neg,\n",
    "    'Positive SAM': sam_pos,\n",
    "    'Neutral SAM': neutral_sam,\n",
    "}"
   ]
  },
  {
   "cell_type": "code",
   "execution_count": 163,
   "metadata": {},
   "outputs": [],
   "source": [
    "colours = {\n",
    "    'El Niño': 'red',\n",
    "    'La Niña': 'blue',\n",
    "    'Neutral ENSO': 'black',\n",
    "    'Negative IOD': 'red',\n",
    "    'Positive IOD': 'blue',\n",
    "    'Neutral IOD': 'black',\n",
    "    'Negative SAM': 'red',\n",
    "    'Positive SAM': 'blue',\n",
    "    'Neutral SAM': 'black',\n",
    "}"
   ]
  },
  {
   "cell_type": "code",
   "execution_count": 164,
   "metadata": {},
   "outputs": [
    {
     "data": {
      "text/plain": [
       "Text(0.5, 1.0, 'ENSO events')"
      ]
     },
     "execution_count": 164,
     "metadata": {},
     "output_type": "execute_result"
    },
    {
     "data": {
      "image/png": "[encoded data removed]",
      "text/plain": [
       "<Figure size 1080x288 with 1 Axes>"
      ]
     },
     "metadata": {
      "needs_background": "light"
     },
     "output_type": "display_data"
    }
   ],
   "source": [
    "legend_handles = []\n",
    "legend_names = []\n",
    "plt.figure(figsize=(15, 4))\n",
    "for name, mask in phases.items():\n",
    "    if 'Ni' not in name:  # ENSO\n",
    "        continue\n",
    "    if 'Neutral' in name:\n",
    "        continue\n",
    "    # https://stackoverflow.com/questions/24281936/delimiting-contiguous-regions-with-values-above-a-certain-threshold-in-pandas-da\n",
    "    # first row is a True preceded by a False\n",
    "    fst = mask.index[mask & ~mask.shift(1).fillna(False)]\n",
    "    # last row is a True followed by a False\n",
    "    lst = mask.index[mask & ~mask.shift(-1).fillna(False)]\n",
    "    for f, l in zip(fst, lst):\n",
    "        v = plt.axvspan(f, l, alpha=0.2, color=colours[name])\n",
    "    legend_handles.append(v)\n",
    "    legend_names.append(name)\n",
    "plt.legend(legend_handles, legend_names)\n",
    "plt.plot(rolling_soi.index, rolling_soi, c='k')\n",
    "plt.title('ENSO events')"
   ]
  },
  {
   "cell_type": "markdown",
   "metadata": {},
   "source": [
    "This is in broad agreement [with the BOM](http://www.bom.gov.au/climate/about/australian-climate-influences.shtml?bookmark=enso)."
   ]
  },
  {
   "cell_type": "code",
   "execution_count": 165,
   "metadata": {},
   "outputs": [
    {
     "data": {
      "text/plain": [
       "Text(0.5, 1.0, 'IOD events')"
      ]
     },
     "execution_count": 165,
     "metadata": {},
     "output_type": "execute_result"
    },
    {
     "data": {
      "image/png": "[encoded data removed]",
      "text/plain": [
       "<Figure size 1080x288 with 1 Axes>"
      ]
     },
     "metadata": {
      "needs_background": "light"
     },
     "output_type": "display_data"
    }
   ],
   "source": [
    "legend_handles = []\n",
    "legend_names = []\n",
    "plt.figure(figsize=(15, 4))\n",
    "for name, mask in phases.items():\n",
    "    if 'IOD' not in name:\n",
    "        continue\n",
    "    if 'Neutral' in name:\n",
    "        continue\n",
    "    fst = mask.index[mask & ~mask.shift(1).fillna(False)]\n",
    "    lst = mask.index[mask & ~mask.shift(-1).fillna(False)]\n",
    "    for f, l in zip(fst, lst):\n",
    "        v = plt.axvspan(f, l, alpha=0.2, color=colours[name])\n",
    "    legend_handles.append(v)\n",
    "    legend_names.append(name)\n",
    "plt.legend(legend_handles, legend_names)\n",
    "plt.plot(rolling_dmi.index, rolling_dmi, c='k')\n",
    "plt.title('IOD events')"
   ]
  },
  {
   "cell_type": "code",
   "execution_count": 166,
   "metadata": {},
   "outputs": [
    {
     "name": "stdout",
     "output_type": "stream",
     "text": [
      "El Niño: 3469 days\n",
      "La Niña: 3814 days\n",
      "Neutral ENSO: 4997 days\n",
      "Negative IOD: 1255 days\n",
      "Positive IOD: 2205 days\n",
      "Neutral IOD: 8820 days\n",
      "Negative SAM: 3093 days\n",
      "Positive SAM: 4461 days\n",
      "Neutral SAM: 4810 days\n"
     ]
    }
   ],
   "source": [
    "for name, phase in phases.items():\n",
    "    print(f'{name}: {sum(phase)} days')"
   ]
  },
  {
   "cell_type": "code",
   "execution_count": 167,
   "metadata": {},
   "outputs": [],
   "source": [
    "seasons = {\n",
    "    'Summer': dates.month.isin({12, 1, 2}),\n",
    "    'Autumn': dates.month.isin({3, 4, 5}),\n",
    "    'Winter': dates.month.isin({6, 7, 8}),\n",
    "    'Spring': dates.month.isin({9, 10, 11}),\n",
    "}"
   ]
  },
  {
   "cell_type": "code",
   "execution_count": 168,
   "metadata": {},
   "outputs": [],
   "source": [
    "waterbody_percentiles_seasonal = {season: {name: np.zeros((len(waterbodies), 10)) for name in phases} for season in seasons}"
   ]
  },
  {
   "cell_type": "code",
   "execution_count": 169,
   "metadata": {},
   "outputs": [],
   "source": [
    "waterbody_percentiles_annual = {name: np.zeros((len(waterbodies), 10)) for name in phases}"
   ]
  },
  {
   "cell_type": "code",
   "execution_count": 176,
   "metadata": {},
   "outputs": [
    {
     "data": {
      "application/vnd.jupyter.widget-view+json": {
       "model_id": "68e5f5e7b7a44baa923554073409b475",
       "version_major": 2,
       "version_minor": 0
      },
      "text/plain": [
       "HBox(children=(FloatProgress(value=0.0, max=456.0), HTML(value='')))"
      ]
     },
     "metadata": {},
     "output_type": "display_data"
    },
    {
     "name": "stdout",
     "output_type": "stream",
     "text": [
      "Couldn't find data for Carpentaria Coast/NONE\n",
      "Couldn't find data for Lake Eyre Basin/NONE\n",
      "Couldn't find data for Murray-Darling Basin/NONE\n",
      "Couldn't find data for North East Coast/NONE\n",
      "Couldn't find data for North Western Plateau/NONE\n",
      "Couldn't find data for Pilbara-Gascoyne/NONE\n",
      "Couldn't find data for South Australian Gulf/NONE\n",
      "Couldn't find data for South East Coast (NSW)/NONE\n",
      "Couldn't find data for South East Coast (Victoria)/NONE\n",
      "Couldn't find data for South West Coast/NONE\n",
      "Couldn't find data for South Western Plateau/NONE\n",
      "Couldn't find data for Tanami-Timor Sea Coast/NONE\n",
      "Couldn't find data for Tasmania/NONE\n",
      "\n"
     ]
    }
   ],
   "source": [
    "for (div, basin), _ in tqdm(waterbodies.groupby(['Division_', 'BNAME'])):\n",
    "    try:\n",
    "        for name, mask in phases.items():\n",
    "            for season, season_mask in seasons.items():\n",
    "                percentiles = np.nanpercentile(history_file[div][basin]['pc_wet'][:, season_mask & mask.values], np.linspace(0, 100, 10), axis=1)\n",
    "                waterbody_percentiles_seasonal[season][name][(waterbodies.Division_ == div) & (waterbodies.BNAME == basin)] = percentiles.T\n",
    "\n",
    "            percentiles = np.nanpercentile(history_file[div][basin]['pc_wet'][:, mask.values], np.linspace(0, 100, 10), axis=1)\n",
    "            waterbody_percentiles_annual[name][(waterbodies.Division_ == div) & (waterbodies.BNAME == basin)] = percentiles.T\n",
    "    except KeyError:\n",
    "        print('Couldn\\'t find data for {}/{}'.format(div, basin))\n",
    "        continue"
   ]
  },
  {
   "cell_type": "code",
   "execution_count": 191,
   "metadata": {},
   "outputs": [
    {
     "data": {
      "text/plain": [
       "['annual_waterbody_percentiles_10.joblib']"
      ]
     },
     "execution_count": 191,
     "metadata": {},
     "output_type": "execute_result"
    }
   ],
   "source": [
    "import joblib\n",
    "joblib.dump(waterbody_percentiles_seasonal, 'seasonal_waterbody_percentiles_10.joblib')\n",
    "joblib.dump(waterbody_percentiles_annual, 'annual_waterbody_percentiles_10.joblib')\n",
    "# waterbody_percentiles = joblib.load('seasonal_annual_waterbody_percentiles_10.joblib')"
   ]
  },
  {
   "cell_type": "markdown",
   "metadata": {},
   "source": [
    "## Deviation from neutral\n",
    "\n",
    "Now measure the QQ deviation from neutral for El Nino and La Nina."
   ]
  },
  {
   "cell_type": "code",
   "execution_count": 193,
   "metadata": {},
   "outputs": [],
   "source": [
    "deviations_seasonal = {season: {} for season in waterbody_percentiles}\n",
    "deviations_annual = {season: {} for season in waterbody_percentiles}\n",
    "\n",
    "neutral_map = {\n",
    "    'El Niño': 'Neutral ENSO',\n",
    "    'La Niña': 'Neutral ENSO',\n",
    "    'Negative IOD': 'Neutral IOD',\n",
    "    'Positive IOD': 'Neutral IOD',\n",
    "    'Negative SAM': 'Neutral SAM',\n",
    "    'Positive SAM': 'Neutral SAM',\n",
    "}\n",
    "\n",
    "for season, wbps in waterbody_percentiles_seasonal.items():\n",
    "    for name, percentiles in wbps.items():\n",
    "        if 'Neutral' in name:\n",
    "            continue\n",
    "        # Percentiles is N x P.\n",
    "        deviations_seasonal[season][name] = np.sqrt(((percentiles / 100 - wbps[neutral_map[name]] / 100) ** 2).mean(axis=1) / 2)\n",
    "\n",
    "for name, percentiles in waterbody_percentiles_annual.items():\n",
    "    if 'Neutral' in name:\n",
    "        continue\n",
    "    deviations_annual[name] = np.sqrt(((percentiles / 100 - waterbody_percentiles_annual[neutral_map[name]] / 100) ** 2).mean(axis=1) / 2)"
   ]
  },
  {
   "cell_type": "code",
   "execution_count": 218,
   "metadata": {},
   "outputs": [],
   "source": [
    "deviations_seasonal['Annual'] = deviations_annual"
   ]
  },
  {
   "cell_type": "code",
   "execution_count": 243,
   "metadata": {},
   "outputs": [],
   "source": [
    "# https://stackoverflow.com/a/61089196\n",
    "deviation_df = pd.DataFrame(deviations_seasonal).stack().to_frame()\n",
    "deviation_df = pd.DataFrame(deviation_df[0].values.tolist(), index=deviation_df.index).swaplevel()\n",
    "deviation_df = deviation_df.sort_index()\n",
    "deviation_df = deviation_df.T\n",
    "deviation_df.index = waterbodies.index"
   ]
  },
  {
   "cell_type": "code",
   "execution_count": 245,
   "metadata": {},
   "outputs": [
    {
     "name": "stderr",
     "output_type": "stream",
     "text": [
      "/g/data/v10/public/modules/dea-env/20200713/lib/python3.6/site-packages/pandas/core/reshape/merge.py:618: UserWarning: merging between different levels can give an unintended result (2 levels on the left, 1 on the right)\n",
      "  warnings.warn(msg, UserWarning)\n"
     ]
    }
   ],
   "source": [
    "deviation_df = deviation_df.join(waterbodies[['geometry', 'Division_', 'BNAME']])"
   ]
  },
  {
   "cell_type": "markdown",
   "metadata": {},
   "source": [
    "Export the deviations at GeoJSON so we can load them into something."
   ]
  },
  {
   "cell_type": "code",
   "execution_count": 253,
   "metadata": {},
   "outputs": [],
   "source": [
    "for season in list(seasons) + ['Annual']:\n",
    "    deviation_df[season, 'ENSO'] = np.sqrt(deviation_df[season, 'El Niño'] ** 2 + deviation_df[season, 'La Niña'] ** 2)\n",
    "    deviation_df[season, 'IOD'] = np.sqrt(deviation_df[season, 'Positive IOD'] ** 2 + deviation_df[season, 'Negative IOD'] ** 2)\n",
    "    deviation_df[season, 'SAM'] = np.sqrt(deviation_df[season, 'Positive SAM'] ** 2 + deviation_df[season, 'Negative SAM'] ** 2)"
   ]
  },
  {
   "cell_type": "code",
   "execution_count": 254,
   "metadata": {},
   "outputs": [],
   "source": [
    "ascii_df = deviation_df.copy()\n",
    "ascii_df.columns = [' '.join(column).replace('ñ', 'n') if isinstance(column, tuple) else column.replace('ñ', 'n') for column in deviation_df.columns]"
   ]
  },
  {
   "cell_type": "code",
   "execution_count": 255,
   "metadata": {},
   "outputs": [],
   "source": [
    "ascii_df.columns = [c.replace('Autumn ', 'Aut').replace('Summer ', 'Sum').replace('Spring ', 'Spr').replace('Winter ', 'Win')\\\n",
    "                    .replace('El Nino', 'ElNino').replace('La Nina', 'LaNina').replace('Negative ', '-').replace('Positive ', '+')\\\n",
    "                    .replace(' deviation', 'Dev') for c in ascii_df.columns]"
   ]
  },
  {
   "cell_type": "code",
   "execution_count": 262,
   "metadata": {},
   "outputs": [],
   "source": [
    "gpd.GeoDataFrame(ascii_df).to_file('climate_index_deviations.shp')"
   ]
  },
  {
   "cell_type": "markdown",
   "metadata": {},
   "source": [
    "## Aggregate into basins\n",
    "\n",
    "Merge all the basins together by taking the mean."
   ]
  },
  {
   "cell_type": "code",
   "execution_count": 256,
   "metadata": {},
   "outputs": [],
   "source": [
    "basin_deviations = ascii_df.groupby('BNAME').mean()"
   ]
  },
  {
   "cell_type": "markdown",
   "metadata": {},
   "source": [
    "Then merge these with the geometries of the basins."
   ]
  },
  {
   "cell_type": "code",
   "execution_count": 257,
   "metadata": {},
   "outputs": [],
   "source": [
    "basins = gpd.read_file('river_basins_ga_1997_aggregated.geojson')"
   ]
  },
  {
   "cell_type": "code",
   "execution_count": 258,
   "metadata": {},
   "outputs": [],
   "source": [
    "basin_deviations = basins.set_index('BNAME').join(basin_deviations)"
   ]
  },
  {
   "cell_type": "code",
   "execution_count": 261,
   "metadata": {},
   "outputs": [
    {
     "data": {
      "text/html": [
       "<div>\n",
       "<style scoped>\n",
       "    .dataframe tbody tr th:only-of-type {\n",
       "        vertical-align: middle;\n",
       "    }\n",
       "\n",
       "    .dataframe tbody tr th {\n",
       "        vertical-align: top;\n",
       "    }\n",
       "\n",
       "    .dataframe thead th {\n",
       "        text-align: right;\n",
       "    }\n",
       "</style>\n",
       "<table border=\"1\" class=\"dataframe\">\n",
       "  <thead>\n",
       "    <tr style=\"text-align: right;\">\n",
       "      <th></th>\n",
       "      <th>fid</th>\n",
       "      <th>AREA</th>\n",
       "      <th>PERIMETER</th>\n",
       "      <th>AUS_</th>\n",
       "      <th>AUS_ID</th>\n",
       "      <th>F_CODE</th>\n",
       "      <th>BNUM</th>\n",
       "      <th>RNAME</th>\n",
       "      <th>RNUM</th>\n",
       "      <th>DNAME</th>\n",
       "      <th>...</th>\n",
       "      <th>AutSAM</th>\n",
       "      <th>WinENSO</th>\n",
       "      <th>WinIOD</th>\n",
       "      <th>WinSAM</th>\n",
       "      <th>SprENSO</th>\n",
       "      <th>SprIOD</th>\n",
       "      <th>SprSAM</th>\n",
       "      <th>Annual ENSO</th>\n",
       "      <th>Annual IOD</th>\n",
       "      <th>Annual SAM</th>\n",
       "    </tr>\n",
       "    <tr>\n",
       "      <th>BNAME</th>\n",
       "      <th></th>\n",
       "      <th></th>\n",
       "      <th></th>\n",
       "      <th></th>\n",
       "      <th></th>\n",
       "      <th></th>\n",
       "      <th></th>\n",
       "      <th></th>\n",
       "      <th></th>\n",
       "      <th></th>\n",
       "      <th></th>\n",
       "      <th></th>\n",
       "      <th></th>\n",
       "      <th></th>\n",
       "      <th></th>\n",
       "      <th></th>\n",
       "      <th></th>\n",
       "      <th></th>\n",
       "      <th></th>\n",
       "      <th></th>\n",
       "      <th></th>\n",
       "    </tr>\n",
       "  </thead>\n",
       "  <tbody>\n",
       "    <tr>\n",
       "      <th>ADELAIDE RIVER</th>\n",
       "      <td>1</td>\n",
       "      <td>0.621570</td>\n",
       "      <td>5.074124</td>\n",
       "      <td>95</td>\n",
       "      <td>94</td>\n",
       "      <td>dbasin_cent</td>\n",
       "      <td>17</td>\n",
       "      <td>DARWIN</td>\n",
       "      <td>F</td>\n",
       "      <td>TIMOR SEA</td>\n",
       "      <td>...</td>\n",
       "      <td>0.069369</td>\n",
       "      <td>0.108983</td>\n",
       "      <td>0.116300</td>\n",
       "      <td>0.073881</td>\n",
       "      <td>0.099767</td>\n",
       "      <td>0.085184</td>\n",
       "      <td>0.053174</td>\n",
       "      <td>0.089917</td>\n",
       "      <td>0.092842</td>\n",
       "      <td>0.043283</td>\n",
       "    </tr>\n",
       "    <tr>\n",
       "      <th>ALBANY COAST</th>\n",
       "      <td>2</td>\n",
       "      <td>1.917121</td>\n",
       "      <td>10.158938</td>\n",
       "      <td>1040</td>\n",
       "      <td>1072</td>\n",
       "      <td>dbasin_cent</td>\n",
       "      <td>2</td>\n",
       "      <td>ALBANY</td>\n",
       "      <td>B</td>\n",
       "      <td>SOUTH-WEST COAST</td>\n",
       "      <td>...</td>\n",
       "      <td>0.063275</td>\n",
       "      <td>0.122960</td>\n",
       "      <td>0.154855</td>\n",
       "      <td>0.077725</td>\n",
       "      <td>0.116966</td>\n",
       "      <td>0.129868</td>\n",
       "      <td>0.075804</td>\n",
       "      <td>0.076688</td>\n",
       "      <td>0.103720</td>\n",
       "      <td>0.036027</td>\n",
       "    </tr>\n",
       "    <tr>\n",
       "      <th>ARCHER RIVER</th>\n",
       "      <td>3</td>\n",
       "      <td>1.156676</td>\n",
       "      <td>6.761848</td>\n",
       "      <td>137</td>\n",
       "      <td>136</td>\n",
       "      <td>dbasin_cent</td>\n",
       "      <td>22</td>\n",
       "      <td>WEIPA</td>\n",
       "      <td>H</td>\n",
       "      <td>GULF OF CARPENTARIA</td>\n",
       "      <td>...</td>\n",
       "      <td>0.073914</td>\n",
       "      <td>0.094429</td>\n",
       "      <td>0.144525</td>\n",
       "      <td>0.066981</td>\n",
       "      <td>0.075132</td>\n",
       "      <td>0.075993</td>\n",
       "      <td>0.046950</td>\n",
       "      <td>0.068572</td>\n",
       "      <td>0.120823</td>\n",
       "      <td>0.052192</td>\n",
       "    </tr>\n",
       "    <tr>\n",
       "      <th>ARTHUR RIVER</th>\n",
       "      <td>4</td>\n",
       "      <td>0.268317</td>\n",
       "      <td>3.525179</td>\n",
       "      <td>1247</td>\n",
       "      <td>1279</td>\n",
       "      <td>dbasin_cent</td>\n",
       "      <td>12</td>\n",
       "      <td>GORDON</td>\n",
       "      <td>C</td>\n",
       "      <td>TASMANIA</td>\n",
       "      <td>...</td>\n",
       "      <td>0.062704</td>\n",
       "      <td>0.156620</td>\n",
       "      <td>0.163507</td>\n",
       "      <td>0.078952</td>\n",
       "      <td>0.106606</td>\n",
       "      <td>0.097984</td>\n",
       "      <td>0.056377</td>\n",
       "      <td>0.091722</td>\n",
       "      <td>0.103769</td>\n",
       "      <td>0.031508</td>\n",
       "    </tr>\n",
       "    <tr>\n",
       "      <th>ASHBURTON RIVER</th>\n",
       "      <td>5</td>\n",
       "      <td>6.684978</td>\n",
       "      <td>20.541601</td>\n",
       "      <td>777</td>\n",
       "      <td>779</td>\n",
       "      <td>dbasin_cent</td>\n",
       "      <td>6</td>\n",
       "      <td>PILBARA</td>\n",
       "      <td>D</td>\n",
       "      <td>INDIAN OCEAN</td>\n",
       "      <td>...</td>\n",
       "      <td>0.073561</td>\n",
       "      <td>0.102895</td>\n",
       "      <td>0.176993</td>\n",
       "      <td>0.073946</td>\n",
       "      <td>0.088370</td>\n",
       "      <td>0.090704</td>\n",
       "      <td>0.054605</td>\n",
       "      <td>0.106590</td>\n",
       "      <td>0.118280</td>\n",
       "      <td>0.055664</td>\n",
       "    </tr>\n",
       "    <tr>\n",
       "      <th>...</th>\n",
       "      <td>...</td>\n",
       "      <td>...</td>\n",
       "      <td>...</td>\n",
       "      <td>...</td>\n",
       "      <td>...</td>\n",
       "      <td>...</td>\n",
       "      <td>...</td>\n",
       "      <td>...</td>\n",
       "      <td>...</td>\n",
       "      <td>...</td>\n",
       "      <td>...</td>\n",
       "      <td>...</td>\n",
       "      <td>...</td>\n",
       "      <td>...</td>\n",
       "      <td>...</td>\n",
       "      <td>...</td>\n",
       "      <td>...</td>\n",
       "      <td>...</td>\n",
       "      <td>...</td>\n",
       "      <td>...</td>\n",
       "      <td>...</td>\n",
       "    </tr>\n",
       "    <tr>\n",
       "      <th>WISO</th>\n",
       "      <td>241</td>\n",
       "      <td>19.734627</td>\n",
       "      <td>27.233273</td>\n",
       "      <td>496</td>\n",
       "      <td>495</td>\n",
       "      <td>dbasin_cent</td>\n",
       "      <td>8</td>\n",
       "      <td>TENNANT</td>\n",
       "      <td>E</td>\n",
       "      <td>WESTERN PLATEAU</td>\n",
       "      <td>...</td>\n",
       "      <td>0.082418</td>\n",
       "      <td>0.143085</td>\n",
       "      <td>0.233350</td>\n",
       "      <td>0.081162</td>\n",
       "      <td>0.114411</td>\n",
       "      <td>0.108176</td>\n",
       "      <td>0.058651</td>\n",
       "      <td>0.097553</td>\n",
       "      <td>0.134599</td>\n",
       "      <td>0.050025</td>\n",
       "    </tr>\n",
       "    <tr>\n",
       "      <th>WOLLONGONG COAST</th>\n",
       "      <td>242</td>\n",
       "      <td>0.077403</td>\n",
       "      <td>2.510520</td>\n",
       "      <td>1075</td>\n",
       "      <td>1107</td>\n",
       "      <td>dbasin_cent</td>\n",
       "      <td>14</td>\n",
       "      <td>SYDNEY</td>\n",
       "      <td>C</td>\n",
       "      <td>SOUTH-EAST COAST</td>\n",
       "      <td>...</td>\n",
       "      <td>0.067998</td>\n",
       "      <td>0.122186</td>\n",
       "      <td>0.127069</td>\n",
       "      <td>0.069922</td>\n",
       "      <td>0.086115</td>\n",
       "      <td>0.101189</td>\n",
       "      <td>0.054539</td>\n",
       "      <td>0.070116</td>\n",
       "      <td>0.081408</td>\n",
       "      <td>0.035914</td>\n",
       "    </tr>\n",
       "    <tr>\n",
       "      <th>WOORAMEL RIVER</th>\n",
       "      <td>243</td>\n",
       "      <td>0.003708</td>\n",
       "      <td>0.557482</td>\n",
       "      <td>854</td>\n",
       "      <td>880</td>\n",
       "      <td>island_cent</td>\n",
       "      <td>3</td>\n",
       "      <td>MURCHISON-SHARK BAY</td>\n",
       "      <td>B</td>\n",
       "      <td>INDIAN OCEAN</td>\n",
       "      <td>...</td>\n",
       "      <td>0.074374</td>\n",
       "      <td>0.201591</td>\n",
       "      <td>0.138050</td>\n",
       "      <td>0.088203</td>\n",
       "      <td>0.129802</td>\n",
       "      <td>0.139150</td>\n",
       "      <td>0.054345</td>\n",
       "      <td>0.144037</td>\n",
       "      <td>0.099034</td>\n",
       "      <td>0.043484</td>\n",
       "    </tr>\n",
       "    <tr>\n",
       "      <th>YARRA RIVER</th>\n",
       "      <td>244</td>\n",
       "      <td>0.419823</td>\n",
       "      <td>4.236570</td>\n",
       "      <td>1156</td>\n",
       "      <td>1188</td>\n",
       "      <td>dbasin_cent</td>\n",
       "      <td>29</td>\n",
       "      <td>MELBOURNE</td>\n",
       "      <td>F</td>\n",
       "      <td>SOUTH-EAST COAST</td>\n",
       "      <td>...</td>\n",
       "      <td>0.065140</td>\n",
       "      <td>0.162616</td>\n",
       "      <td>0.150228</td>\n",
       "      <td>0.088723</td>\n",
       "      <td>0.109559</td>\n",
       "      <td>0.140417</td>\n",
       "      <td>0.061872</td>\n",
       "      <td>0.093102</td>\n",
       "      <td>0.099681</td>\n",
       "      <td>0.039310</td>\n",
       "    </tr>\n",
       "    <tr>\n",
       "      <th>YARRA YARRA LAKES</th>\n",
       "      <td>245</td>\n",
       "      <td>3.902562</td>\n",
       "      <td>11.737216</td>\n",
       "      <td>945</td>\n",
       "      <td>969</td>\n",
       "      <td>dbasin_cent</td>\n",
       "      <td>18</td>\n",
       "      <td>AVON</td>\n",
       "      <td>G</td>\n",
       "      <td>SOUTH-WEST COAST</td>\n",
       "      <td>...</td>\n",
       "      <td>0.071069</td>\n",
       "      <td>0.188073</td>\n",
       "      <td>0.188135</td>\n",
       "      <td>0.104465</td>\n",
       "      <td>0.145971</td>\n",
       "      <td>0.152929</td>\n",
       "      <td>0.088589</td>\n",
       "      <td>0.101332</td>\n",
       "      <td>0.107621</td>\n",
       "      <td>0.047139</td>\n",
       "    </tr>\n",
       "  </tbody>\n",
       "</table>\n",
       "<p>245 rows × 59 columns</p>\n",
       "</div>"
      ],
      "text/plain": [
       "                   fid       AREA  PERIMETER  AUS_  AUS_ID       F_CODE BNUM  \\\n",
       "BNAME                                                                          \n",
       "ADELAIDE RIVER       1   0.621570   5.074124    95      94  dbasin_cent   17   \n",
       "ALBANY COAST         2   1.917121  10.158938  1040    1072  dbasin_cent    2   \n",
       "ARCHER RIVER         3   1.156676   6.761848   137     136  dbasin_cent   22   \n",
       "ARTHUR RIVER         4   0.268317   3.525179  1247    1279  dbasin_cent   12   \n",
       "ASHBURTON RIVER      5   6.684978  20.541601   777     779  dbasin_cent    6   \n",
       "...                ...        ...        ...   ...     ...          ...  ...   \n",
       "WISO               241  19.734627  27.233273   496     495  dbasin_cent    8   \n",
       "WOLLONGONG COAST   242   0.077403   2.510520  1075    1107  dbasin_cent   14   \n",
       "WOORAMEL RIVER     243   0.003708   0.557482   854     880  island_cent    3   \n",
       "YARRA RIVER        244   0.419823   4.236570  1156    1188  dbasin_cent   29   \n",
       "YARRA YARRA LAKES  245   3.902562  11.737216   945     969  dbasin_cent   18   \n",
       "\n",
       "                                 RNAME RNUM                DNAME  ...  \\\n",
       "BNAME                                                             ...   \n",
       "ADELAIDE RIVER                  DARWIN    F            TIMOR SEA  ...   \n",
       "ALBANY COAST                    ALBANY    B     SOUTH-WEST COAST  ...   \n",
       "ARCHER RIVER                     WEIPA    H  GULF OF CARPENTARIA  ...   \n",
       "ARTHUR RIVER                    GORDON    C             TASMANIA  ...   \n",
       "ASHBURTON RIVER                PILBARA    D         INDIAN OCEAN  ...   \n",
       "...                                ...  ...                  ...  ...   \n",
       "WISO                           TENNANT    E      WESTERN PLATEAU  ...   \n",
       "WOLLONGONG COAST                SYDNEY    C     SOUTH-EAST COAST  ...   \n",
       "WOORAMEL RIVER     MURCHISON-SHARK BAY    B         INDIAN OCEAN  ...   \n",
       "YARRA RIVER                  MELBOURNE    F     SOUTH-EAST COAST  ...   \n",
       "YARRA YARRA LAKES                 AVON    G     SOUTH-WEST COAST  ...   \n",
       "\n",
       "                     AutSAM   WinENSO    WinIOD    WinSAM   SprENSO    SprIOD  \\\n",
       "BNAME                                                                           \n",
       "ADELAIDE RIVER     0.069369  0.108983  0.116300  0.073881  0.099767  0.085184   \n",
       "ALBANY COAST       0.063275  0.122960  0.154855  0.077725  0.116966  0.129868   \n",
       "ARCHER RIVER       0.073914  0.094429  0.144525  0.066981  0.075132  0.075993   \n",
       "ARTHUR RIVER       0.062704  0.156620  0.163507  0.078952  0.106606  0.097984   \n",
       "ASHBURTON RIVER    0.073561  0.102895  0.176993  0.073946  0.088370  0.090704   \n",
       "...                     ...       ...       ...       ...       ...       ...   \n",
       "WISO               0.082418  0.143085  0.233350  0.081162  0.114411  0.108176   \n",
       "WOLLONGONG COAST   0.067998  0.122186  0.127069  0.069922  0.086115  0.101189   \n",
       "WOORAMEL RIVER     0.074374  0.201591  0.138050  0.088203  0.129802  0.139150   \n",
       "YARRA RIVER        0.065140  0.162616  0.150228  0.088723  0.109559  0.140417   \n",
       "YARRA YARRA LAKES  0.071069  0.188073  0.188135  0.104465  0.145971  0.152929   \n",
       "\n",
       "                     SprSAM  Annual ENSO  Annual IOD  Annual SAM  \n",
       "BNAME                                                             \n",
       "ADELAIDE RIVER     0.053174     0.089917    0.092842    0.043283  \n",
       "ALBANY COAST       0.075804     0.076688    0.103720    0.036027  \n",
       "ARCHER RIVER       0.046950     0.068572    0.120823    0.052192  \n",
       "ARTHUR RIVER       0.056377     0.091722    0.103769    0.031508  \n",
       "ASHBURTON RIVER    0.054605     0.106590    0.118280    0.055664  \n",
       "...                     ...          ...         ...         ...  \n",
       "WISO               0.058651     0.097553    0.134599    0.050025  \n",
       "WOLLONGONG COAST   0.054539     0.070116    0.081408    0.035914  \n",
       "WOORAMEL RIVER     0.054345     0.144037    0.099034    0.043484  \n",
       "YARRA RIVER        0.061872     0.093102    0.099681    0.039310  \n",
       "YARRA YARRA LAKES  0.088589     0.101332    0.107621    0.047139  \n",
       "\n",
       "[245 rows x 59 columns]"
      ]
     },
     "execution_count": 261,
     "metadata": {},
     "output_type": "execute_result"
    }
   ],
   "source": [
    "basin_deviations"
   ]
  },
  {
   "cell_type": "code",
   "execution_count": 260,
   "metadata": {},
   "outputs": [],
   "source": [
    "gpd.GeoDataFrame(basin_deviations).to_file('climate_index_deviations_basins.shp')"
   ]
  },
  {
   "cell_type": "markdown",
   "metadata": {},
   "source": [
    "And a colour scheme..."
   ]
  },
  {
   "cell_type": "code",
   "execution_count": 303,
   "metadata": {},
   "outputs": [],
   "source": [
    "from scipy.spatial.transform import Rotation"
   ]
  },
  {
   "cell_type": "code",
   "execution_count": 328,
   "metadata": {},
   "outputs": [],
   "source": [
    "def plot_legend():\n",
    "    basis = np.array([[0.0, 1.0], [-1.5/np.sqrt(3), -0.5],[1.5/np.sqrt(3), -0.5]])\n",
    "\n",
    "    fig = plt.figure()\n",
    "    ax1 = fig.add_subplot(1, 2, 1, aspect='equal')\n",
    "    ax2 = fig.add_subplot(1, 2, 2, aspect='equal')\n",
    "\n",
    "    # Plot points\n",
    "    a, b, c = np.mgrid[0.0:1.0:15j, 0.0:1.0:15j, 0.0:1.0:15j]\n",
    "    a, b, c = a.flatten(), b.flatten(), c.flatten()\n",
    "    abc = np.stack([a,b,c]).T\n",
    "    data = np.dot(abc, basis)\n",
    "    rgbs = np.stack([\n",
    "        a,\n",
    "        b,\n",
    "        c,\n",
    "    ]).T    \n",
    "    mask = np.sum(rgbs, axis=1) >= 1\n",
    "    ax1.scatter(data[:, 0], data[:, 1], c=rgbs[:])\n",
    "#     rmat = Rotation.from_euler('x', 180, degrees=True).as_matrix()\n",
    "    rmat = Rotation.from_euler('y', 180, degrees=True).as_matrix()\n",
    "#     basis = rmat @ basis\n",
    "#     data = np.dot(abc, basis)\n",
    "    ax2.scatter(data[::-1, 0], data[::-1, 1], c=rgbs[::-1])\n",
    "#     #abc = filter(lambda x: x[0]+x[1]+x[2]==1, abc) # remove points outside triangle\n",
    "#     abc = [x/sum(x) for x in abc] # or just make sure points lie inside triangle ...\n",
    "\n",
    "#     data = np.dot(abc, basis)\n",
    "#     colours = [abc_to_rgb(A=point[0],B=point[1],C=point[2]) for point in abc]\n",
    "\n",
    "#     ax.scatter(data[:,0], data[:,1],marker=',',edgecolors='none',facecolors=colours)\n",
    "\n",
    "#     # Plot triangle\n",
    "#     ax.plot([basis[_,0] for _ in range(3) + [0,]],[basis[_,1] for _ in range(3) + [0,]],**{'color':'black','linewidth':3})\n",
    "\n",
    "#     # Plot labels at vertices\n",
    "#     offset = 0.25\n",
    "#     fontsize = 32\n",
    "#     ax.text(basis[0,0]*(1+offset), basis[0,1]*(1+offset), '$A$', horizontalalignment='center',\n",
    "#             verticalalignment='center', fontsize=fontsize)\n",
    "#     ax.text(basis[1,0]*(1+offset), basis[1,1]*(1+offset), '$B$', horizontalalignment='center',\n",
    "#             verticalalignment='center', fontsize=fontsize)\n",
    "#     ax.text(basis[2,0]*(1+offset), basis[2,1]*(1+offset), '$C$', horizontalalignment='center',\n",
    "#             verticalalignment='center', fontsize=fontsize)    \n",
    "\n",
    "#     ax.set_frame_on(False)\n",
    "#     ax.set_xticks(())\n",
    "#     ax.set_yticks(())\n",
    "\n",
    "#     plt.show()"
   ]
  },
  {
   "cell_type": "code",
   "execution_count": 329,
   "metadata": {},
   "outputs": [
    {
     "data": {
      "image/png": "[encoded data removed]",
      "text/plain": [
       "<Figure size 432x288 with 2 Axes>"
      ]
     },
     "metadata": {
      "needs_background": "light"
     },
     "output_type": "display_data"
    }
   ],
   "source": [
    "plot_legend()"
   ]
  },
  {
   "cell_type": "markdown",
   "metadata": {},
   "source": [
    "Now let's plot these spatially. We'll rasterise everything."
   ]
  },
  {
   "cell_type": "code",
   "execution_count": 57,
   "metadata": {},
   "outputs": [],
   "source": [
    "centroids = waterbodies.centroid\n",
    "xmin, xmax = centroids.x.min(), centroids.x.max()\n",
    "ymin, ymax = centroids.y.min(), centroids.y.max()"
   ]
  },
  {
   "cell_type": "code",
   "execution_count": 58,
   "metadata": {},
   "outputs": [],
   "source": [
    "xs = np.linspace(xmin, xmax, 1000)"
   ]
  },
  {
   "cell_type": "code",
   "execution_count": 59,
   "metadata": {},
   "outputs": [],
   "source": [
    "ys = np.linspace(ymin, ymax, 1000)"
   ]
  },
  {
   "cell_type": "code",
   "execution_count": 61,
   "metadata": {},
   "outputs": [],
   "source": [
    "X, Y = np.meshgrid(xs, ys)"
   ]
  },
  {
   "cell_type": "code",
   "execution_count": 65,
   "metadata": {},
   "outputs": [],
   "source": [
    "ones = xarray.DataArray(np.ones((len(xs), len(ys))), coords={'x': xs, 'y': ys}, dims=['y', 'x'])"
   ]
  },
  {
   "cell_type": "code",
   "execution_count": 91,
   "metadata": {},
   "outputs": [],
   "source": [
    "def transform_from_latlon(lat, lon):\n",
    "    import affine\n",
    "    # https://github.com/pydata/xarray/issues/501\n",
    "    lat = np.asarray(lat)\n",
    "    lon = np.asarray(lon)\n",
    "    trans = affine.Affine.translation(lon[0], lat[0])\n",
    "    scale = affine.Affine.scale(lon[1] - lon[0], lat[1] - lat[0])\n",
    "    return trans * scale\n",
    "\n",
    "transform = transform_from_latlon(ys, xs)\n",
    "out_shape = (len(ys), len(xs))\n",
    "\n",
    "def get_mask(shape):\n",
    "    return rasterio.features.rasterize([shape], out_shape=out_shape, fill=0, default_value=1, transform=transform, dtype=float, all_touched=True)"
   ]
  },
  {
   "cell_type": "code",
   "execution_count": 103,
   "metadata": {},
   "outputs": [],
   "source": [
    "m2_per_px = (ys[1] - ys[0]) * (xs[1] - xs[0])"
   ]
  },
  {
   "cell_type": "code",
   "execution_count": 131,
   "metadata": {},
   "outputs": [],
   "source": [
    "concerns = ['El Niño deviation', 'La Niña deviation',\n",
    "       'Negative IOD deviation', 'Positive IOD deviation',\n",
    "       'Negative SAM deviation', 'Positive SAM deviation', 'ENSO deviation',\n",
    "       'IOD deviation', 'SAM deviation']"
   ]
  },
  {
   "cell_type": "code",
   "execution_count": null,
   "metadata": {},
   "outputs": [
    {
     "data": {
      "application/vnd.jupyter.widget-view+json": {
       "model_id": "e9f458020999470197f3728412c7d3a3",
       "version_major": 2,
       "version_minor": 0
      },
      "text/plain": [
       "HBox(children=(FloatProgress(value=0.0, max=295902.0), HTML(value='')))"
      ]
     },
     "metadata": {},
     "output_type": "display_data"
    }
   ],
   "source": [
    "total_weight = np.zeros(X.shape)\n",
    "total_weighted_value = {col: np.zeros(X.shape) for col in deviation_df.columns}\n",
    "total_value = {col: np.zeros(X.shape) for col in deviation_df.columns}\n",
    "total_count = np.zeros(X.shape)\n",
    "\n",
    "# gulf = deviation_df[deviation_df.Division__ == 'South Australian Gulf']\n",
    "for uid, dfr in tqdm(deviation_df.iterrows(), total=len(deviation_df)):\n",
    "    mask = get_mask(dfr.geometry)\n",
    "    mask_area = mask.sum() * m2_per_px\n",
    "    weight = waterbody.area / mask_area\n",
    "    mask_ = mask > 0\n",
    "    total_weight[mask_] += weight\n",
    "    total_count[mask_] += 1\n",
    "    for col in concerns:\n",
    "        total_weighted_value[col][mask_] += dfr[col]\n",
    "        total_value[col][mask_] += weight * dfr[col]"
   ]
  },
  {
   "cell_type": "code",
   "execution_count": 190,
   "metadata": {},
   "outputs": [
    {
     "name": "stderr",
     "output_type": "stream",
     "text": [
      "/g/data/v10/public/modules/dea-env/20200713/lib/python3.6/site-packages/ipykernel_launcher.py:1: RuntimeWarning: invalid value encountered in true_divide\n",
      "  \"\"\"Entry point for launching an IPython kernel.\n",
      "/g/data/v10/public/modules/dea-env/20200713/lib/python3.6/site-packages/ipykernel_launcher.py:7: RuntimeWarning: More than 20 figures have been opened. Figures created through the pyplot interface (`matplotlib.pyplot.figure`) are retained until explicitly closed and may consume too much memory. (To control this warning, see the rcParam `figure.max_open_warning`).\n",
      "  import sys\n"
     ]
    },
    {
     "data": {
      "application/vnd.jupyter.widget-view+json": {
       "model_id": "ae42f07c736449ad8f1c04a23727fc8d",
       "version_major": 2,
       "version_minor": 0
      },
      "text/plain": [
       "Canvas(toolbar=Toolbar(toolitems=[('Home', 'Reset original view', 'home', 'home'), ('Back', 'Back to previous …"
      ]
     },
     "metadata": {},
     "output_type": "display_data"
    },
    {
     "data": {
      "text/plain": [
       "<matplotlib.image.AxesImage at 0x7f4471272d68>"
      ]
     },
     "execution_count": 190,
     "metadata": {},
     "output_type": "execute_result"
    }
   ],
   "source": [
    "rgb = np.stack([total_value[c] / total_weight for c in ['ENSO deviation', 'SAM deviation', 'IOD deviation']]).transpose((1, 2, 0))\n",
    "rgb[np.isnan(rgb)] = 0\n",
    "rgb = np.log(rgb + 1)\n",
    "rgb /= rgb.max()\n",
    "R, G, B = rgb.transpose(2, 0, 1)\n",
    "\n",
    "fig, ((a, b), (c, d)) = plt.subplots(2, 2, figsize=(10, 10))\n",
    "a.imshow(R, origin='lower', cmap='Greys_r', vmin=0, vmax=1)\n",
    "a.set_title('ENSO')\n",
    "b.imshow(G, origin='lower', cmap='Greys_r', vmin=0, vmax=1)\n",
    "b.set_title('SAM')\n",
    "c.imshow(B, origin='lower', cmap='Greys_r', vmin=0, vmax=1)\n",
    "c.set_title('IOD')\n",
    "d.imshow(rgb, origin='lower')"
   ]
  },
  {
   "cell_type": "code",
   "execution_count": 72,
   "metadata": {},
   "outputs": [
    {
     "ename": "AttributeError",
     "evalue": "'function' object has no attribute 'e'",
     "output_type": "error",
     "traceback": [
      "\u001b[0;31m---------------------------------------------------------------------------\u001b[0m",
      "\u001b[0;31mAttributeError\u001b[0m                            Traceback (most recent call last)",
      "\u001b[0;32m<ipython-input-72-5a90ca5df8f7>\u001b[0m in \u001b[0;36m<module>\u001b[0;34m\u001b[0m\n\u001b[0;32m----> 1\u001b[0;31m \u001b[0mout_image\u001b[0m\u001b[0;34m,\u001b[0m \u001b[0mout_transform\u001b[0m \u001b[0;34m=\u001b[0m \u001b[0mrasterio\u001b[0m\u001b[0;34m.\u001b[0m\u001b[0mmask\u001b[0m\u001b[0;34m.\u001b[0m\u001b[0mmask\u001b[0m\u001b[0;34m(\u001b[0m\u001b[0mones\u001b[0m\u001b[0;34m.\u001b[0m\u001b[0mrio\u001b[0m\u001b[0;34m,\u001b[0m \u001b[0mwaterbodies\u001b[0m\u001b[0;34m.\u001b[0m\u001b[0mgeometry\u001b[0m\u001b[0;34m[\u001b[0m\u001b[0;36m0\u001b[0m\u001b[0;34m]\u001b[0m\u001b[0;34m,\u001b[0m \u001b[0mcrop\u001b[0m\u001b[0;34m=\u001b[0m\u001b[0;32mFalse\u001b[0m\u001b[0;34m)\u001b[0m\u001b[0;34m\u001b[0m\u001b[0;34m\u001b[0m\u001b[0m\n\u001b[0m",
      "\u001b[0;32m/g/data/v10/public/modules/dea-env/20200713/lib/python3.6/site-packages/rasterio/mask.py\u001b[0m in \u001b[0;36mmask\u001b[0;34m(dataset, shapes, all_touched, invert, nodata, filled, crop, pad, pad_width, indexes)\u001b[0m\n\u001b[1;32m    182\u001b[0m     shape_mask, transform, window = raster_geometry_mask(\n\u001b[1;32m    183\u001b[0m         \u001b[0mdataset\u001b[0m\u001b[0;34m,\u001b[0m \u001b[0mshapes\u001b[0m\u001b[0;34m,\u001b[0m \u001b[0mall_touched\u001b[0m\u001b[0;34m=\u001b[0m\u001b[0mall_touched\u001b[0m\u001b[0;34m,\u001b[0m \u001b[0minvert\u001b[0m\u001b[0;34m=\u001b[0m\u001b[0minvert\u001b[0m\u001b[0;34m,\u001b[0m \u001b[0mcrop\u001b[0m\u001b[0;34m=\u001b[0m\u001b[0mcrop\u001b[0m\u001b[0;34m,\u001b[0m\u001b[0;34m\u001b[0m\u001b[0;34m\u001b[0m\u001b[0m\n\u001b[0;32m--> 184\u001b[0;31m         pad=pad, pad_width=pad_width)\n\u001b[0m\u001b[1;32m    185\u001b[0m \u001b[0;34m\u001b[0m\u001b[0m\n\u001b[1;32m    186\u001b[0m     \u001b[0;32mif\u001b[0m \u001b[0mindexes\u001b[0m \u001b[0;32mis\u001b[0m \u001b[0;32mNone\u001b[0m\u001b[0;34m:\u001b[0m\u001b[0;34m\u001b[0m\u001b[0;34m\u001b[0m\u001b[0m\n",
      "\u001b[0;32m/g/data/v10/public/modules/dea-env/20200713/lib/python3.6/site-packages/rasterio/mask.py\u001b[0m in \u001b[0;36mraster_geometry_mask\u001b[0;34m(dataset, shapes, all_touched, invert, crop, pad, pad_width)\u001b[0m\n\u001b[1;32m     77\u001b[0m         \u001b[0mpad_y\u001b[0m \u001b[0;34m=\u001b[0m \u001b[0;36m0\u001b[0m\u001b[0;34m\u001b[0m\u001b[0;34m\u001b[0m\u001b[0m\n\u001b[1;32m     78\u001b[0m \u001b[0;34m\u001b[0m\u001b[0m\n\u001b[0;32m---> 79\u001b[0;31m     \u001b[0mnorth_up\u001b[0m \u001b[0;34m=\u001b[0m \u001b[0mdataset\u001b[0m\u001b[0;34m.\u001b[0m\u001b[0mtransform\u001b[0m\u001b[0;34m.\u001b[0m\u001b[0me\u001b[0m \u001b[0;34m<=\u001b[0m \u001b[0;36m0\u001b[0m\u001b[0;34m\u001b[0m\u001b[0;34m\u001b[0m\u001b[0m\n\u001b[0m\u001b[1;32m     80\u001b[0m     \u001b[0mrotated\u001b[0m \u001b[0;34m=\u001b[0m \u001b[0mdataset\u001b[0m\u001b[0;34m.\u001b[0m\u001b[0mtransform\u001b[0m\u001b[0;34m.\u001b[0m\u001b[0mb\u001b[0m \u001b[0;34m!=\u001b[0m \u001b[0;36m0\u001b[0m \u001b[0;32mor\u001b[0m \u001b[0mdataset\u001b[0m\u001b[0;34m.\u001b[0m\u001b[0mtransform\u001b[0m\u001b[0;34m.\u001b[0m\u001b[0md\u001b[0m \u001b[0;34m!=\u001b[0m \u001b[0;36m0\u001b[0m\u001b[0;34m\u001b[0m\u001b[0;34m\u001b[0m\u001b[0m\n\u001b[1;32m     81\u001b[0m \u001b[0;34m\u001b[0m\u001b[0m\n",
      "\u001b[0;31mAttributeError\u001b[0m: 'function' object has no attribute 'e'"
     ]
    }
   ],
   "source": [
    "out_image, out_transform = rasterio.mask.mask(ones.rio, waterbodies.geometry[0], crop=False)"
   ]
  },
  {
   "cell_type": "markdown",
   "metadata": {},
   "source": [
    "## Spatial autocorrelation\n",
    "\n",
    "One sanity check that might also prove interesting is the spatial autocorrelation of the influence of El Nino and La Nina on waterbodies. This is kinda tricky to calculate, but we can start with a KDTree to make queries much faster."
   ]
  },
  {
   "cell_type": "code",
   "execution_count": 134,
   "metadata": {},
   "outputs": [],
   "source": [
    "import sklearn.neighbors"
   ]
  },
  {
   "cell_type": "code",
   "execution_count": 135,
   "metadata": {},
   "outputs": [],
   "source": [
    "points = np.stack([waterbodies.centroid.x, waterbodies.centroid.y]).T"
   ]
  },
  {
   "cell_type": "code",
   "execution_count": 136,
   "metadata": {},
   "outputs": [],
   "source": [
    "kd = sklearn.neighbors.KDTree(points)"
   ]
  },
  {
   "cell_type": "markdown",
   "metadata": {},
   "source": [
    "For each point, we now need to find all points within a certain distance."
   ]
  },
  {
   "cell_type": "markdown",
   "metadata": {},
   "source": [
    "Then compute the Moran I statistic:\n",
    "\n",
    "$$\n",
    "I = \\frac N W \\frac {\\sum_i \\sum_j w_{ij}(x_i-\\bar x) (x_j-\\bar x)} {\\sum_i (x_i-\\bar x)^2}\n",
    "$$\n",
    "\n",
    "$w_{ij} = 1$ for neighbours and $0$ otherwise  ($w_{ii} = 0$). $W$ is the total number of neighbours i.e. the sum of $w$. $N$ is the number of waterbodies.  $\\overline x$ is the mean over the whole dataset &mdash; this seems odd to me but I guess the weights figure it out somehow."
   ]
  },
  {
   "cell_type": "code",
   "execution_count": 154,
   "metadata": {},
   "outputs": [],
   "source": [
    "def moran_I(radius):\n",
    "    # radius in metres since that's the units of the Australian Albers coordinates.\n",
    "    query = kd.query_radius(points, r=radius)\n",
    "\n",
    "    numerator = 0\n",
    "    denominator = 0\n",
    "    W = 0\n",
    "    N = 0\n",
    "\n",
    "    mean_end = np.nanmean(end)\n",
    "\n",
    "    for i, js in enumerate(query):\n",
    "        if len(js) <= 1:\n",
    "            continue\n",
    "\n",
    "        if np.isnan(end[i]):\n",
    "            continue\n",
    "\n",
    "        N += 1\n",
    "        js = js[(js != i) & ~np.isnan(end[js])]\n",
    "        W += len(js)\n",
    "        numerator += sum((end[i] - mean_end) * (end[js] - mean_end))\n",
    "        denominator += (end[i] - mean_end) ** 2\n",
    "    return N / W * numerator / denominator"
   ]
  },
  {
   "cell_type": "code",
   "execution_count": 158,
   "metadata": {},
   "outputs": [
    {
     "data": {
      "application/vnd.jupyter.widget-view+json": {
       "model_id": "4d9a92d8c4de492490ce9c2cb63dbca9",
       "version_major": 2,
       "version_minor": 0
      },
      "text/plain": [
       "HBox(children=(FloatProgress(value=0.0, max=10.0), HTML(value='')))"
      ]
     },
     "metadata": {},
     "output_type": "display_data"
    },
    {
     "name": "stdout",
     "output_type": "stream",
     "text": [
      "\n"
     ]
    }
   ],
   "source": [
    "radii = np.linspace(100, 10000, 10)\n",
    "moran_Is = [moran_I(r) for r in tqdm(radii)]"
   ]
  },
  {
   "cell_type": "code",
   "execution_count": 160,
   "metadata": {},
   "outputs": [
    {
     "name": "stderr",
     "output_type": "stream",
     "text": [
      "/g/data/v10/public/modules/dea-env/20200713/lib/python3.6/site-packages/ipykernel_launcher.py:1: RuntimeWarning: More than 20 figures have been opened. Figures created through the pyplot interface (`matplotlib.pyplot.figure`) are retained until explicitly closed and may consume too much memory. (To control this warning, see the rcParam `figure.max_open_warning`).\n",
      "  \"\"\"Entry point for launching an IPython kernel.\n"
     ]
    },
    {
     "data": {
      "application/vnd.jupyter.widget-view+json": {
       "model_id": "62a7342d358f4f03b1d5dcbba3cfe18e",
       "version_major": 2,
       "version_minor": 0
      },
      "text/plain": [
       "Canvas(toolbar=Toolbar(toolitems=[('Home', 'Reset original view', 'home', 'home'), ('Back', 'Back to previous …"
      ]
     },
     "metadata": {},
     "output_type": "display_data"
    },
    {
     "data": {
      "text/plain": [
       "Text(0, 0.5, 'Moran I')"
      ]
     },
     "execution_count": 160,
     "metadata": {},
     "output_type": "execute_result"
    }
   ],
   "source": [
    "plt.figure()\n",
    "plt.plot(radii, moran_Is)\n",
    "plt.xlabel('Radius (m)')\n",
    "plt.ylabel('Moran I')"
   ]
  },
  {
   "cell_type": "markdown",
   "metadata": {},
   "source": [
    "Unsurprisingly correlation decreases as you get further away, and nearby waterbodies are highly correlated. We can see this in more detail with a local Moran I index:\n",
    "\n",
    "$$\n",
    "    I_i = \\frac{x_i - \\overline x}{\\sigma_i^2} \\sum_{j = 1, j \\neq i}^N w_{ij} (x_j - \\overline x)\n",
    "$$\n",
    "with\n",
    "$$\n",
    "    \\sigma_i^2 = \\frac{1}{N - 1} \\sum_{j = 1, j \\neq i}^N (x_j - \\overline x)^2.\n",
    "$$"
   ]
  },
  {
   "cell_type": "code",
   "execution_count": 188,
   "metadata": {},
   "outputs": [],
   "source": [
    "def local_moran_I(radius: 'm'):\n",
    "    query = kd.query_radius(points, r=radius)\n",
    "\n",
    "    morans = []\n",
    "    mean_end = np.nanmean(end)\n",
    "    idxs = np.arange(len(end))\n",
    "\n",
    "    # Calculate the Si values.\n",
    "    diffs = end - mean_end\n",
    "    sq_diffs = (end - mean_end) ** 2\n",
    "    nan_mask = ~np.isnan(end)\n",
    "    n_not_nan = sum(nan_mask)\n",
    "    sum_sq_diffs = sum(sq_diffs[nan_mask]) / n_not_nan\n",
    "    \n",
    "    for i, js in enumerate(tqdm(query)):\n",
    "        if len(js) <= 1:\n",
    "            morans.append(0)\n",
    "            continue\n",
    "\n",
    "        if np.isnan(end[i]):\n",
    "            morans.append(0)\n",
    "            continue\n",
    "\n",
    "        js = js[(js != i) & ~np.isnan(end[js])]\n",
    "        \n",
    "        xi = end[i]\n",
    "        diff_xi = diffs[i]\n",
    "        diff_xj = diffs[js]\n",
    "        si2 = sum_sq_diffs - diff_xi ** 2 / n_not_nan\n",
    "        I = diff_xi / si2 * diff_xj.sum()\n",
    "        morans.append(I)\n",
    "    return morans"
   ]
  },
  {
   "cell_type": "code",
   "execution_count": 189,
   "metadata": {},
   "outputs": [
    {
     "data": {
      "application/vnd.jupyter.widget-view+json": {
       "model_id": "fc93f9088dce40f38102e70d1b9facd9",
       "version_major": 2,
       "version_minor": 0
      },
      "text/plain": [
       "HBox(children=(FloatProgress(value=0.0, max=295902.0), HTML(value='')))"
      ]
     },
     "metadata": {},
     "output_type": "display_data"
    },
    {
     "name": "stdout",
     "output_type": "stream",
     "text": [
      "\n"
     ]
    }
   ],
   "source": [
    "local_morans = local_moran_I(1000)"
   ]
  },
  {
   "cell_type": "code",
   "execution_count": null,
   "metadata": {},
   "outputs": [],
   "source": [
    "division = 'North East Coast'\n",
    "wbs = waterbodies[waterbodies.Division__ == division]\n",
    "el_nino_average = mattplot.spatial_average(wbs.centroid.x, wbs.centroid.y, end[waterbodies.Division__ == division])"
   ]
  },
  {
   "cell_type": "code",
   "execution_count": 209,
   "metadata": {},
   "outputs": [],
   "source": [
    "da = xarray.DataArray(el_nino_average, coords={'x': xcoords, 'y': ycoords}, dims=['y', 'x'])\n",
    "da.to_netcdf('ne_coast_endeviation.nc')"
   ]
  },
  {
   "cell_type": "code",
   "execution_count": 190,
   "metadata": {},
   "outputs": [
    {
     "data": {
      "application/vnd.jupyter.widget-view+json": {
       "model_id": "4146e82c8bb5425a9492cd35a66e9013",
       "version_major": 2,
       "version_minor": 0
      },
      "text/plain": [
       "HBox(children=(FloatProgress(value=0.0, max=35554.0), HTML(value='')))"
      ]
     },
     "metadata": {},
     "output_type": "display_data"
    },
    {
     "name": "stdout",
     "output_type": "stream",
     "text": [
      "\n"
     ]
    },
    {
     "name": "stderr",
     "output_type": "stream",
     "text": [
      "../Scripts/mattplot.py:26: RuntimeWarning: invalid value encountered in true_divide\n",
      "  return total / count\n"
     ]
    }
   ],
   "source": [
    "local_moran_average = mattplot.spatial_average(wbs.centroid.x, wbs.centroid.y, np.array(local_morans)[waterbodies.Division__ == division], progress=tqdm)"
   ]
  },
  {
   "cell_type": "code",
   "execution_count": 197,
   "metadata": {},
   "outputs": [],
   "source": [
    "xcoords = np.linspace(wbs.centroid.x.min(), wbs.centroid.x.max(), 500)\n",
    "ycoords = np.linspace(wbs.centroid.y.min(), wbs.centroid.y.max(), 500)"
   ]
  },
  {
   "cell_type": "code",
   "execution_count": 206,
   "metadata": {},
   "outputs": [],
   "source": [
    "da = xarray.DataArray(local_moran_average, coords={'x': xcoords, 'y': ycoords}, dims=['y', 'x'])"
   ]
  },
  {
   "cell_type": "code",
   "execution_count": 207,
   "metadata": {},
   "outputs": [
    {
     "data": {
      "application/vnd.jupyter.widget-view+json": {
       "model_id": "36b0f9ab2dae45688d3ef807214bbf08",
       "version_major": 2,
       "version_minor": 0
      },
      "text/plain": [
       "Canvas(toolbar=Toolbar(toolitems=[('Home', 'Reset original view', 'home', 'home'), ('Back', 'Back to previous …"
      ]
     },
     "metadata": {},
     "output_type": "display_data"
    },
    {
     "data": {
      "text/plain": [
       "<matplotlib.image.AxesImage at 0x7f01076cd470>"
      ]
     },
     "execution_count": 207,
     "metadata": {},
     "output_type": "execute_result"
    }
   ],
   "source": [
    "plt.figure()\n",
    "da.plot.imshow()"
   ]
  },
  {
   "cell_type": "code",
   "execution_count": 208,
   "metadata": {},
   "outputs": [],
   "source": [
    "da.to_netcdf('ne_coast_moran.nc')"
   ]
  },
  {
   "cell_type": "code",
   "execution_count": null,
   "metadata": {},
   "outputs": [],
   "source": []
  }
 ],
 "metadata": {
  "kernelspec": {
   "display_name": "Python 3",
   "language": "python",
   "name": "python3"
  },
  "language_info": {
   "codemirror_mode": {
    "name": "ipython",
    "version": 3
   },
   "file_extension": ".py",
   "mimetype": "text/x-python",
   "name": "python",
   "nbconvert_exporter": "python",
   "pygments_lexer": "ipython3",
   "version": "3.6.10"
  }
 },
 "nbformat": 4,
 "nbformat_minor": 4
}
