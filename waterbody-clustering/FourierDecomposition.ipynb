{
 "cells": [
  {
   "cell_type": "markdown",
   "metadata": {},
   "source": [
    "# Fourier decomposition\n",
    "\n",
    "Water history looks like a stationary component plus a nonstationary component. Can a Fourier decomposition pull out information we can use?"
   ]
  },
  {
   "cell_type": "markdown",
   "metadata": {},
   "source": [
    "## Setup"
   ]
  },
  {
   "cell_type": "markdown",
   "metadata": {},
   "source": [
    "### Load modules"
   ]
  },
  {
   "cell_type": "code",
   "execution_count": 52,
   "metadata": {},
   "outputs": [],
   "source": [
    "import numpy as np\n",
    "import matplotlib.pyplot as plt\n",
    "import geopandas as gpd\n",
    "import scipy.optimize as opt\n",
    "import matplotlib.colors\n",
    "\n",
    "%matplotlib widget"
   ]
  },
  {
   "cell_type": "markdown",
   "metadata": {},
   "source": [
    "### Load the data"
   ]
  },
  {
   "cell_type": "markdown",
   "metadata": {},
   "source": [
    "This was generated in WaterbodyClustering.ipynb."
   ]
  },
  {
   "cell_type": "code",
   "execution_count": 9,
   "metadata": {},
   "outputs": [],
   "source": [
    "history = np.load('history_murray_full_norivers.npy')\n",
    "times = np.load('time_axis_murray_full_norivers.npy').astype('datetime64[D]')\n",
    "waterbodies = gpd.read_file('waterbodies_murray_norivers.geojson')"
   ]
  },
  {
   "cell_type": "markdown",
   "metadata": {},
   "source": [
    "Let's see the mean again."
   ]
  },
  {
   "cell_type": "code",
   "execution_count": 10,
   "metadata": {},
   "outputs": [
    {
     "data": {
      "application/vnd.jupyter.widget-view+json": {
       "model_id": "59a4c9ad9f4f483a9e694b74ed8ec362",
       "version_major": 2,
       "version_minor": 0
      },
      "text/plain": [
       "Canvas(toolbar=Toolbar(toolitems=[('Home', 'Reset original view', 'home', 'home'), ('Back', 'Back to previous …"
      ]
     },
     "metadata": {},
     "output_type": "display_data"
    },
    {
     "data": {
      "text/plain": [
       "[<matplotlib.lines.Line2D at 0x7f928a0e8978>]"
      ]
     },
     "execution_count": 10,
     "metadata": {},
     "output_type": "execute_result"
    }
   ],
   "source": [
    "plt.figure()\n",
    "plt.plot(times, history.mean(axis=0))"
   ]
  },
  {
   "cell_type": "markdown",
   "metadata": {},
   "source": [
    "## Do the transform\n",
    "\n",
    "Fourier time!"
   ]
  },
  {
   "cell_type": "code",
   "execution_count": 14,
   "metadata": {},
   "outputs": [],
   "source": [
    "fft = np.fft.fftshift(np.fft.fft(history, axis=1))"
   ]
  },
  {
   "cell_type": "code",
   "execution_count": 29,
   "metadata": {},
   "outputs": [],
   "source": [
    "mean_fft = np.fft.fftshift(np.fft.fft(history.mean(axis=0)))"
   ]
  },
  {
   "cell_type": "code",
   "execution_count": 30,
   "metadata": {},
   "outputs": [
    {
     "data": {
      "application/vnd.jupyter.widget-view+json": {
       "model_id": "743fcf1eba73426cb9a9e8ca28c70d3d",
       "version_major": 2,
       "version_minor": 0
      },
      "text/plain": [
       "Canvas(toolbar=Toolbar(toolitems=[('Home', 'Reset original view', 'home', 'home'), ('Back', 'Back to previous …"
      ]
     },
     "metadata": {},
     "output_type": "display_data"
    },
    {
     "data": {
      "text/plain": [
       "[<matplotlib.lines.Line2D at 0x7f9289d77b38>]"
      ]
     },
     "execution_count": 30,
     "metadata": {},
     "output_type": "execute_result"
    }
   ],
   "source": [
    "plt.figure()\n",
    "plt.plot(mean_fft.real)\n",
    "plt.plot(mean_fft.imag)\n",
    "plt.plot(abs(mean_fft), c='k')"
   ]
  },
  {
   "cell_type": "code",
   "execution_count": 62,
   "metadata": {},
   "outputs": [
    {
     "data": {
      "application/vnd.jupyter.widget-view+json": {
       "model_id": "30476a5281334a27904d7eefb0d708ac",
       "version_major": 2,
       "version_minor": 0
      },
      "text/plain": [
       "Canvas(toolbar=Toolbar(toolitems=[('Home', 'Reset original view', 'home', 'home'), ('Back', 'Back to previous …"
      ]
     },
     "metadata": {},
     "output_type": "display_data"
    }
   ],
   "source": [
    "plt.figure()\n",
    "plt.plot(fft[:100].real.T, alpha=0.01, c='blue')\n",
    "plt.plot(fft[:100].imag.T, alpha=0.01, c='orange')\n",
    "plt.plot(abs(fft[:100]).T, c='k', alpha=0.01);"
   ]
  },
  {
   "cell_type": "markdown",
   "metadata": {},
   "source": [
    "Most of the FT is a single peak, and most of the remainder is low-frequency. We could run a high-pass filter over this pretty easy."
   ]
  },
  {
   "cell_type": "code",
   "execution_count": 31,
   "metadata": {},
   "outputs": [],
   "source": [
    "mean_fft_ = mean_fft.copy()\n",
    "mean_fft_[:6000] = 0\n",
    "mean_fft_[-6000:] = 0"
   ]
  },
  {
   "cell_type": "code",
   "execution_count": 35,
   "metadata": {},
   "outputs": [],
   "source": [
    "fft_ = fft.copy()\n",
    "fft_[:, :5000] = 0\n",
    "fft_[:, -5000:] = 0"
   ]
  },
  {
   "cell_type": "code",
   "execution_count": 36,
   "metadata": {},
   "outputs": [],
   "source": [
    "ifft = np.fft.ifft(np.fft.ifftshift(fft_))"
   ]
  },
  {
   "cell_type": "code",
   "execution_count": 63,
   "metadata": {},
   "outputs": [
    {
     "data": {
      "application/vnd.jupyter.widget-view+json": {
       "model_id": "99e902bec42b422dbb80ac02eef14985",
       "version_major": 2,
       "version_minor": 0
      },
      "text/plain": [
       "Canvas(toolbar=Toolbar(toolitems=[('Home', 'Reset original view', 'home', 'home'), ('Back', 'Back to previous …"
      ]
     },
     "metadata": {},
     "output_type": "display_data"
    },
    {
     "data": {
      "text/plain": [
       "[<matplotlib.lines.Line2D at 0x7f928905d828>]"
      ]
     },
     "execution_count": 63,
     "metadata": {},
     "output_type": "execute_result"
    }
   ],
   "source": [
    "plt.figure()\n",
    "plt.plot(times, abs(mean_ifft))\n",
    "plt.plot(times, history.mean(axis=0))"
   ]
  },
  {
   "cell_type": "code",
   "execution_count": 42,
   "metadata": {},
   "outputs": [
    {
     "data": {
      "application/vnd.jupyter.widget-view+json": {
       "model_id": "0a6c8c3f8c284f28945589dc15158c41",
       "version_major": 2,
       "version_minor": 0
      },
      "text/plain": [
       "Canvas(toolbar=Toolbar(toolitems=[('Home', 'Reset original view', 'home', 'home'), ('Back', 'Back to previous …"
      ]
     },
     "metadata": {},
     "output_type": "display_data"
    },
    {
     "data": {
      "text/plain": [
       "[<matplotlib.lines.Line2D at 0x7f9289c96a20>]"
      ]
     },
     "execution_count": 42,
     "metadata": {},
     "output_type": "execute_result"
    }
   ],
   "source": [
    "plt.figure()\n",
    "k = 150\n",
    "plt.plot(times, abs(ifft[k]))\n",
    "plt.plot(times, history[k])"
   ]
  },
  {
   "cell_type": "markdown",
   "metadata": {},
   "source": [
    "A high-pass filter should work really well on this data. Also, a very narrow Fourier representation should be pretty good too and a good way to drop the dimensionality without losing much &mdash; the worst case is when we have a mostly-empty waterbody. The obvious thing now is to try another dimensionality reduction on just the low-frequency amplitudes..."
   ]
  },
  {
   "cell_type": "code",
   "execution_count": 46,
   "metadata": {},
   "outputs": [],
   "source": [
    "import sklearn.decomposition\n",
    "pca = sklearn.decomposition.PCA(n_components=50)\n",
    "fft_vals = abs(fft[:, 5000:-5000])\n",
    "pca_f = pca.fit_transform(fft_vals)"
   ]
  },
  {
   "cell_type": "code",
   "execution_count": 65,
   "metadata": {},
   "outputs": [],
   "source": [
    "phase = np.angle(fft)\n",
    "pca_f = pca.fit_transform(phase)"
   ]
  },
  {
   "cell_type": "code",
   "execution_count": 66,
   "metadata": {},
   "outputs": [
    {
     "name": "stdout",
     "output_type": "stream",
     "text": [
      "[t-SNE] Computing 151 nearest neighbors...\n",
      "[t-SNE] Indexed 9081 samples in 0.054s...\n",
      "[t-SNE] Computed neighbors for 9081 samples in 6.568s...\n",
      "[t-SNE] Computed conditional probabilities for sample 1000 / 9081\n",
      "[t-SNE] Computed conditional probabilities for sample 2000 / 9081\n",
      "[t-SNE] Computed conditional probabilities for sample 3000 / 9081\n",
      "[t-SNE] Computed conditional probabilities for sample 4000 / 9081\n",
      "[t-SNE] Computed conditional probabilities for sample 5000 / 9081\n",
      "[t-SNE] Computed conditional probabilities for sample 6000 / 9081\n",
      "[t-SNE] Computed conditional probabilities for sample 7000 / 9081\n",
      "[t-SNE] Computed conditional probabilities for sample 8000 / 9081\n",
      "[t-SNE] Computed conditional probabilities for sample 9000 / 9081\n",
      "[t-SNE] Computed conditional probabilities for sample 9081 / 9081\n",
      "[t-SNE] Mean sigma: 10.005137\n",
      "[t-SNE] KL divergence after 250 iterations with early exaggeration: 80.253937\n",
      "[t-SNE] KL divergence after 1000 iterations: 1.535125\n"
     ]
    }
   ],
   "source": [
    "import sklearn.manifold\n",
    "tsne = sklearn.manifold.TSNE(verbose=True, perplexity=50, n_iter=1000)\n",
    "tsne_f = tsne.fit_transform(pca_f)"
   ]
  },
  {
   "cell_type": "code",
   "execution_count": 67,
   "metadata": {},
   "outputs": [
    {
     "data": {
      "application/vnd.jupyter.widget-view+json": {
       "model_id": "5a3d91436da246bd9574f49e0b45891f",
       "version_major": 2,
       "version_minor": 0
      },
      "text/plain": [
       "Canvas(toolbar=Toolbar(toolitems=[('Home', 'Reset original view', 'home', 'home'), ('Back', 'Back to previous …"
      ]
     },
     "metadata": {},
     "output_type": "display_data"
    }
   ],
   "source": [
    "names = dict(zip(waterbodies.RivRegNum.astype(int), waterbodies.RivRegName))\n",
    "plt.figure(figsize=(8, 8))\n",
    "xs = np.arange(min(names), max(names))\n",
    "plt.scatter(tsne_f[:, 0], tsne_f[:, 1], s=(waterbodies.area / 0.5e3) ** 0.5,\n",
    "            edgecolor='None', c=waterbodies.RivRegNum.astype(int), cmap='tab20', norm=matplotlib.colors.BoundaryNorm(xs, len(xs) + 1))\n",
    "cb = plt.colorbar()\n",
    "cb.set_ticks(xs + 0.5)\n",
    "cb.set_ticklabels([names.get(i, '') for i in xs])"
   ]
  },
  {
   "cell_type": "markdown",
   "metadata": {},
   "source": [
    "t-SNE on the magnitudes pulls out nothing of interest, but t-SNE on the phases roughly groups the rivers. Interesting!"
   ]
  }
 ],
 "metadata": {
  "kernelspec": {
   "display_name": "Python 3",
   "language": "python",
   "name": "python3"
  },
  "language_info": {
   "codemirror_mode": {
    "name": "ipython",
    "version": 3
   },
   "file_extension": ".py",
   "mimetype": "text/x-python",
   "name": "python",
   "nbconvert_exporter": "python",
   "pygments_lexer": "ipython3",
   "version": "3.6.10"
  }
 },
 "nbformat": 4,
 "nbformat_minor": 4
}
