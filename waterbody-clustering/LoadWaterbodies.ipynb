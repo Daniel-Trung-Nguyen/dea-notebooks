{
 "cells": [
  {
   "cell_type": "markdown",
   "metadata": {},
   "source": [
    "# Load waterbodies\n",
    "\n",
    "This notebook loads waterbodies time series surface areas and other features. The end result is an HDF5 file organised by drainage region."
   ]
  },
  {
   "cell_type": "markdown",
   "metadata": {},
   "source": [
    "## Setup"
   ]
  },
  {
   "cell_type": "code",
   "execution_count": 3,
   "metadata": {},
   "outputs": [],
   "source": [
    "%config IPython.use_jedi = False"
   ]
  },
  {
   "cell_type": "markdown",
   "metadata": {},
   "source": [
    "### Load modules"
   ]
  },
  {
   "cell_type": "code",
   "execution_count": 4,
   "metadata": {},
   "outputs": [],
   "source": [
    "%matplotlib widget\n",
    "\n",
    "from pathlib import Path\n",
    "\n",
    "import joblib\n",
    "import fiona\n",
    "import numpy as np\n",
    "import geopandas as gpd\n",
    "import pandas as pd\n",
    "from tqdm.notebook import tqdm\n",
    "import h5py"
   ]
  },
  {
   "cell_type": "markdown",
   "metadata": {},
   "source": [
    "### Load data"
   ]
  },
  {
   "cell_type": "code",
   "execution_count": 5,
   "metadata": {},
   "outputs": [],
   "source": [
    "# waterbody_shp_path = Path('/g/data/r78/cek156/dea-notebooks/Scientific_workflows/DEAWaterbodies/AusAllTime01-005HybridWaterbodies/AusWaterBodiesFINAL.shp')\n",
    "waterbody_shp_path = Path('/g/data/r78/cek156/dea-notebooks/Scientific_workflows/DEAWaterbodies/NLIDGGSData/DEAwaterbody_withStreamData_andGAwaterbodynames.shp')\n",
    "waterbody_csv_path = Path('/g/data/r78/cek156/dea-notebooks/Scientific_workflows/DEAWaterbodies/timeseries_aus_uid/')\n",
    "surface_area_threshold = 50"
   ]
  },
  {
   "cell_type": "code",
   "execution_count": 6,
   "metadata": {},
   "outputs": [],
   "source": [
    "waterbody_shapes = gpd.read_file(waterbody_shp_path).to_crs('EPSG:3577')"
   ]
  },
  {
   "cell_type": "markdown",
   "metadata": {},
   "source": [
    "Join with the BOM drainage divisions. I grabbed these from the v2.1.1 Geofabric Reporting Regions and converted them from gdb + WGS84 to GeoJSON + Australian Albers in QGIS."
   ]
  },
  {
   "cell_type": "code",
   "execution_count": 7,
   "metadata": {},
   "outputs": [],
   "source": [
    "drainage = gpd.read_file('bom_drainagedivisions_v2p1p1.geojson')"
   ]
  },
  {
   "cell_type": "markdown",
   "metadata": {},
   "source": [
    "Join these with the BOM river regions. Same source as the above."
   ]
  },
  {
   "cell_type": "code",
   "execution_count": 8,
   "metadata": {},
   "outputs": [],
   "source": [
    "waterbody_shapes = gpd.sjoin(waterbody_shapes, drainage, how='left', op='within', lsuffix='', rsuffix='_bom_drainage')"
   ]
  },
  {
   "cell_type": "code",
   "execution_count": 9,
   "metadata": {},
   "outputs": [],
   "source": [
    "riverregions = gpd.read_file('bom_riverregions_v2p1p1.geojson')"
   ]
  },
  {
   "cell_type": "code",
   "execution_count": 10,
   "metadata": {},
   "outputs": [],
   "source": [
    "waterbody_shapes = gpd.sjoin(waterbody_shapes, riverregions, how='left', op='within', lsuffix='', rsuffix='_bom_riverregions')"
   ]
  },
  {
   "cell_type": "markdown",
   "metadata": {},
   "source": [
    "Finally join these with the GA 1997 River Basins dataset, aggregated by basin to remove states."
   ]
  },
  {
   "cell_type": "code",
   "execution_count": 11,
   "metadata": {},
   "outputs": [],
   "source": [
    "basins = gpd.read_file('river_basins_ga_1997_aggregated.geojson')"
   ]
  },
  {
   "cell_type": "code",
   "execution_count": 12,
   "metadata": {},
   "outputs": [],
   "source": [
    "waterbody_shapes = gpd.sjoin(waterbody_shapes, basins, how='left', op='within', lsuffix='', rsuffix='_ga_basins')"
   ]
  },
  {
   "cell_type": "markdown",
   "metadata": {},
   "source": [
    "Filter out the columns we care about."
   ]
  },
  {
   "cell_type": "code",
   "execution_count": 13,
   "metadata": {},
   "outputs": [],
   "source": [
    "columns = [\n",
    "    'UID', 'Stream', 'Hierarchy', 'Perennial', 'FEATURETYP', 'TEXTNOTE', 'geometry', 'DivNumber', 'Division_', 'RivRegNum', 'RivRegName',\n",
    "    'BNAME', 'BNUM', 'RNAME', 'RNUM', 'DNAME', 'DNUM']"
   ]
  },
  {
   "cell_type": "code",
   "execution_count": 14,
   "metadata": {},
   "outputs": [],
   "source": [
    "waterbody_shapes = waterbody_shapes[columns]"
   ]
  },
  {
   "cell_type": "code",
   "execution_count": 15,
   "metadata": {},
   "outputs": [
    {
     "data": {
      "text/html": [
       "<div>\n",
       "<style scoped>\n",
       "    .dataframe tbody tr th:only-of-type {\n",
       "        vertical-align: middle;\n",
       "    }\n",
       "\n",
       "    .dataframe tbody tr th {\n",
       "        vertical-align: top;\n",
       "    }\n",
       "\n",
       "    .dataframe thead th {\n",
       "        text-align: right;\n",
       "    }\n",
       "</style>\n",
       "<table border=\"1\" class=\"dataframe\">\n",
       "  <thead>\n",
       "    <tr style=\"text-align: right;\">\n",
       "      <th></th>\n",
       "      <th>UID</th>\n",
       "      <th>Stream</th>\n",
       "      <th>Hierarchy</th>\n",
       "      <th>Perennial</th>\n",
       "      <th>FEATURETYP</th>\n",
       "      <th>TEXTNOTE</th>\n",
       "      <th>geometry</th>\n",
       "      <th>DivNumber</th>\n",
       "      <th>Division_</th>\n",
       "      <th>RivRegNum</th>\n",
       "      <th>RivRegName</th>\n",
       "      <th>BNAME</th>\n",
       "      <th>BNUM</th>\n",
       "      <th>RNAME</th>\n",
       "      <th>RNUM</th>\n",
       "      <th>DNAME</th>\n",
       "      <th>DNUM</th>\n",
       "    </tr>\n",
       "  </thead>\n",
       "  <tbody>\n",
       "    <tr>\n",
       "      <th>0</th>\n",
       "      <td>rj25uzs2b</td>\n",
       "      <td>None</td>\n",
       "      <td>Minor</td>\n",
       "      <td>Non Perennial</td>\n",
       "      <td>Aquaculture Area</td>\n",
       "      <td>aquafarm abandoned</td>\n",
       "      <td>POLYGON ((349050.000 -1570100.000, 349075.000 ...</td>\n",
       "      <td>12</td>\n",
       "      <td>Carpentaria Coast</td>\n",
       "      <td>4</td>\n",
       "      <td>ROPER RIVER</td>\n",
       "      <td>ROPER RIVER</td>\n",
       "      <td>3</td>\n",
       "      <td>ROPER</td>\n",
       "      <td>A</td>\n",
       "      <td>GULF OF CARPENTARIA</td>\n",
       "      <td>IX</td>\n",
       "    </tr>\n",
       "    <tr>\n",
       "      <th>1</th>\n",
       "      <td>rj2hhbdvq</td>\n",
       "      <td>None</td>\n",
       "      <td>Minor</td>\n",
       "      <td>Non Perennial</td>\n",
       "      <td>Aquaculture Area</td>\n",
       "      <td>aquafarm abandoned</td>\n",
       "      <td>POLYGON ((349375.000 -1569775.000, 349425.000 ...</td>\n",
       "      <td>12</td>\n",
       "      <td>Carpentaria Coast</td>\n",
       "      <td>4</td>\n",
       "      <td>ROPER RIVER</td>\n",
       "      <td>ROPER RIVER</td>\n",
       "      <td>3</td>\n",
       "      <td>ROPER</td>\n",
       "      <td>A</td>\n",
       "      <td>GULF OF CARPENTARIA</td>\n",
       "      <td>IX</td>\n",
       "    </tr>\n",
       "    <tr>\n",
       "      <th>2</th>\n",
       "      <td>rj25ur05e</td>\n",
       "      <td>None</td>\n",
       "      <td>None</td>\n",
       "      <td>None</td>\n",
       "      <td>Aquaculture Area</td>\n",
       "      <td>aquafarm abandoned</td>\n",
       "      <td>POLYGON ((346950.000 -1570150.000, 346975.000 ...</td>\n",
       "      <td>12</td>\n",
       "      <td>Carpentaria Coast</td>\n",
       "      <td>4</td>\n",
       "      <td>ROPER RIVER</td>\n",
       "      <td>ROPER RIVER</td>\n",
       "      <td>3</td>\n",
       "      <td>ROPER</td>\n",
       "      <td>A</td>\n",
       "      <td>GULF OF CARPENTARIA</td>\n",
       "      <td>IX</td>\n",
       "    </tr>\n",
       "    <tr>\n",
       "      <th>3</th>\n",
       "      <td>rj25ux1z6</td>\n",
       "      <td>None</td>\n",
       "      <td>None</td>\n",
       "      <td>None</td>\n",
       "      <td>Aquaculture Area</td>\n",
       "      <td>aquafarm abandoned</td>\n",
       "      <td>POLYGON ((347825.000 -1570650.000, 347900.000 ...</td>\n",
       "      <td>12</td>\n",
       "      <td>Carpentaria Coast</td>\n",
       "      <td>4</td>\n",
       "      <td>ROPER RIVER</td>\n",
       "      <td>ROPER RIVER</td>\n",
       "      <td>3</td>\n",
       "      <td>ROPER</td>\n",
       "      <td>A</td>\n",
       "      <td>GULF OF CARPENTARIA</td>\n",
       "      <td>IX</td>\n",
       "    </tr>\n",
       "    <tr>\n",
       "      <th>4</th>\n",
       "      <td>rj25uxbfx</td>\n",
       "      <td>None</td>\n",
       "      <td>None</td>\n",
       "      <td>None</td>\n",
       "      <td>Aquaculture Area</td>\n",
       "      <td>aquafarm abandoned</td>\n",
       "      <td>POLYGON ((347600.000 -1570000.000, 347625.000 ...</td>\n",
       "      <td>12</td>\n",
       "      <td>Carpentaria Coast</td>\n",
       "      <td>4</td>\n",
       "      <td>ROPER RIVER</td>\n",
       "      <td>ROPER RIVER</td>\n",
       "      <td>3</td>\n",
       "      <td>ROPER</td>\n",
       "      <td>A</td>\n",
       "      <td>GULF OF CARPENTARIA</td>\n",
       "      <td>IX</td>\n",
       "    </tr>\n",
       "  </tbody>\n",
       "</table>\n",
       "</div>"
      ],
      "text/plain": [
       "         UID Stream Hierarchy      Perennial        FEATURETYP  \\\n",
       "0  rj25uzs2b   None     Minor  Non Perennial  Aquaculture Area   \n",
       "1  rj2hhbdvq   None     Minor  Non Perennial  Aquaculture Area   \n",
       "2  rj25ur05e   None      None           None  Aquaculture Area   \n",
       "3  rj25ux1z6   None      None           None  Aquaculture Area   \n",
       "4  rj25uxbfx   None      None           None  Aquaculture Area   \n",
       "\n",
       "             TEXTNOTE                                           geometry  \\\n",
       "0  aquafarm abandoned  POLYGON ((349050.000 -1570100.000, 349075.000 ...   \n",
       "1  aquafarm abandoned  POLYGON ((349375.000 -1569775.000, 349425.000 ...   \n",
       "2  aquafarm abandoned  POLYGON ((346950.000 -1570150.000, 346975.000 ...   \n",
       "3  aquafarm abandoned  POLYGON ((347825.000 -1570650.000, 347900.000 ...   \n",
       "4  aquafarm abandoned  POLYGON ((347600.000 -1570000.000, 347625.000 ...   \n",
       "\n",
       "  DivNumber          Division_ RivRegNum   RivRegName        BNAME BNUM  \\\n",
       "0        12  Carpentaria Coast         4  ROPER RIVER  ROPER RIVER    3   \n",
       "1        12  Carpentaria Coast         4  ROPER RIVER  ROPER RIVER    3   \n",
       "2        12  Carpentaria Coast         4  ROPER RIVER  ROPER RIVER    3   \n",
       "3        12  Carpentaria Coast         4  ROPER RIVER  ROPER RIVER    3   \n",
       "4        12  Carpentaria Coast         4  ROPER RIVER  ROPER RIVER    3   \n",
       "\n",
       "   RNAME RNUM                DNAME DNUM  \n",
       "0  ROPER    A  GULF OF CARPENTARIA   IX  \n",
       "1  ROPER    A  GULF OF CARPENTARIA   IX  \n",
       "2  ROPER    A  GULF OF CARPENTARIA   IX  \n",
       "3  ROPER    A  GULF OF CARPENTARIA   IX  \n",
       "4  ROPER    A  GULF OF CARPENTARIA   IX  "
      ]
     },
     "execution_count": 15,
     "metadata": {},
     "output_type": "execute_result"
    }
   ],
   "source": [
    "waterbody_shapes.head()"
   ]
  },
  {
   "cell_type": "markdown",
   "metadata": {},
   "source": [
    "Where there was only partial intersection, waterbodies have not been allocated to a drainage division, river region, or basin. Remedy this by manually iterating through and assigning them to the region with maximum overlap."
   ]
  },
  {
   "cell_type": "code",
   "execution_count": 16,
   "metadata": {},
   "outputs": [
    {
     "name": "stdout",
     "output_type": "stream",
     "text": [
      "2925 waterbodies are missing divisions\n",
      "3486 waterbodies are missing rivers\n",
      "2036 waterbodies are missing basins\n"
     ]
    }
   ],
   "source": [
    "missing_D = waterbody_shapes.Division_.isnull()\n",
    "missing_R = waterbody_shapes.RivRegNum.isnull()\n",
    "missing_B = waterbody_shapes.BNAME.isnull()\n",
    "\n",
    "print(missing_D.sum(), 'waterbodies are missing divisions')\n",
    "print(missing_R.sum(), 'waterbodies are missing rivers')\n",
    "print(missing_B.sum(), 'waterbodies are missing basins')"
   ]
  },
  {
   "cell_type": "code",
   "execution_count": 17,
   "metadata": {},
   "outputs": [],
   "source": [
    "subjoin_D = gpd.sjoin(waterbody_shapes[missing_D], drainage, how='left', op='intersects')\n",
    "# Take the first one, whatever it is.\n",
    "subjoin_D = subjoin_D.reset_index().drop_duplicates(subset=['UID'], keep='first')\n",
    "subjoin_D = subjoin_D.set_index('UID')"
   ]
  },
  {
   "cell_type": "code",
   "execution_count": 18,
   "metadata": {},
   "outputs": [],
   "source": [
    "subjoin_R = gpd.sjoin(waterbody_shapes[missing_R], drainage, how='left', op='intersects')\n",
    "subjoin_R = subjoin_R.reset_index().drop_duplicates(subset=['UID'], keep='first')\n",
    "subjoin_R = subjoin_R.set_index('UID')\n",
    "\n",
    "subjoin_B = gpd.sjoin(waterbody_shapes[missing_B], drainage, how='left', op='intersects')\n",
    "subjoin_B = subjoin_B.reset_index().drop_duplicates(subset=['UID'], keep='first')\n",
    "subjoin_B = subjoin_B.set_index('UID')"
   ]
  },
  {
   "cell_type": "code",
   "execution_count": 19,
   "metadata": {},
   "outputs": [],
   "source": [
    "waterbody_shapes = waterbody_shapes.set_index('UID')"
   ]
  },
  {
   "cell_type": "code",
   "execution_count": 20,
   "metadata": {},
   "outputs": [],
   "source": [
    "waterbody_shapes.loc[subjoin_D.index]['DivNumber'] = subjoin_D.DivNumber_right\n",
    "waterbody_shapes.loc[subjoin_D.index]['Division_'] = subjoin_D.Division"
   ]
  },
  {
   "cell_type": "code",
   "execution_count": 21,
   "metadata": {},
   "outputs": [
    {
     "data": {
      "text/html": [
       "<div>\n",
       "<style scoped>\n",
       "    .dataframe tbody tr th:only-of-type {\n",
       "        vertical-align: middle;\n",
       "    }\n",
       "\n",
       "    .dataframe tbody tr th {\n",
       "        vertical-align: top;\n",
       "    }\n",
       "\n",
       "    .dataframe thead th {\n",
       "        text-align: right;\n",
       "    }\n",
       "</style>\n",
       "<table border=\"1\" class=\"dataframe\">\n",
       "  <thead>\n",
       "    <tr style=\"text-align: right;\">\n",
       "      <th></th>\n",
       "      <th>Stream</th>\n",
       "      <th>Hierarchy</th>\n",
       "      <th>Perennial</th>\n",
       "      <th>FEATURETYP</th>\n",
       "      <th>TEXTNOTE</th>\n",
       "      <th>geometry</th>\n",
       "      <th>DivNumber</th>\n",
       "      <th>Division_</th>\n",
       "      <th>RivRegNum</th>\n",
       "      <th>RivRegName</th>\n",
       "      <th>BNAME</th>\n",
       "      <th>BNUM</th>\n",
       "      <th>RNAME</th>\n",
       "      <th>RNUM</th>\n",
       "      <th>DNAME</th>\n",
       "      <th>DNUM</th>\n",
       "    </tr>\n",
       "    <tr>\n",
       "      <th>UID</th>\n",
       "      <th></th>\n",
       "      <th></th>\n",
       "      <th></th>\n",
       "      <th></th>\n",
       "      <th></th>\n",
       "      <th></th>\n",
       "      <th></th>\n",
       "      <th></th>\n",
       "      <th></th>\n",
       "      <th></th>\n",
       "      <th></th>\n",
       "      <th></th>\n",
       "      <th></th>\n",
       "      <th></th>\n",
       "      <th></th>\n",
       "      <th></th>\n",
       "    </tr>\n",
       "  </thead>\n",
       "  <tbody>\n",
       "    <tr>\n",
       "      <th>rj25uzs2b</th>\n",
       "      <td>None</td>\n",
       "      <td>Minor</td>\n",
       "      <td>Non Perennial</td>\n",
       "      <td>Aquaculture Area</td>\n",
       "      <td>aquafarm abandoned</td>\n",
       "      <td>POLYGON ((349050.000 -1570100.000, 349075.000 ...</td>\n",
       "      <td>12</td>\n",
       "      <td>Carpentaria Coast</td>\n",
       "      <td>4</td>\n",
       "      <td>ROPER RIVER</td>\n",
       "      <td>ROPER RIVER</td>\n",
       "      <td>3</td>\n",
       "      <td>ROPER</td>\n",
       "      <td>A</td>\n",
       "      <td>GULF OF CARPENTARIA</td>\n",
       "      <td>IX</td>\n",
       "    </tr>\n",
       "    <tr>\n",
       "      <th>rj2hhbdvq</th>\n",
       "      <td>None</td>\n",
       "      <td>Minor</td>\n",
       "      <td>Non Perennial</td>\n",
       "      <td>Aquaculture Area</td>\n",
       "      <td>aquafarm abandoned</td>\n",
       "      <td>POLYGON ((349375.000 -1569775.000, 349425.000 ...</td>\n",
       "      <td>12</td>\n",
       "      <td>Carpentaria Coast</td>\n",
       "      <td>4</td>\n",
       "      <td>ROPER RIVER</td>\n",
       "      <td>ROPER RIVER</td>\n",
       "      <td>3</td>\n",
       "      <td>ROPER</td>\n",
       "      <td>A</td>\n",
       "      <td>GULF OF CARPENTARIA</td>\n",
       "      <td>IX</td>\n",
       "    </tr>\n",
       "    <tr>\n",
       "      <th>rj25ur05e</th>\n",
       "      <td>None</td>\n",
       "      <td>None</td>\n",
       "      <td>None</td>\n",
       "      <td>Aquaculture Area</td>\n",
       "      <td>aquafarm abandoned</td>\n",
       "      <td>POLYGON ((346950.000 -1570150.000, 346975.000 ...</td>\n",
       "      <td>12</td>\n",
       "      <td>Carpentaria Coast</td>\n",
       "      <td>4</td>\n",
       "      <td>ROPER RIVER</td>\n",
       "      <td>ROPER RIVER</td>\n",
       "      <td>3</td>\n",
       "      <td>ROPER</td>\n",
       "      <td>A</td>\n",
       "      <td>GULF OF CARPENTARIA</td>\n",
       "      <td>IX</td>\n",
       "    </tr>\n",
       "    <tr>\n",
       "      <th>rj25ux1z6</th>\n",
       "      <td>None</td>\n",
       "      <td>None</td>\n",
       "      <td>None</td>\n",
       "      <td>Aquaculture Area</td>\n",
       "      <td>aquafarm abandoned</td>\n",
       "      <td>POLYGON ((347825.000 -1570650.000, 347900.000 ...</td>\n",
       "      <td>12</td>\n",
       "      <td>Carpentaria Coast</td>\n",
       "      <td>4</td>\n",
       "      <td>ROPER RIVER</td>\n",
       "      <td>ROPER RIVER</td>\n",
       "      <td>3</td>\n",
       "      <td>ROPER</td>\n",
       "      <td>A</td>\n",
       "      <td>GULF OF CARPENTARIA</td>\n",
       "      <td>IX</td>\n",
       "    </tr>\n",
       "    <tr>\n",
       "      <th>rj25uxbfx</th>\n",
       "      <td>None</td>\n",
       "      <td>None</td>\n",
       "      <td>None</td>\n",
       "      <td>Aquaculture Area</td>\n",
       "      <td>aquafarm abandoned</td>\n",
       "      <td>POLYGON ((347600.000 -1570000.000, 347625.000 ...</td>\n",
       "      <td>12</td>\n",
       "      <td>Carpentaria Coast</td>\n",
       "      <td>4</td>\n",
       "      <td>ROPER RIVER</td>\n",
       "      <td>ROPER RIVER</td>\n",
       "      <td>3</td>\n",
       "      <td>ROPER</td>\n",
       "      <td>A</td>\n",
       "      <td>GULF OF CARPENTARIA</td>\n",
       "      <td>IX</td>\n",
       "    </tr>\n",
       "    <tr>\n",
       "      <th>...</th>\n",
       "      <td>...</td>\n",
       "      <td>...</td>\n",
       "      <td>...</td>\n",
       "      <td>...</td>\n",
       "      <td>...</td>\n",
       "      <td>...</td>\n",
       "      <td>...</td>\n",
       "      <td>...</td>\n",
       "      <td>...</td>\n",
       "      <td>...</td>\n",
       "      <td>...</td>\n",
       "      <td>...</td>\n",
       "      <td>...</td>\n",
       "      <td>...</td>\n",
       "      <td>...</td>\n",
       "      <td>...</td>\n",
       "    </tr>\n",
       "    <tr>\n",
       "      <th>rhehehne4</th>\n",
       "      <td>FIERY CREEK</td>\n",
       "      <td>Major</td>\n",
       "      <td>Non Perennial</td>\n",
       "      <td>None</td>\n",
       "      <td>None</td>\n",
       "      <td>POLYGON ((773425.000 -2041850.000, 773425.000 ...</td>\n",
       "      <td>12</td>\n",
       "      <td>Carpentaria Coast</td>\n",
       "      <td>13</td>\n",
       "      <td>NICHOLSON-LEICHHARDT RIVERS</td>\n",
       "      <td>LEICHHARDT RIVER</td>\n",
       "      <td>13</td>\n",
       "      <td>LEICHHARDT</td>\n",
       "      <td>D</td>\n",
       "      <td>GULF OF CARPENTARIA</td>\n",
       "      <td>IX</td>\n",
       "    </tr>\n",
       "    <tr>\n",
       "      <th>rhehtm1un</th>\n",
       "      <td>SANDY CREEK</td>\n",
       "      <td>Major</td>\n",
       "      <td>Non Perennial</td>\n",
       "      <td>None</td>\n",
       "      <td>None</td>\n",
       "      <td>POLYGON ((783350.000 -2040950.000, 783400.000 ...</td>\n",
       "      <td>12</td>\n",
       "      <td>Carpentaria Coast</td>\n",
       "      <td>13</td>\n",
       "      <td>NICHOLSON-LEICHHARDT RIVERS</td>\n",
       "      <td>LEICHHARDT RIVER</td>\n",
       "      <td>13</td>\n",
       "      <td>LEICHHARDT</td>\n",
       "      <td>D</td>\n",
       "      <td>GULF OF CARPENTARIA</td>\n",
       "      <td>IX</td>\n",
       "    </tr>\n",
       "    <tr>\n",
       "      <th>rhehttv5k</th>\n",
       "      <td>None</td>\n",
       "      <td>Minor</td>\n",
       "      <td>Non Perennial</td>\n",
       "      <td>None</td>\n",
       "      <td>None</td>\n",
       "      <td>POLYGON ((784725.000 -2040875.000, 784750.000 ...</td>\n",
       "      <td>12</td>\n",
       "      <td>Carpentaria Coast</td>\n",
       "      <td>13</td>\n",
       "      <td>NICHOLSON-LEICHHARDT RIVERS</td>\n",
       "      <td>LEICHHARDT RIVER</td>\n",
       "      <td>13</td>\n",
       "      <td>LEICHHARDT</td>\n",
       "      <td>D</td>\n",
       "      <td>GULF OF CARPENTARIA</td>\n",
       "      <td>IX</td>\n",
       "    </tr>\n",
       "    <tr>\n",
       "      <th>rhehm1tgq</th>\n",
       "      <td>None</td>\n",
       "      <td>Minor</td>\n",
       "      <td>Non Perennial</td>\n",
       "      <td>None</td>\n",
       "      <td>None</td>\n",
       "      <td>POLYGON ((782150.000 -2048100.000, 782175.000 ...</td>\n",
       "      <td>12</td>\n",
       "      <td>Carpentaria Coast</td>\n",
       "      <td>13</td>\n",
       "      <td>NICHOLSON-LEICHHARDT RIVERS</td>\n",
       "      <td>LEICHHARDT RIVER</td>\n",
       "      <td>13</td>\n",
       "      <td>LEICHHARDT</td>\n",
       "      <td>D</td>\n",
       "      <td>GULF OF CARPENTARIA</td>\n",
       "      <td>IX</td>\n",
       "    </tr>\n",
       "    <tr>\n",
       "      <th>rheht0mtt</th>\n",
       "      <td>SANDY CREEK</td>\n",
       "      <td>Major</td>\n",
       "      <td>Non Perennial</td>\n",
       "      <td>None</td>\n",
       "      <td>None</td>\n",
       "      <td>POLYGON ((782200.000 -2044275.000, 782200.000 ...</td>\n",
       "      <td>12</td>\n",
       "      <td>Carpentaria Coast</td>\n",
       "      <td>13</td>\n",
       "      <td>NICHOLSON-LEICHHARDT RIVERS</td>\n",
       "      <td>LEICHHARDT RIVER</td>\n",
       "      <td>13</td>\n",
       "      <td>LEICHHARDT</td>\n",
       "      <td>D</td>\n",
       "      <td>GULF OF CARPENTARIA</td>\n",
       "      <td>IX</td>\n",
       "    </tr>\n",
       "  </tbody>\n",
       "</table>\n",
       "<p>295902 rows × 16 columns</p>\n",
       "</div>"
      ],
      "text/plain": [
       "                Stream Hierarchy      Perennial        FEATURETYP  \\\n",
       "UID                                                                 \n",
       "rj25uzs2b         None     Minor  Non Perennial  Aquaculture Area   \n",
       "rj2hhbdvq         None     Minor  Non Perennial  Aquaculture Area   \n",
       "rj25ur05e         None      None           None  Aquaculture Area   \n",
       "rj25ux1z6         None      None           None  Aquaculture Area   \n",
       "rj25uxbfx         None      None           None  Aquaculture Area   \n",
       "...                ...       ...            ...               ...   \n",
       "rhehehne4  FIERY CREEK     Major  Non Perennial              None   \n",
       "rhehtm1un  SANDY CREEK     Major  Non Perennial              None   \n",
       "rhehttv5k         None     Minor  Non Perennial              None   \n",
       "rhehm1tgq         None     Minor  Non Perennial              None   \n",
       "rheht0mtt  SANDY CREEK     Major  Non Perennial              None   \n",
       "\n",
       "                     TEXTNOTE  \\\n",
       "UID                             \n",
       "rj25uzs2b  aquafarm abandoned   \n",
       "rj2hhbdvq  aquafarm abandoned   \n",
       "rj25ur05e  aquafarm abandoned   \n",
       "rj25ux1z6  aquafarm abandoned   \n",
       "rj25uxbfx  aquafarm abandoned   \n",
       "...                       ...   \n",
       "rhehehne4                None   \n",
       "rhehtm1un                None   \n",
       "rhehttv5k                None   \n",
       "rhehm1tgq                None   \n",
       "rheht0mtt                None   \n",
       "\n",
       "                                                    geometry DivNumber  \\\n",
       "UID                                                                      \n",
       "rj25uzs2b  POLYGON ((349050.000 -1570100.000, 349075.000 ...        12   \n",
       "rj2hhbdvq  POLYGON ((349375.000 -1569775.000, 349425.000 ...        12   \n",
       "rj25ur05e  POLYGON ((346950.000 -1570150.000, 346975.000 ...        12   \n",
       "rj25ux1z6  POLYGON ((347825.000 -1570650.000, 347900.000 ...        12   \n",
       "rj25uxbfx  POLYGON ((347600.000 -1570000.000, 347625.000 ...        12   \n",
       "...                                                      ...       ...   \n",
       "rhehehne4  POLYGON ((773425.000 -2041850.000, 773425.000 ...        12   \n",
       "rhehtm1un  POLYGON ((783350.000 -2040950.000, 783400.000 ...        12   \n",
       "rhehttv5k  POLYGON ((784725.000 -2040875.000, 784750.000 ...        12   \n",
       "rhehm1tgq  POLYGON ((782150.000 -2048100.000, 782175.000 ...        12   \n",
       "rheht0mtt  POLYGON ((782200.000 -2044275.000, 782200.000 ...        12   \n",
       "\n",
       "                   Division_ RivRegNum                   RivRegName  \\\n",
       "UID                                                                   \n",
       "rj25uzs2b  Carpentaria Coast         4                  ROPER RIVER   \n",
       "rj2hhbdvq  Carpentaria Coast         4                  ROPER RIVER   \n",
       "rj25ur05e  Carpentaria Coast         4                  ROPER RIVER   \n",
       "rj25ux1z6  Carpentaria Coast         4                  ROPER RIVER   \n",
       "rj25uxbfx  Carpentaria Coast         4                  ROPER RIVER   \n",
       "...                      ...       ...                          ...   \n",
       "rhehehne4  Carpentaria Coast        13  NICHOLSON-LEICHHARDT RIVERS   \n",
       "rhehtm1un  Carpentaria Coast        13  NICHOLSON-LEICHHARDT RIVERS   \n",
       "rhehttv5k  Carpentaria Coast        13  NICHOLSON-LEICHHARDT RIVERS   \n",
       "rhehm1tgq  Carpentaria Coast        13  NICHOLSON-LEICHHARDT RIVERS   \n",
       "rheht0mtt  Carpentaria Coast        13  NICHOLSON-LEICHHARDT RIVERS   \n",
       "\n",
       "                      BNAME BNUM       RNAME RNUM                DNAME DNUM  \n",
       "UID                                                                          \n",
       "rj25uzs2b       ROPER RIVER    3       ROPER    A  GULF OF CARPENTARIA   IX  \n",
       "rj2hhbdvq       ROPER RIVER    3       ROPER    A  GULF OF CARPENTARIA   IX  \n",
       "rj25ur05e       ROPER RIVER    3       ROPER    A  GULF OF CARPENTARIA   IX  \n",
       "rj25ux1z6       ROPER RIVER    3       ROPER    A  GULF OF CARPENTARIA   IX  \n",
       "rj25uxbfx       ROPER RIVER    3       ROPER    A  GULF OF CARPENTARIA   IX  \n",
       "...                     ...  ...         ...  ...                  ...  ...  \n",
       "rhehehne4  LEICHHARDT RIVER   13  LEICHHARDT    D  GULF OF CARPENTARIA   IX  \n",
       "rhehtm1un  LEICHHARDT RIVER   13  LEICHHARDT    D  GULF OF CARPENTARIA   IX  \n",
       "rhehttv5k  LEICHHARDT RIVER   13  LEICHHARDT    D  GULF OF CARPENTARIA   IX  \n",
       "rhehm1tgq  LEICHHARDT RIVER   13  LEICHHARDT    D  GULF OF CARPENTARIA   IX  \n",
       "rheht0mtt  LEICHHARDT RIVER   13  LEICHHARDT    D  GULF OF CARPENTARIA   IX  \n",
       "\n",
       "[295902 rows x 16 columns]"
      ]
     },
     "execution_count": 21,
     "metadata": {},
     "output_type": "execute_result"
    }
   ],
   "source": [
    "waterbody_shapes"
   ]
  },
  {
   "cell_type": "code",
   "execution_count": 22,
   "metadata": {},
   "outputs": [],
   "source": [
    "waterbody_shapes.loc[subjoin_R.index]['RivRegNum'] = subjoin_R.RivRegNum\n",
    "waterbody_shapes.loc[subjoin_R.index]['RivRegName'] = subjoin_R.RivRegName"
   ]
  },
  {
   "cell_type": "code",
   "execution_count": 23,
   "metadata": {},
   "outputs": [],
   "source": [
    "waterbody_shapes.loc[subjoin_B.index]['BNAME'] = subjoin_B.BNAME\n",
    "waterbody_shapes.loc[subjoin_B.index]['BNUM'] = subjoin_B.BNUM\n",
    "waterbody_shapes.loc[subjoin_B.index]['RNAME'] = subjoin_B.RNAME\n",
    "waterbody_shapes.loc[subjoin_B.index]['RNUM'] = subjoin_B.RNUM\n",
    "waterbody_shapes.loc[subjoin_B.index]['DNAME'] = subjoin_B.DNAME\n",
    "waterbody_shapes.loc[subjoin_B.index]['DNUM'] = subjoin_B.DNUM"
   ]
  },
  {
   "cell_type": "code",
   "execution_count": 133,
   "metadata": {},
   "outputs": [],
   "source": [
    "waterbody_shapes.to_file('waterbodies_joined_drainage_basins.shp')"
   ]
  },
  {
   "cell_type": "markdown",
   "metadata": {},
   "source": [
    "Load the time series data for each waterbody."
   ]
  },
  {
   "cell_type": "code",
   "execution_count": 10,
   "metadata": {},
   "outputs": [
    {
     "data": {
      "application/vnd.jupyter.widget-view+json": {
       "model_id": "742380aa90b44a13914522ef9c1b9948",
       "version_major": 2,
       "version_minor": 0
      },
      "text/plain": [
       "HBox(children=(FloatProgress(value=0.0, max=295902.0), HTML(value='')))"
      ]
     },
     "metadata": {},
     "output_type": "display_data"
    },
    {
     "name": "stdout",
     "output_type": "stream",
     "text": [
      "\n"
     ]
    },
    {
     "ename": "KeyboardInterrupt",
     "evalue": "",
     "output_type": "error",
     "traceback": [
      "\u001b[0;31m---------------------------------------------------------------------------\u001b[0m",
      "\u001b[0;31mKeyboardInterrupt\u001b[0m                         Traceback (most recent call last)",
      "\u001b[0;32m<ipython-input-10-5968ba7154b5>\u001b[0m in \u001b[0;36m<module>\u001b[0;34m\u001b[0m\n\u001b[1;32m      4\u001b[0m     \u001b[0mcsv_path\u001b[0m \u001b[0;34m=\u001b[0m \u001b[0mwaterbody_csv_path\u001b[0m \u001b[0;34m/\u001b[0m \u001b[0muid\u001b[0m\u001b[0;34m[\u001b[0m\u001b[0;34m:\u001b[0m\u001b[0;36m4\u001b[0m\u001b[0;34m]\u001b[0m \u001b[0;34m/\u001b[0m \u001b[0;34mf'{uid}.csv'\u001b[0m\u001b[0;34m\u001b[0m\u001b[0;34m\u001b[0m\u001b[0m\n\u001b[1;32m      5\u001b[0m     \u001b[0;32mtry\u001b[0m\u001b[0;34m:\u001b[0m\u001b[0;34m\u001b[0m\u001b[0;34m\u001b[0m\u001b[0m\n\u001b[0;32m----> 6\u001b[0;31m         \u001b[0mtime_series\u001b[0m \u001b[0;34m=\u001b[0m \u001b[0mpd\u001b[0m\u001b[0;34m.\u001b[0m\u001b[0mread_csv\u001b[0m\u001b[0;34m(\u001b[0m\u001b[0mcsv_path\u001b[0m\u001b[0;34m)\u001b[0m\u001b[0;34m\u001b[0m\u001b[0;34m\u001b[0m\u001b[0m\n\u001b[0m\u001b[1;32m      7\u001b[0m     \u001b[0;32mexcept\u001b[0m \u001b[0mFileNotFoundError\u001b[0m\u001b[0;34m:\u001b[0m\u001b[0;34m\u001b[0m\u001b[0;34m\u001b[0m\u001b[0m\n\u001b[1;32m      8\u001b[0m         \u001b[0mprint\u001b[0m\u001b[0;34m(\u001b[0m\u001b[0;34m'Couldn\\'t find'\u001b[0m\u001b[0;34m,\u001b[0m \u001b[0muid\u001b[0m\u001b[0;34m)\u001b[0m\u001b[0;34m\u001b[0m\u001b[0;34m\u001b[0m\u001b[0m\n",
      "\u001b[0;32m/g/data/v10/public/modules/dea-env/20200713/lib/python3.6/site-packages/pandas/io/parsers.py\u001b[0m in \u001b[0;36mparser_f\u001b[0;34m(filepath_or_buffer, sep, delimiter, header, names, index_col, usecols, squeeze, prefix, mangle_dupe_cols, dtype, engine, converters, true_values, false_values, skipinitialspace, skiprows, skipfooter, nrows, na_values, keep_default_na, na_filter, verbose, skip_blank_lines, parse_dates, infer_datetime_format, keep_date_col, date_parser, dayfirst, cache_dates, iterator, chunksize, compression, thousands, decimal, lineterminator, quotechar, quoting, doublequote, escapechar, comment, encoding, dialect, error_bad_lines, warn_bad_lines, delim_whitespace, low_memory, memory_map, float_precision)\u001b[0m\n\u001b[1;32m    674\u001b[0m         )\n\u001b[1;32m    675\u001b[0m \u001b[0;34m\u001b[0m\u001b[0m\n\u001b[0;32m--> 676\u001b[0;31m         \u001b[0;32mreturn\u001b[0m \u001b[0m_read\u001b[0m\u001b[0;34m(\u001b[0m\u001b[0mfilepath_or_buffer\u001b[0m\u001b[0;34m,\u001b[0m \u001b[0mkwds\u001b[0m\u001b[0;34m)\u001b[0m\u001b[0;34m\u001b[0m\u001b[0;34m\u001b[0m\u001b[0m\n\u001b[0m\u001b[1;32m    677\u001b[0m \u001b[0;34m\u001b[0m\u001b[0m\n\u001b[1;32m    678\u001b[0m     \u001b[0mparser_f\u001b[0m\u001b[0;34m.\u001b[0m\u001b[0m__name__\u001b[0m \u001b[0;34m=\u001b[0m \u001b[0mname\u001b[0m\u001b[0;34m\u001b[0m\u001b[0;34m\u001b[0m\u001b[0m\n",
      "\u001b[0;32m/g/data/v10/public/modules/dea-env/20200713/lib/python3.6/site-packages/pandas/io/parsers.py\u001b[0m in \u001b[0;36m_read\u001b[0;34m(filepath_or_buffer, kwds)\u001b[0m\n\u001b[1;32m    446\u001b[0m \u001b[0;34m\u001b[0m\u001b[0m\n\u001b[1;32m    447\u001b[0m     \u001b[0;31m# Create the parser.\u001b[0m\u001b[0;34m\u001b[0m\u001b[0;34m\u001b[0m\u001b[0;34m\u001b[0m\u001b[0m\n\u001b[0;32m--> 448\u001b[0;31m     \u001b[0mparser\u001b[0m \u001b[0;34m=\u001b[0m \u001b[0mTextFileReader\u001b[0m\u001b[0;34m(\u001b[0m\u001b[0mfp_or_buf\u001b[0m\u001b[0;34m,\u001b[0m \u001b[0;34m**\u001b[0m\u001b[0mkwds\u001b[0m\u001b[0;34m)\u001b[0m\u001b[0;34m\u001b[0m\u001b[0;34m\u001b[0m\u001b[0m\n\u001b[0m\u001b[1;32m    449\u001b[0m \u001b[0;34m\u001b[0m\u001b[0m\n\u001b[1;32m    450\u001b[0m     \u001b[0;32mif\u001b[0m \u001b[0mchunksize\u001b[0m \u001b[0;32mor\u001b[0m \u001b[0miterator\u001b[0m\u001b[0;34m:\u001b[0m\u001b[0;34m\u001b[0m\u001b[0;34m\u001b[0m\u001b[0m\n",
      "\u001b[0;32m/g/data/v10/public/modules/dea-env/20200713/lib/python3.6/site-packages/pandas/io/parsers.py\u001b[0m in \u001b[0;36m__init__\u001b[0;34m(self, f, engine, **kwds)\u001b[0m\n\u001b[1;32m    878\u001b[0m             \u001b[0mself\u001b[0m\u001b[0;34m.\u001b[0m\u001b[0moptions\u001b[0m\u001b[0;34m[\u001b[0m\u001b[0;34m\"has_index_names\"\u001b[0m\u001b[0;34m]\u001b[0m \u001b[0;34m=\u001b[0m \u001b[0mkwds\u001b[0m\u001b[0;34m[\u001b[0m\u001b[0;34m\"has_index_names\"\u001b[0m\u001b[0;34m]\u001b[0m\u001b[0;34m\u001b[0m\u001b[0;34m\u001b[0m\u001b[0m\n\u001b[1;32m    879\u001b[0m \u001b[0;34m\u001b[0m\u001b[0m\n\u001b[0;32m--> 880\u001b[0;31m         \u001b[0mself\u001b[0m\u001b[0;34m.\u001b[0m\u001b[0m_make_engine\u001b[0m\u001b[0;34m(\u001b[0m\u001b[0mself\u001b[0m\u001b[0;34m.\u001b[0m\u001b[0mengine\u001b[0m\u001b[0;34m)\u001b[0m\u001b[0;34m\u001b[0m\u001b[0;34m\u001b[0m\u001b[0m\n\u001b[0m\u001b[1;32m    881\u001b[0m \u001b[0;34m\u001b[0m\u001b[0m\n\u001b[1;32m    882\u001b[0m     \u001b[0;32mdef\u001b[0m \u001b[0mclose\u001b[0m\u001b[0;34m(\u001b[0m\u001b[0mself\u001b[0m\u001b[0;34m)\u001b[0m\u001b[0;34m:\u001b[0m\u001b[0;34m\u001b[0m\u001b[0;34m\u001b[0m\u001b[0m\n",
      "\u001b[0;32m/g/data/v10/public/modules/dea-env/20200713/lib/python3.6/site-packages/pandas/io/parsers.py\u001b[0m in \u001b[0;36m_make_engine\u001b[0;34m(self, engine)\u001b[0m\n\u001b[1;32m   1112\u001b[0m     \u001b[0;32mdef\u001b[0m \u001b[0m_make_engine\u001b[0m\u001b[0;34m(\u001b[0m\u001b[0mself\u001b[0m\u001b[0;34m,\u001b[0m \u001b[0mengine\u001b[0m\u001b[0;34m=\u001b[0m\u001b[0;34m\"c\"\u001b[0m\u001b[0;34m)\u001b[0m\u001b[0;34m:\u001b[0m\u001b[0;34m\u001b[0m\u001b[0;34m\u001b[0m\u001b[0m\n\u001b[1;32m   1113\u001b[0m         \u001b[0;32mif\u001b[0m \u001b[0mengine\u001b[0m \u001b[0;34m==\u001b[0m \u001b[0;34m\"c\"\u001b[0m\u001b[0;34m:\u001b[0m\u001b[0;34m\u001b[0m\u001b[0;34m\u001b[0m\u001b[0m\n\u001b[0;32m-> 1114\u001b[0;31m             \u001b[0mself\u001b[0m\u001b[0;34m.\u001b[0m\u001b[0m_engine\u001b[0m \u001b[0;34m=\u001b[0m \u001b[0mCParserWrapper\u001b[0m\u001b[0;34m(\u001b[0m\u001b[0mself\u001b[0m\u001b[0;34m.\u001b[0m\u001b[0mf\u001b[0m\u001b[0;34m,\u001b[0m \u001b[0;34m**\u001b[0m\u001b[0mself\u001b[0m\u001b[0;34m.\u001b[0m\u001b[0moptions\u001b[0m\u001b[0;34m)\u001b[0m\u001b[0;34m\u001b[0m\u001b[0;34m\u001b[0m\u001b[0m\n\u001b[0m\u001b[1;32m   1115\u001b[0m         \u001b[0;32melse\u001b[0m\u001b[0;34m:\u001b[0m\u001b[0;34m\u001b[0m\u001b[0;34m\u001b[0m\u001b[0m\n\u001b[1;32m   1116\u001b[0m             \u001b[0;32mif\u001b[0m \u001b[0mengine\u001b[0m \u001b[0;34m==\u001b[0m \u001b[0;34m\"python\"\u001b[0m\u001b[0;34m:\u001b[0m\u001b[0;34m\u001b[0m\u001b[0;34m\u001b[0m\u001b[0m\n",
      "\u001b[0;32m/g/data/v10/public/modules/dea-env/20200713/lib/python3.6/site-packages/pandas/io/parsers.py\u001b[0m in \u001b[0;36m__init__\u001b[0;34m(self, src, **kwds)\u001b[0m\n\u001b[1;32m   1889\u001b[0m         \u001b[0mkwds\u001b[0m\u001b[0;34m[\u001b[0m\u001b[0;34m\"usecols\"\u001b[0m\u001b[0;34m]\u001b[0m \u001b[0;34m=\u001b[0m \u001b[0mself\u001b[0m\u001b[0;34m.\u001b[0m\u001b[0musecols\u001b[0m\u001b[0;34m\u001b[0m\u001b[0;34m\u001b[0m\u001b[0m\n\u001b[1;32m   1890\u001b[0m \u001b[0;34m\u001b[0m\u001b[0m\n\u001b[0;32m-> 1891\u001b[0;31m         \u001b[0mself\u001b[0m\u001b[0;34m.\u001b[0m\u001b[0m_reader\u001b[0m \u001b[0;34m=\u001b[0m \u001b[0mparsers\u001b[0m\u001b[0;34m.\u001b[0m\u001b[0mTextReader\u001b[0m\u001b[0;34m(\u001b[0m\u001b[0msrc\u001b[0m\u001b[0;34m,\u001b[0m \u001b[0;34m**\u001b[0m\u001b[0mkwds\u001b[0m\u001b[0;34m)\u001b[0m\u001b[0;34m\u001b[0m\u001b[0;34m\u001b[0m\u001b[0m\n\u001b[0m\u001b[1;32m   1892\u001b[0m         \u001b[0mself\u001b[0m\u001b[0;34m.\u001b[0m\u001b[0munnamed_cols\u001b[0m \u001b[0;34m=\u001b[0m \u001b[0mself\u001b[0m\u001b[0;34m.\u001b[0m\u001b[0m_reader\u001b[0m\u001b[0;34m.\u001b[0m\u001b[0munnamed_cols\u001b[0m\u001b[0;34m\u001b[0m\u001b[0;34m\u001b[0m\u001b[0m\n\u001b[1;32m   1893\u001b[0m \u001b[0;34m\u001b[0m\u001b[0m\n",
      "\u001b[0;31mKeyboardInterrupt\u001b[0m: "
     ]
    }
   ],
   "source": [
    "all_time_series = []\n",
    "for i, shape in tqdm(waterbody_shapes.iterrows(), total=len(waterbody_shapes)):\n",
    "    uid = shape.UID\n",
    "    csv_path = waterbody_csv_path / uid[:4] / f'{uid}.csv'\n",
    "    try:\n",
    "        time_series = pd.read_csv(csv_path)\n",
    "    except FileNotFoundError:\n",
    "        print('Couldn\\'t find', uid)\n",
    "        time_series = all_time_series[-1].copy()\n",
    "        time_series['pc_wet'] = np.nan\n",
    "        time_series['px_wet'] = np.nan\n",
    "    # Relabel the third column to something consistent, and rename all columns to something\n",
    "    # easier to access.\n",
    "    time_series.rename(columns={\n",
    "        'Observation Date': 'date',\n",
    "        'Wet pixel percentage': 'pc_wet',\n",
    "        time_series.columns[2]: 'px_wet',\n",
    "        }, inplace=True)\n",
    "    # Convert time strings into datetimes.\n",
    "    time_series.date = pd.to_datetime(time_series.date)\n",
    "    # Store the actual number of pixels too.\n",
    "    n_pixels = shape.geometry.area // (25 ** 2)\n",
    "    time_series.attrs['px_tot'] = n_pixels  # attrs is experimental.\n",
    "    all_time_series.append(time_series)"
   ]
  },
  {
   "cell_type": "markdown",
   "metadata": {},
   "source": [
    "Or if those are already loaded..."
   ]
  },
  {
   "cell_type": "code",
   "execution_count": 24,
   "metadata": {},
   "outputs": [],
   "source": [
    "all_time_series = joblib.load('all_time_series.joblib')"
   ]
  },
  {
   "cell_type": "code",
   "execution_count": 25,
   "metadata": {},
   "outputs": [
    {
     "data": {
      "text/plain": [
       "295902"
      ]
     },
     "execution_count": 25,
     "metadata": {},
     "output_type": "execute_result"
    }
   ],
   "source": [
    "len(all_time_series)"
   ]
  },
  {
   "cell_type": "code",
   "execution_count": 26,
   "metadata": {},
   "outputs": [],
   "source": [
    "waterbodies = waterbody_shapes"
   ]
  },
  {
   "cell_type": "code",
   "execution_count": 27,
   "metadata": {},
   "outputs": [],
   "source": [
    "assert len(all_time_series) == len(waterbody_shapes)"
   ]
  },
  {
   "cell_type": "markdown",
   "metadata": {},
   "source": [
    "## Interpolate histories"
   ]
  },
  {
   "cell_type": "markdown",
   "metadata": {},
   "source": [
    "The next bit of code is memory-intensive, so only operate on one drainage division at a time."
   ]
  },
  {
   "cell_type": "code",
   "execution_count": 28,
   "metadata": {},
   "outputs": [
    {
     "data": {
      "text/plain": [
       "['Carpentaria Coast',\n",
       " 'None',\n",
       " 'Pilbara-Gascoyne',\n",
       " 'Tanami-Timor Sea Coast',\n",
       " 'South Australian Gulf',\n",
       " 'Tasmania',\n",
       " 'South West Coast',\n",
       " 'South East Coast (Victoria)',\n",
       " 'South East Coast (NSW)',\n",
       " 'Murray-Darling Basin',\n",
       " 'Lake Eyre Basin',\n",
       " 'South Western Plateau',\n",
       " 'North East Coast',\n",
       " 'North Western Plateau']"
      ]
     },
     "execution_count": 28,
     "metadata": {},
     "output_type": "execute_result"
    }
   ],
   "source": [
    "divisions = waterbodies.Division_.unique()\n",
    "divisions = [d if isinstance(d, str) else 'None' for d in divisions]\n",
    "divisions"
   ]
  },
  {
   "cell_type": "markdown",
   "metadata": {},
   "source": [
    "Define the time range to interpolate over:"
   ]
  },
  {
   "cell_type": "code",
   "execution_count": 29,
   "metadata": {},
   "outputs": [],
   "source": [
    "dates = np.arange(np.datetime64('1986-08-16'), np.datetime64('2020-07-19'), 1)"
   ]
  },
  {
   "cell_type": "markdown",
   "metadata": {},
   "source": [
    "Initialise the HDF5 file."
   ]
  },
  {
   "cell_type": "code",
   "execution_count": 30,
   "metadata": {},
   "outputs": [],
   "source": [
    "n_all_basins = 0"
   ]
  },
  {
   "cell_type": "code",
   "execution_count": 31,
   "metadata": {},
   "outputs": [
    {
     "name": "stdout",
     "output_type": "stream",
     "text": [
      "Carpentaria Coast\n",
      "\t/ROPER RIVER\n",
      "\t/EMBLEY RIVER\n",
      "\t/NONE\n",
      "\t/WATSON RIVER\n",
      "\t/ARCHER RIVER\n",
      "\t/COLEMAN RIVER\n",
      "\t/HOLROYD RIVER\n",
      "\t/FLINDERS RIVER\n",
      "\t/LEICHHARDT RIVER\n",
      "\t/MORNING INLET\n",
      "\t/NICHOLSON RIVER\n",
      "\t/GILBERT RIVER\n",
      "\t/NORMAN RIVER\n",
      "\t/STAATEN RIVER\n",
      "\t/MITCHELL RIVER (WA)\n",
      "\t/HERBERT RIVER\n",
      "\t/TORRES STRAIT ISLANDS\n",
      "\t/McARTHUR RIVER\n",
      "\t/GROOTE EYLANDT\n",
      "\t/CALVERT RIVER\n",
      "\t/WALKER RIVER\n",
      "\t/SETTLEMENT CREEK\n",
      "\t/MORNINGTON ISLAND\n",
      "\t/LIMMEN BIGHT RIVER\n",
      "\t/KOOLATONG RIVER\n",
      "\t/ROSIE RIVER\n",
      "\t/ROBINSON RIVER\n",
      "\t/TOWNS RIVER\n",
      "\t/BARKLY\n",
      "\t/DALY RIVER\n",
      "\t/DUCIE RIVER\n",
      "\t/JARDINE RIVER\n",
      "\t/WENLOCK RIVER\n",
      "\t/BUCKINGHAM RIVER\n",
      "\t/GEORGINA RIVER\n",
      "\t/WISO\n",
      "None\n",
      "Pilbara-Gascoyne\n",
      "\t/GREENOUGH RIVER\n",
      "\t/PORT HEDLAND COAST\n",
      "\t/ONSLOW COAST\n",
      "\t/LYNDON-MINILYA RIVERS\n",
      "\t/WOORAMEL RIVER\n",
      "\t/GASCOYNE RIVER\n",
      "\t/FORTESCUE RIVER\n",
      "\t/MURCHISON RIVER\n",
      "\t/SALT LAKE\n",
      "\t/ASHBURTON RIVER\n",
      "\t/NONE\n",
      "\t/YARRA YARRA LAKES\n",
      "\t/SANDY DESERT\n",
      "Tanami-Timor Sea Coast\n",
      "\t/FINNISS RIVER\n",
      "\t/ADELAIDE RIVER\n",
      "\t/MARY RIVER (WA)\n",
      "\t/EAST ALLIGATOR RIVER\n",
      "\t/MACKAY\n",
      "\t/DALY RIVER\n",
      "\t/WISO\n",
      "\t/NONE\n",
      "\t/LENNARD RIVER\n",
      "\t/DRYSDALE RIVER\n",
      "\t/BATHURST AND MELVILLE ISLANDS\n",
      "\t/CAPE LEVEQUE COAST\n",
      "\t/PRINCE REGENT RIVER\n",
      "\t/ISDELL RIVER\n",
      "\t/BUCKINGHAM RIVER\n",
      "\t/FITZROY RIVER (WA)\n",
      "\t/PENTECOST RIVER\n",
      "\t/KEEP RIVER\n",
      "\t/GOOMADEER RIVER\n",
      "\t/FITZMAURICE RIVER\n",
      "\t/BURT\n",
      "\t/BARKLY\n",
      "\t/VICTORIA RIVER\n",
      "\t/LIVERPOOL RIVER\n",
      "\t/BLYTH RIVER\n",
      "\t/ORD RIVER\n",
      "\t/ROPER RIVER\n",
      "\t/MOYLE RIVER\n",
      "\t/WILDMAN RIVER\n",
      "\t/SOUTH ALLIGATOR RIVER\n",
      "\t/KING EDWARD RIVER\n",
      "\t/GOYDER RIVER\n",
      "\t/SANDY DESERT\n",
      "\t/WARBURTON\n",
      "\t/FINKE RIVER\n",
      "\t/GEORGINA RIVER\n",
      "South Australian Gulf\n",
      "\t/BROUGHTON RIVER\n",
      "\t/FLEURIEU PENINSULA\n",
      "\t/MAMBRAY COAST\n",
      "\t/GAIRDNER\n",
      "\t/KANGAROO ISLAND\n",
      "\t/SPENCER GULF\n",
      "\t/LAKE TORRENS\n",
      "\t/NONE\n",
      "\t/WAKEFIELD RIVER\n",
      "\t/EYRE PENINSULA\n",
      "\t/GAWLER RIVER\n",
      "\t/TORRENS RIVER\n",
      "\t/ONKAPARINGA RIVER\n",
      "\t/MYPONGA RIVER\n",
      "\t/LOWER MURRAY RIVER\n",
      "\t/LAKE FROME\n",
      "\t/WILLOCHRA CREEK\n",
      "Tasmania\n",
      "\t/EAST COAST\n",
      "\t/DERWENT RIVER\n",
      "\t/TAMAR RIVER\n",
      "\t/KING-HENTY RIVERS\n",
      "\t/MERSEY RIVER\n",
      "\t/FLINDERS-CAPE BARREN ISLANDS\n",
      "\t/SMITHTON-BURNIE COAST\n",
      "\t/PIEMAN RIVER\n",
      "\t/COAL RIVER\n",
      "\t/RUBICON RIVER\n",
      "\t/SOUTH-WEST COAST\n",
      "\t/HUON RIVER\n",
      "\t/NONE\n",
      "\t/FORTH RIVER\n",
      "\t/GORDON RIVER\n",
      "\t/PIPER-RINGAROOMA RIVERS\n",
      "\t/KING ISLAND\n",
      "\t/SANDY CAPE COAST\n",
      "\t/ARTHUR RIVER\n",
      "\t/KINGSTON COAST\n",
      "South West Coast\n",
      "\t/MURRAY RIVER (WA)\n",
      "\t/HARVEY RIVER\n",
      "\t/ALBANY COAST\n",
      "\t/FRANKLAND RIVER\n",
      "\t/COLLIE RIVER\n",
      "\t/BUSSELTON COAST\n",
      "\t/BLACKWOOD RIVER\n",
      "\t/DONNELLY RIVER\n",
      "\t/AVON RIVER\n",
      "\t/ESPERANCE COAST\n",
      "\t/PRESTON RIVER\n",
      "\t/WARREN RIVER\n",
      "\t/NONE\n",
      "\t/MOORE-HILL RIVERS\n",
      "\t/KENT RIVER\n",
      "\t/YARRA YARRA LAKES\n",
      "\t/SALT LAKE\n",
      "\t/NINGHAN\n",
      "\t/SHANNON RIVER\n",
      "\t/SWAN COAST\n",
      "\t/DENMARK RIVER\n",
      "South East Coast (Victoria)\n",
      "\t/BUNYIP RIVER\n",
      "\t/MITCHELL RIVER (VIC)\n",
      "\t/MILLICENT COAST\n",
      "\t/GLENELG RIVER\n",
      "\t/MARIBYRNONG RIVER\n",
      "\t/HOPKINS RIVER\n",
      "\t/SNOWY RIVER\n",
      "\t/WERRIBEE RIVER\n",
      "\t/PORTLAND COAST\n",
      "\t/YARRA RIVER\n",
      "\t/MOORABOOL RIVER\n",
      "\t/TAMBO RIVER\n",
      "\t/BARWON RIVER\n",
      "\t/NONE\n",
      "\t/LAKE CORANGAMITE\n",
      "\t/EAST GIPPSLAND\n",
      "\t/SOUTH GIPPSLAND\n",
      "\t/THOMSON RIVER\n",
      "\t/LATROBE RIVER\n",
      "\t/WIMMERA-AVON RIVERS\n",
      "\t/OTWAY COAST\n",
      "\t/MURRUMBIDGEE RIVER\n",
      "South East Coast (NSW)\n",
      "\t/RICHMOND RIVER\n",
      "\t/MACLEAY RIVER\n",
      "\t/SYDNEY COAST-GEORGES RIVER\n",
      "\t/SHOALHAVEN RIVER\n",
      "\t/HASTINGS RIVER\n",
      "\t/HUNTER RIVER\n",
      "\t/CLARENCE RIVER\n",
      "\t/HAWKESBURY RIVER\n",
      "\t/MACQUARIE-TUGGERAH LAKES\n",
      "\t/TOWAMBA RIVER\n",
      "\t/BEGA RIVER\n",
      "\t/BRUNSWICK RIVER\n",
      "\t/WOLLONGONG COAST\n",
      "\t/MANNING RIVER\n",
      "\t/TWEED RIVER\n",
      "\t/CLYDE RIVER-JERVIS BAY\n",
      "\t/KARUAH RIVER\n",
      "\t/BELLINGER RIVER\n",
      "\t/MORUYA RIVER\n",
      "\t/TUROSS RIVER\n",
      "\t/NONE\n",
      "\t/GWYDIR RIVER\n",
      "\t/SOUTH COAST\n",
      "\t/SNOWY RIVER\n",
      "Murray-Darling Basin\n",
      "\t/LOWER MURRAY RIVER\n",
      "\t/MURRUMBIDGEE RIVER\n",
      "\t/WIMMERA-AVON RIVERS\n",
      "\t/MACQUARIE-BOGAN RIVERS\n",
      "\t/UPPER MURRAY RIVER\n",
      "\t/MILLICENT COAST\n",
      "\t/CONDAMINE-CULGOA RIVERS\n",
      "\t/BORDER RIVERS\n",
      "\t/LACHLAN RIVER\n",
      "\t/NAMOI RIVER\n",
      "\t/LODDON RIVER\n",
      "\t/MURRAY-RIVERINA\n",
      "\t/WARREGO RIVER\n",
      "\t/NONE\n",
      "\t/GWYDIR RIVER\n",
      "\t/OVENS RIVER\n",
      "\t/GOULBURN RIVER\n",
      "\t/PAROO RIVER\n",
      "\t/MOONIE RIVER\n",
      "\t/DARLING RIVER\n",
      "\t/BROKEN RIVER\n",
      "\t/CASTLEREAGH RIVER\n",
      "\t/BENANEE\n",
      "\t/BULLOO RIVER\n",
      "\t/AVOCA RIVER\n",
      "\t/KIEWA RIVER\n",
      "\t/CAMPASPE RIVER\n",
      "\t/LAKE GEORGE\n",
      "\t/MALLEE\n",
      "\t/HOPKINS RIVER\n",
      "\t/LAKE BANCANNIA\n",
      "\t/FITZROY RIVER (QLD)\n",
      "\t/WERRIBEE RIVER\n",
      "\t/HAWKESBURY RIVER\n",
      "Lake Eyre Basin\n",
      "\t/LAKE FROME\n",
      "\t/COOPER CREEK\n",
      "\t/LAKE BANCANNIA\n",
      "\t/BULLOO RIVER\n",
      "\t/GEORGINA RIVER\n",
      "\t/BURDEKIN RIVER\n",
      "\t/DIAMANTINA RIVER\n",
      "\t/NONE\n",
      "\t/TODD RIVER\n",
      "\t/MACKAY\n",
      "\t/FINKE RIVER\n",
      "\t/BARKLY\n",
      "\t/HAY RIVER\n",
      "\t/GAIRDNER\n",
      "\t/WARBURTON\n",
      "South Western Plateau\n",
      "\t/SALT LAKE\n",
      "\t/GAIRDNER\n",
      "\t/WARBURTON\n",
      "\t/ESPERANCE COAST\n",
      "\t/NULLARBOR\n",
      "\t/MACKAY\n",
      "\t/NONE\n",
      "\t/AVON RIVER\n",
      "North East Coast\n",
      "\t/BURDEKIN RIVER\n",
      "\t/FITZROY RIVER (QLD)\n",
      "\t/NONE\n",
      "\t/CONDAMINE-CULGOA RIVERS\n",
      "\t/ROSS RIVER\n",
      "\t/HAUGHTON RIVER\n",
      "\t/BLACK RIVER\n",
      "\t/PROSERPINE RIVER\n",
      "\t/WATER PARK CREEK\n",
      "\t/CALLIOPE RIVER\n",
      "\t/DON RIVER\n",
      "\t/HERBERT RIVER\n",
      "\t/TULLY RIVER\n",
      "\t/MURRAY RIVER (QLD)\n",
      "\t/BARRON RIVER\n",
      "\t/JOHNSTONE RIVER\n",
      "\t/MULGRAVE-RUSSELL RIVERS\n",
      "\t/ENDEAVOUR RIVER\n",
      "\t/DAINTREE RIVER\n",
      "\t/MOSSMAN RIVER\n",
      "\t/LOGAN-ALBERT RIVERS\n",
      "\t/BRISBANE RIVER\n",
      "\t/PINE RIVER\n",
      "\t/MAROOCHY RIVER\n",
      "\t/SOUTH COAST\n",
      "\t/STRADBROKE ISLAND\n",
      "\t/O'CONNELL RIVER\n",
      "\t/PIONEER RIVER\n",
      "\t/PLANE CREEK\n",
      "\t/SHOALWATER CREEK\n",
      "\t/STYX RIVER\n",
      "\t/MARY RIVER (QLD)\n",
      "\t/BURRUM RIVER\n",
      "\t/BURNETT RIVER\n",
      "\t/NOOSA RIVER\n",
      "\t/FRASER ISLAND\n",
      "\t/KOLAN RIVER\n",
      "\t/BAFFLE CREEK\n",
      "\t/BOYNE RIVER\n",
      "\t/CURTIS ISLAND\n",
      "\t/COOPER CREEK\n",
      "\t/NORMANBY RIVER\n",
      "\t/MITCHELL RIVER (WA)\n",
      "\t/JACKY JACKY CREEK\n",
      "\t/OLIVE-PASCOE RIVERS\n",
      "\t/STEWART RIVER\n",
      "\t/HINCHINBROOK ISLAND\n",
      "\t/JEANNIE RIVER\n",
      "\t/LOCKHART RIVER\n",
      "\t/WHITSUNDAY ISLAND\n",
      "\t/FLINDERS RIVER\n",
      "North Western Plateau\n",
      "\t/SANDY DESERT\n",
      "\t/NONE\n",
      "\t/DE GREY RIVER\n",
      "\t/SALT LAKE\n",
      "\t/MACKAY\n",
      "\t/WISO\n",
      "\t/PORT HEDLAND COAST\n"
     ]
    }
   ],
   "source": [
    "with h5py.File('interpolated_waterbodies_by_division_and_basin_fixeduids.h5', 'w') as f:\n",
    "    for d in divisions:\n",
    "        print(d)\n",
    "        g = f.require_group(d)\n",
    "        for basin in waterbodies[waterbodies.Division_ == d].BNAME.unique():\n",
    "            if basin is None:\n",
    "                basin = 'NONE'\n",
    "            try:\n",
    "                g.require_group(basin)\n",
    "            except AttributeError:\n",
    "                # nan - there was no matching basin\n",
    "                basin = 'NONE'\n",
    "                g.require_group(basin)\n",
    "            print(f'\\t/{basin}')\n",
    "            n_all_basins += 1"
   ]
  },
  {
   "cell_type": "markdown",
   "metadata": {},
   "source": [
    "Then do the interpolation for each basin."
   ]
  },
  {
   "cell_type": "code",
   "execution_count": null,
   "metadata": {},
   "outputs": [
    {
     "data": {
      "application/vnd.jupyter.widget-view+json": {
       "model_id": "b5d3ffd604ef4150b442ba784a3d97ce",
       "version_major": 2,
       "version_minor": 0
      },
      "text/plain": [
       "HBox(children=(FloatProgress(value=0.0, max=304.0), HTML(value='')))"
      ]
     },
     "metadata": {},
     "output_type": "display_data"
    },
    {
     "data": {
      "application/vnd.jupyter.widget-view+json": {
       "model_id": "",
       "version_major": 2,
       "version_minor": 0
      },
      "text/plain": [
       "HBox(children=(FloatProgress(value=0.0, max=845.0), HTML(value='')))"
      ]
     },
     "metadata": {},
     "output_type": "display_data"
    },
    {
     "data": {
      "application/vnd.jupyter.widget-view+json": {
       "model_id": "",
       "version_major": 2,
       "version_minor": 0
      },
      "text/plain": [
       "HBox(children=(FloatProgress(value=0.0, max=1.0), HTML(value='')))"
      ]
     },
     "metadata": {},
     "output_type": "display_data"
    },
    {
     "data": {
      "application/vnd.jupyter.widget-view+json": {
       "model_id": "",
       "version_major": 2,
       "version_minor": 0
      },
      "text/plain": [
       "HBox(children=(FloatProgress(value=0.0, max=4.0), HTML(value='')))"
      ]
     },
     "metadata": {},
     "output_type": "display_data"
    },
    {
     "data": {
      "application/vnd.jupyter.widget-view+json": {
       "model_id": "",
       "version_major": 2,
       "version_minor": 0
      },
      "text/plain": [
       "HBox(children=(FloatProgress(value=0.0, max=586.0), HTML(value='')))"
      ]
     },
     "metadata": {},
     "output_type": "display_data"
    },
    {
     "data": {
      "application/vnd.jupyter.widget-view+json": {
       "model_id": "",
       "version_major": 2,
       "version_minor": 0
      },
      "text/plain": [
       "HBox(children=(FloatProgress(value=0.0, max=1752.0), HTML(value='')))"
      ]
     },
     "metadata": {},
     "output_type": "display_data"
    },
    {
     "data": {
      "application/vnd.jupyter.widget-view+json": {
       "model_id": "",
       "version_major": 2,
       "version_minor": 0
      },
      "text/plain": [
       "HBox(children=(FloatProgress(value=0.0, max=3.0), HTML(value='')))"
      ]
     },
     "metadata": {},
     "output_type": "display_data"
    },
    {
     "data": {
      "application/vnd.jupyter.widget-view+json": {
       "model_id": "",
       "version_major": 2,
       "version_minor": 0
      },
      "text/plain": [
       "HBox(children=(FloatProgress(value=0.0, max=351.0), HTML(value='')))"
      ]
     },
     "metadata": {},
     "output_type": "display_data"
    },
    {
     "data": {
      "application/vnd.jupyter.widget-view+json": {
       "model_id": "",
       "version_major": 2,
       "version_minor": 0
      },
      "text/plain": [
       "HBox(children=(FloatProgress(value=0.0, max=861.0), HTML(value='')))"
      ]
     },
     "metadata": {},
     "output_type": "display_data"
    },
    {
     "data": {
      "application/vnd.jupyter.widget-view+json": {
       "model_id": "",
       "version_major": 2,
       "version_minor": 0
      },
      "text/plain": [
       "HBox(children=(FloatProgress(value=0.0, max=3285.0), HTML(value='')))"
      ]
     },
     "metadata": {},
     "output_type": "display_data"
    },
    {
     "data": {
      "application/vnd.jupyter.widget-view+json": {
       "model_id": "",
       "version_major": 2,
       "version_minor": 0
      },
      "text/plain": [
       "HBox(children=(FloatProgress(value=0.0, max=1.0), HTML(value='')))"
      ]
     },
     "metadata": {},
     "output_type": "display_data"
    },
    {
     "data": {
      "application/vnd.jupyter.widget-view+json": {
       "model_id": "",
       "version_major": 2,
       "version_minor": 0
      },
      "text/plain": [
       "HBox(children=(FloatProgress(value=0.0, max=1997.0), HTML(value='')))"
      ]
     },
     "metadata": {},
     "output_type": "display_data"
    },
    {
     "data": {
      "application/vnd.jupyter.widget-view+json": {
       "model_id": "",
       "version_major": 2,
       "version_minor": 0
      },
      "text/plain": [
       "HBox(children=(FloatProgress(value=0.0, max=189.0), HTML(value='')))"
      ]
     },
     "metadata": {},
     "output_type": "display_data"
    },
    {
     "data": {
      "application/vnd.jupyter.widget-view+json": {
       "model_id": "",
       "version_major": 2,
       "version_minor": 0
      },
      "text/plain": [
       "HBox(children=(FloatProgress(value=0.0, max=2.0), HTML(value='')))"
      ]
     },
     "metadata": {},
     "output_type": "display_data"
    },
    {
     "data": {
      "application/vnd.jupyter.widget-view+json": {
       "model_id": "",
       "version_major": 2,
       "version_minor": 0
      },
      "text/plain": [
       "HBox(children=(FloatProgress(value=0.0, max=683.0), HTML(value='')))"
      ]
     },
     "metadata": {},
     "output_type": "display_data"
    },
    {
     "data": {
      "application/vnd.jupyter.widget-view+json": {
       "model_id": "",
       "version_major": 2,
       "version_minor": 0
      },
      "text/plain": [
       "HBox(children=(FloatProgress(value=0.0, max=137.0), HTML(value='')))"
      ]
     },
     "metadata": {},
     "output_type": "display_data"
    },
    {
     "data": {
      "application/vnd.jupyter.widget-view+json": {
       "model_id": "",
       "version_major": 2,
       "version_minor": 0
      },
      "text/plain": [
       "HBox(children=(FloatProgress(value=0.0, max=605.0), HTML(value='')))"
      ]
     },
     "metadata": {},
     "output_type": "display_data"
    },
    {
     "data": {
      "application/vnd.jupyter.widget-view+json": {
       "model_id": "",
       "version_major": 2,
       "version_minor": 0
      },
      "text/plain": [
       "HBox(children=(FloatProgress(value=0.0, max=1320.0), HTML(value='')))"
      ]
     },
     "metadata": {},
     "output_type": "display_data"
    },
    {
     "data": {
      "application/vnd.jupyter.widget-view+json": {
       "model_id": "",
       "version_major": 2,
       "version_minor": 0
      },
      "text/plain": [
       "HBox(children=(FloatProgress(value=0.0, max=530.0), HTML(value='')))"
      ]
     },
     "metadata": {},
     "output_type": "display_data"
    },
    {
     "data": {
      "application/vnd.jupyter.widget-view+json": {
       "model_id": "",
       "version_major": 2,
       "version_minor": 0
      },
      "text/plain": [
       "HBox(children=(FloatProgress(value=0.0, max=5539.0), HTML(value='')))"
      ]
     },
     "metadata": {},
     "output_type": "display_data"
    },
    {
     "data": {
      "application/vnd.jupyter.widget-view+json": {
       "model_id": "",
       "version_major": 2,
       "version_minor": 0
      },
      "text/plain": [
       "HBox(children=(FloatProgress(value=0.0, max=328.0), HTML(value='')))"
      ]
     },
     "metadata": {},
     "output_type": "display_data"
    },
    {
     "data": {
      "application/vnd.jupyter.widget-view+json": {
       "model_id": "",
       "version_major": 2,
       "version_minor": 0
      },
      "text/plain": [
       "HBox(children=(FloatProgress(value=0.0, max=300.0), HTML(value='')))"
      ]
     },
     "metadata": {},
     "output_type": "display_data"
    },
    {
     "data": {
      "application/vnd.jupyter.widget-view+json": {
       "model_id": "",
       "version_major": 2,
       "version_minor": 0
      },
      "text/plain": [
       "HBox(children=(FloatProgress(value=0.0, max=971.0), HTML(value='')))"
      ]
     },
     "metadata": {},
     "output_type": "display_data"
    },
    {
     "data": {
      "application/vnd.jupyter.widget-view+json": {
       "model_id": "",
       "version_major": 2,
       "version_minor": 0
      },
      "text/plain": [
       "HBox(children=(FloatProgress(value=0.0, max=1676.0), HTML(value='')))"
      ]
     },
     "metadata": {},
     "output_type": "display_data"
    },
    {
     "data": {
      "application/vnd.jupyter.widget-view+json": {
       "model_id": "",
       "version_major": 2,
       "version_minor": 0
      },
      "text/plain": [
       "HBox(children=(FloatProgress(value=0.0, max=2569.0), HTML(value='')))"
      ]
     },
     "metadata": {},
     "output_type": "display_data"
    },
    {
     "data": {
      "application/vnd.jupyter.widget-view+json": {
       "model_id": "",
       "version_major": 2,
       "version_minor": 0
      },
      "text/plain": [
       "HBox(children=(FloatProgress(value=0.0, max=1143.0), HTML(value='')))"
      ]
     },
     "metadata": {},
     "output_type": "display_data"
    },
    {
     "data": {
      "application/vnd.jupyter.widget-view+json": {
       "model_id": "",
       "version_major": 2,
       "version_minor": 0
      },
      "text/plain": [
       "HBox(children=(FloatProgress(value=0.0, max=2466.0), HTML(value='')))"
      ]
     },
     "metadata": {},
     "output_type": "display_data"
    },
    {
     "data": {
      "application/vnd.jupyter.widget-view+json": {
       "model_id": "",
       "version_major": 2,
       "version_minor": 0
      },
      "text/plain": [
       "HBox(children=(FloatProgress(value=0.0, max=499.0), HTML(value='')))"
      ]
     },
     "metadata": {},
     "output_type": "display_data"
    },
    {
     "data": {
      "application/vnd.jupyter.widget-view+json": {
       "model_id": "",
       "version_major": 2,
       "version_minor": 0
      },
      "text/plain": [
       "HBox(children=(FloatProgress(value=0.0, max=1438.0), HTML(value='')))"
      ]
     },
     "metadata": {},
     "output_type": "display_data"
    },
    {
     "data": {
      "application/vnd.jupyter.widget-view+json": {
       "model_id": "",
       "version_major": 2,
       "version_minor": 0
      },
      "text/plain": [
       "HBox(children=(FloatProgress(value=0.0, max=2492.0), HTML(value='')))"
      ]
     },
     "metadata": {},
     "output_type": "display_data"
    },
    {
     "data": {
      "application/vnd.jupyter.widget-view+json": {
       "model_id": "",
       "version_major": 2,
       "version_minor": 0
      },
      "text/plain": [
       "HBox(children=(FloatProgress(value=0.0, max=53.0), HTML(value='')))"
      ]
     },
     "metadata": {},
     "output_type": "display_data"
    },
    {
     "data": {
      "application/vnd.jupyter.widget-view+json": {
       "model_id": "",
       "version_major": 2,
       "version_minor": 0
      },
      "text/plain": [
       "HBox(children=(FloatProgress(value=0.0, max=539.0), HTML(value='')))"
      ]
     },
     "metadata": {},
     "output_type": "display_data"
    },
    {
     "data": {
      "application/vnd.jupyter.widget-view+json": {
       "model_id": "",
       "version_major": 2,
       "version_minor": 0
      },
      "text/plain": [
       "HBox(children=(FloatProgress(value=0.0, max=639.0), HTML(value='')))"
      ]
     },
     "metadata": {},
     "output_type": "display_data"
    },
    {
     "data": {
      "application/vnd.jupyter.widget-view+json": {
       "model_id": "",
       "version_major": 2,
       "version_minor": 0
      },
      "text/plain": [
       "HBox(children=(FloatProgress(value=0.0, max=250.0), HTML(value='')))"
      ]
     },
     "metadata": {},
     "output_type": "display_data"
    },
    {
     "data": {
      "application/vnd.jupyter.widget-view+json": {
       "model_id": "",
       "version_major": 2,
       "version_minor": 0
      },
      "text/plain": [
       "HBox(children=(FloatProgress(value=0.0, max=140.0), HTML(value='')))"
      ]
     },
     "metadata": {},
     "output_type": "display_data"
    },
    {
     "data": {
      "application/vnd.jupyter.widget-view+json": {
       "model_id": "",
       "version_major": 2,
       "version_minor": 0
      },
      "text/plain": [
       "HBox(children=(FloatProgress(value=0.0, max=1.0), HTML(value='')))"
      ]
     },
     "metadata": {},
     "output_type": "display_data"
    },
    {
     "data": {
      "application/vnd.jupyter.widget-view+json": {
       "model_id": "",
       "version_major": 2,
       "version_minor": 0
      },
      "text/plain": [
       "HBox(children=(FloatProgress(value=0.0, max=30.0), HTML(value='')))"
      ]
     },
     "metadata": {},
     "output_type": "display_data"
    },
    {
     "data": {
      "application/vnd.jupyter.widget-view+json": {
       "model_id": "",
       "version_major": 2,
       "version_minor": 0
      },
      "text/plain": [
       "HBox(children=(FloatProgress(value=0.0, max=2937.0), HTML(value='')))"
      ]
     },
     "metadata": {},
     "output_type": "display_data"
    },
    {
     "data": {
      "application/vnd.jupyter.widget-view+json": {
       "model_id": "",
       "version_major": 2,
       "version_minor": 0
      },
      "text/plain": [
       "HBox(children=(FloatProgress(value=0.0, max=3.0), HTML(value='')))"
      ]
     },
     "metadata": {},
     "output_type": "display_data"
    },
    {
     "data": {
      "application/vnd.jupyter.widget-view+json": {
       "model_id": "",
       "version_major": 2,
       "version_minor": 0
      },
      "text/plain": [
       "HBox(children=(FloatProgress(value=0.0, max=9158.0), HTML(value='')))"
      ]
     },
     "metadata": {},
     "output_type": "display_data"
    },
    {
     "data": {
      "application/vnd.jupyter.widget-view+json": {
       "model_id": "",
       "version_major": 2,
       "version_minor": 0
      },
      "text/plain": [
       "HBox(children=(FloatProgress(value=0.0, max=9178.0), HTML(value='')))"
      ]
     },
     "metadata": {},
     "output_type": "display_data"
    },
    {
     "data": {
      "application/vnd.jupyter.widget-view+json": {
       "model_id": "",
       "version_major": 2,
       "version_minor": 0
      },
      "text/plain": [
       "HBox(children=(FloatProgress(value=0.0, max=1675.0), HTML(value='')))"
      ]
     },
     "metadata": {},
     "output_type": "display_data"
    },
    {
     "data": {
      "application/vnd.jupyter.widget-view+json": {
       "model_id": "",
       "version_major": 2,
       "version_minor": 0
      },
      "text/plain": [
       "HBox(children=(FloatProgress(value=0.0, max=73.0), HTML(value='')))"
      ]
     },
     "metadata": {},
     "output_type": "display_data"
    },
    {
     "data": {
      "application/vnd.jupyter.widget-view+json": {
       "model_id": "",
       "version_major": 2,
       "version_minor": 0
      },
      "text/plain": [
       "HBox(children=(FloatProgress(value=0.0, max=3729.0), HTML(value='')))"
      ]
     },
     "metadata": {},
     "output_type": "display_data"
    },
    {
     "data": {
      "application/vnd.jupyter.widget-view+json": {
       "model_id": "",
       "version_major": 2,
       "version_minor": 0
      },
      "text/plain": [
       "HBox(children=(FloatProgress(value=0.0, max=462.0), HTML(value='')))"
      ]
     },
     "metadata": {},
     "output_type": "display_data"
    },
    {
     "data": {
      "application/vnd.jupyter.widget-view+json": {
       "model_id": "",
       "version_major": 2,
       "version_minor": 0
      },
      "text/plain": [
       "HBox(children=(FloatProgress(value=0.0, max=1071.0), HTML(value='')))"
      ]
     },
     "metadata": {},
     "output_type": "display_data"
    },
    {
     "data": {
      "application/vnd.jupyter.widget-view+json": {
       "model_id": "",
       "version_major": 2,
       "version_minor": 0
      },
      "text/plain": [
       "HBox(children=(FloatProgress(value=0.0, max=5511.0), HTML(value='')))"
      ]
     },
     "metadata": {},
     "output_type": "display_data"
    },
    {
     "data": {
      "application/vnd.jupyter.widget-view+json": {
       "model_id": "",
       "version_major": 2,
       "version_minor": 0
      },
      "text/plain": [
       "HBox(children=(FloatProgress(value=0.0, max=214.0), HTML(value='')))"
      ]
     },
     "metadata": {},
     "output_type": "display_data"
    },
    {
     "data": {
      "application/vnd.jupyter.widget-view+json": {
       "model_id": "",
       "version_major": 2,
       "version_minor": 0
      },
      "text/plain": [
       "HBox(children=(FloatProgress(value=0.0, max=332.0), HTML(value='')))"
      ]
     },
     "metadata": {},
     "output_type": "display_data"
    },
    {
     "data": {
      "application/vnd.jupyter.widget-view+json": {
       "model_id": "",
       "version_major": 2,
       "version_minor": 0
      },
      "text/plain": [
       "HBox(children=(FloatProgress(value=0.0, max=6.0), HTML(value='')))"
      ]
     },
     "metadata": {},
     "output_type": "display_data"
    },
    {
     "data": {
      "application/vnd.jupyter.widget-view+json": {
       "model_id": "",
       "version_major": 2,
       "version_minor": 0
      },
      "text/plain": [
       "HBox(children=(FloatProgress(value=0.0, max=515.0), HTML(value='')))"
      ]
     },
     "metadata": {},
     "output_type": "display_data"
    },
    {
     "data": {
      "application/vnd.jupyter.widget-view+json": {
       "model_id": "",
       "version_major": 2,
       "version_minor": 0
      },
      "text/plain": [
       "HBox(children=(FloatProgress(value=0.0, max=600.0), HTML(value='')))"
      ]
     },
     "metadata": {},
     "output_type": "display_data"
    },
    {
     "data": {
      "application/vnd.jupyter.widget-view+json": {
       "model_id": "",
       "version_major": 2,
       "version_minor": 0
      },
      "text/plain": [
       "HBox(children=(FloatProgress(value=0.0, max=4417.0), HTML(value='')))"
      ]
     },
     "metadata": {},
     "output_type": "display_data"
    },
    {
     "data": {
      "application/vnd.jupyter.widget-view+json": {
       "model_id": "",
       "version_major": 2,
       "version_minor": 0
      },
      "text/plain": [
       "HBox(children=(FloatProgress(value=0.0, max=938.0), HTML(value='')))"
      ]
     },
     "metadata": {},
     "output_type": "display_data"
    },
    {
     "data": {
      "application/vnd.jupyter.widget-view+json": {
       "model_id": "",
       "version_major": 2,
       "version_minor": 0
      },
      "text/plain": [
       "HBox(children=(FloatProgress(value=0.0, max=321.0), HTML(value='')))"
      ]
     },
     "metadata": {},
     "output_type": "display_data"
    },
    {
     "data": {
      "application/vnd.jupyter.widget-view+json": {
       "model_id": "",
       "version_major": 2,
       "version_minor": 0
      },
      "text/plain": [
       "HBox(children=(FloatProgress(value=0.0, max=597.0), HTML(value='')))"
      ]
     },
     "metadata": {},
     "output_type": "display_data"
    },
    {
     "data": {
      "application/vnd.jupyter.widget-view+json": {
       "model_id": "",
       "version_major": 2,
       "version_minor": 0
      },
      "text/plain": [
       "HBox(children=(FloatProgress(value=0.0, max=598.0), HTML(value='')))"
      ]
     },
     "metadata": {},
     "output_type": "display_data"
    },
    {
     "data": {
      "application/vnd.jupyter.widget-view+json": {
       "model_id": "",
       "version_major": 2,
       "version_minor": 0
      },
      "text/plain": [
       "HBox(children=(FloatProgress(value=0.0, max=9196.0), HTML(value='')))"
      ]
     },
     "metadata": {},
     "output_type": "display_data"
    },
    {
     "data": {
      "application/vnd.jupyter.widget-view+json": {
       "model_id": "",
       "version_major": 2,
       "version_minor": 0
      },
      "text/plain": [
       "HBox(children=(FloatProgress(value=0.0, max=2323.0), HTML(value='')))"
      ]
     },
     "metadata": {},
     "output_type": "display_data"
    },
    {
     "data": {
      "application/vnd.jupyter.widget-view+json": {
       "model_id": "",
       "version_major": 2,
       "version_minor": 0
      },
      "text/plain": [
       "HBox(children=(FloatProgress(value=0.0, max=2.0), HTML(value='')))"
      ]
     },
     "metadata": {},
     "output_type": "display_data"
    },
    {
     "data": {
      "application/vnd.jupyter.widget-view+json": {
       "model_id": "",
       "version_major": 2,
       "version_minor": 0
      },
      "text/plain": [
       "HBox(children=(FloatProgress(value=0.0, max=2095.0), HTML(value='')))"
      ]
     },
     "metadata": {},
     "output_type": "display_data"
    },
    {
     "data": {
      "application/vnd.jupyter.widget-view+json": {
       "model_id": "",
       "version_major": 2,
       "version_minor": 0
      },
      "text/plain": [
       "HBox(children=(FloatProgress(value=0.0, max=1905.0), HTML(value='')))"
      ]
     },
     "metadata": {},
     "output_type": "display_data"
    },
    {
     "data": {
      "application/vnd.jupyter.widget-view+json": {
       "model_id": "",
       "version_major": 2,
       "version_minor": 0
      },
      "text/plain": [
       "HBox(children=(FloatProgress(value=0.0, max=1.0), HTML(value='')))"
      ]
     },
     "metadata": {},
     "output_type": "display_data"
    },
    {
     "data": {
      "application/vnd.jupyter.widget-view+json": {
       "model_id": "",
       "version_major": 2,
       "version_minor": 0
      },
      "text/plain": [
       "HBox(children=(FloatProgress(value=0.0, max=2.0), HTML(value='')))"
      ]
     },
     "metadata": {},
     "output_type": "display_data"
    },
    {
     "data": {
      "application/vnd.jupyter.widget-view+json": {
       "model_id": "",
       "version_major": 2,
       "version_minor": 0
      },
      "text/plain": [
       "HBox(children=(FloatProgress(value=0.0, max=244.0), HTML(value='')))"
      ]
     },
     "metadata": {},
     "output_type": "display_data"
    },
    {
     "data": {
      "application/vnd.jupyter.widget-view+json": {
       "model_id": "",
       "version_major": 2,
       "version_minor": 0
      },
      "text/plain": [
       "HBox(children=(FloatProgress(value=0.0, max=3187.0), HTML(value='')))"
      ]
     },
     "metadata": {},
     "output_type": "display_data"
    },
    {
     "data": {
      "application/vnd.jupyter.widget-view+json": {
       "model_id": "",
       "version_major": 2,
       "version_minor": 0
      },
      "text/plain": [
       "HBox(children=(FloatProgress(value=0.0, max=2.0), HTML(value='')))"
      ]
     },
     "metadata": {},
     "output_type": "display_data"
    },
    {
     "data": {
      "application/vnd.jupyter.widget-view+json": {
       "model_id": "",
       "version_major": 2,
       "version_minor": 0
      },
      "text/plain": [
       "HBox(children=(FloatProgress(value=0.0, max=54.0), HTML(value='')))"
      ]
     },
     "metadata": {},
     "output_type": "display_data"
    },
    {
     "data": {
      "application/vnd.jupyter.widget-view+json": {
       "model_id": "",
       "version_major": 2,
       "version_minor": 0
      },
      "text/plain": [
       "HBox(children=(FloatProgress(value=0.0, max=1491.0), HTML(value='')))"
      ]
     },
     "metadata": {},
     "output_type": "display_data"
    },
    {
     "data": {
      "application/vnd.jupyter.widget-view+json": {
       "model_id": "",
       "version_major": 2,
       "version_minor": 0
      },
      "text/plain": [
       "HBox(children=(FloatProgress(value=0.0, max=2233.0), HTML(value='')))"
      ]
     },
     "metadata": {},
     "output_type": "display_data"
    },
    {
     "data": {
      "application/vnd.jupyter.widget-view+json": {
       "model_id": "",
       "version_major": 2,
       "version_minor": 0
      },
      "text/plain": [
       "HBox(children=(FloatProgress(value=0.0, max=3494.0), HTML(value='')))"
      ]
     },
     "metadata": {},
     "output_type": "display_data"
    },
    {
     "data": {
      "application/vnd.jupyter.widget-view+json": {
       "model_id": "",
       "version_major": 2,
       "version_minor": 0
      },
      "text/plain": [
       "HBox(children=(FloatProgress(value=0.0, max=1202.0), HTML(value='')))"
      ]
     },
     "metadata": {},
     "output_type": "display_data"
    },
    {
     "data": {
      "application/vnd.jupyter.widget-view+json": {
       "model_id": "",
       "version_major": 2,
       "version_minor": 0
      },
      "text/plain": [
       "HBox(children=(FloatProgress(value=0.0, max=37.0), HTML(value='')))"
      ]
     },
     "metadata": {},
     "output_type": "display_data"
    },
    {
     "data": {
      "application/vnd.jupyter.widget-view+json": {
       "model_id": "",
       "version_major": 2,
       "version_minor": 0
      },
      "text/plain": [
       "HBox(children=(FloatProgress(value=0.0, max=971.0), HTML(value='')))"
      ]
     },
     "metadata": {},
     "output_type": "display_data"
    },
    {
     "data": {
      "application/vnd.jupyter.widget-view+json": {
       "model_id": "",
       "version_major": 2,
       "version_minor": 0
      },
      "text/plain": [
       "HBox(children=(FloatProgress(value=0.0, max=2425.0), HTML(value='')))"
      ]
     },
     "metadata": {},
     "output_type": "display_data"
    },
    {
     "data": {
      "application/vnd.jupyter.widget-view+json": {
       "model_id": "",
       "version_major": 2,
       "version_minor": 0
      },
      "text/plain": [
       "HBox(children=(FloatProgress(value=0.0, max=5421.0), HTML(value='')))"
      ]
     },
     "metadata": {},
     "output_type": "display_data"
    },
    {
     "data": {
      "application/vnd.jupyter.widget-view+json": {
       "model_id": "",
       "version_major": 2,
       "version_minor": 0
      },
      "text/plain": [
       "HBox(children=(FloatProgress(value=0.0, max=2294.0), HTML(value='')))"
      ]
     },
     "metadata": {},
     "output_type": "display_data"
    },
    {
     "data": {
      "application/vnd.jupyter.widget-view+json": {
       "model_id": "",
       "version_major": 2,
       "version_minor": 0
      },
      "text/plain": [
       "HBox(children=(FloatProgress(value=0.0, max=973.0), HTML(value='')))"
      ]
     },
     "metadata": {},
     "output_type": "display_data"
    },
    {
     "data": {
      "application/vnd.jupyter.widget-view+json": {
       "model_id": "",
       "version_major": 2,
       "version_minor": 0
      },
      "text/plain": [
       "HBox(children=(FloatProgress(value=0.0, max=6949.0), HTML(value='')))"
      ]
     },
     "metadata": {},
     "output_type": "display_data"
    },
    {
     "data": {
      "application/vnd.jupyter.widget-view+json": {
       "model_id": "",
       "version_major": 2,
       "version_minor": 0
      },
      "text/plain": [
       "HBox(children=(FloatProgress(value=0.0, max=549.0), HTML(value='')))"
      ]
     },
     "metadata": {},
     "output_type": "display_data"
    },
    {
     "data": {
      "application/vnd.jupyter.widget-view+json": {
       "model_id": "",
       "version_major": 2,
       "version_minor": 0
      },
      "text/plain": [
       "HBox(children=(FloatProgress(value=0.0, max=2129.0), HTML(value='')))"
      ]
     },
     "metadata": {},
     "output_type": "display_data"
    },
    {
     "data": {
      "application/vnd.jupyter.widget-view+json": {
       "model_id": "",
       "version_major": 2,
       "version_minor": 0
      },
      "text/plain": [
       "HBox(children=(FloatProgress(value=0.0, max=1.0), HTML(value='')))"
      ]
     },
     "metadata": {},
     "output_type": "display_data"
    },
    {
     "data": {
      "application/vnd.jupyter.widget-view+json": {
       "model_id": "",
       "version_major": 2,
       "version_minor": 0
      },
      "text/plain": [
       "HBox(children=(FloatProgress(value=0.0, max=901.0), HTML(value='')))"
      ]
     },
     "metadata": {},
     "output_type": "display_data"
    },
    {
     "data": {
      "application/vnd.jupyter.widget-view+json": {
       "model_id": "",
       "version_major": 2,
       "version_minor": 0
      },
      "text/plain": [
       "HBox(children=(FloatProgress(value=0.0, max=608.0), HTML(value='')))"
      ]
     },
     "metadata": {},
     "output_type": "display_data"
    },
    {
     "data": {
      "application/vnd.jupyter.widget-view+json": {
       "model_id": "",
       "version_major": 2,
       "version_minor": 0
      },
      "text/plain": [
       "HBox(children=(FloatProgress(value=0.0, max=200.0), HTML(value='')))"
      ]
     },
     "metadata": {},
     "output_type": "display_data"
    },
    {
     "data": {
      "application/vnd.jupyter.widget-view+json": {
       "model_id": "",
       "version_major": 2,
       "version_minor": 0
      },
      "text/plain": [
       "HBox(children=(FloatProgress(value=0.0, max=114.0), HTML(value='')))"
      ]
     },
     "metadata": {},
     "output_type": "display_data"
    },
    {
     "data": {
      "application/vnd.jupyter.widget-view+json": {
       "model_id": "",
       "version_major": 2,
       "version_minor": 0
      },
      "text/plain": [
       "HBox(children=(FloatProgress(value=0.0, max=153.0), HTML(value='')))"
      ]
     },
     "metadata": {},
     "output_type": "display_data"
    },
    {
     "data": {
      "application/vnd.jupyter.widget-view+json": {
       "model_id": "",
       "version_major": 2,
       "version_minor": 0
      },
      "text/plain": [
       "HBox(children=(FloatProgress(value=0.0, max=1294.0), HTML(value='')))"
      ]
     },
     "metadata": {},
     "output_type": "display_data"
    },
    {
     "data": {
      "application/vnd.jupyter.widget-view+json": {
       "model_id": "",
       "version_major": 2,
       "version_minor": 0
      },
      "text/plain": [
       "HBox(children=(FloatProgress(value=0.0, max=4878.0), HTML(value='')))"
      ]
     },
     "metadata": {},
     "output_type": "display_data"
    },
    {
     "data": {
      "application/vnd.jupyter.widget-view+json": {
       "model_id": "9588453a56284e8db08daff994cd98e6",
       "version_major": 2,
       "version_minor": 0
      },
      "text/plain": [
       "HBox(children=(FloatProgress(value=0.0, max=1727.0), HTML(value='')))"
      ]
     },
     "metadata": {},
     "output_type": "display_data"
    }
   ],
   "source": [
    "dt_index = pd.DatetimeIndex(dates)\n",
    "\n",
    "for (div, basin), wbs in tqdm(waterbodies.groupby(['Division_', 'BNAME']), total=n_all_basins):\n",
    "    in_division_indices = np.arange(len(all_time_series))[(waterbodies.Division_ == div) & (waterbodies.BNAME == basin)]\n",
    "#     in_division_wbs = waterbodies[waterbodies.Division__dea_wb == division]\n",
    "    \n",
    "    if basin is None:\n",
    "        basin = 'NONE'\n",
    "\n",
    "    # Initialise the HDF5 array.\n",
    "    with h5py.File('interpolated_waterbodies_by_division_and_basin_fixeduids.h5', 'r+') as f:\n",
    "        group = f[div][basin]\n",
    "        hds_pc = group.require_dataset('pc_wet', (len(wbs), len(dt_index)), dtype='float16')\n",
    "        hds_uid = group.require_dataset('uid', data=wbs.index.values.astype('S9'), dtype='S9', shape=wbs.index.shape)\n",
    "\n",
    "        # Round every date to the nearest day and set date to be the index.\n",
    "        # Note that we also have to drop the timezone, which pandas assumes is UTC.\n",
    "        # If pandas did not assume it was UTC - maybe it assumed UTC+11 for example - then this would also do\n",
    "        # a conversion into UTC, which is probably not what we want.\n",
    "        for i, history_i in enumerate(tqdm(in_division_indices, position=1, leave=False)):\n",
    "            history = all_time_series[history_i]\n",
    "            history.date = history.date.dt.round('1d')\n",
    "            history = history.set_index('date', drop=True)\n",
    "            history.index = history.index.tz_convert(None)\n",
    "            # Merge duplicate dates into one.\n",
    "            history = history.groupby('date').mean()\n",
    "            # Then reindex with the full list of dates.\n",
    "            history = history.reindex(dt_index) \n",
    "            # Linearly interpolate.\n",
    "            history = history.interpolate(limit_direction='both')\n",
    "            # Finally, store it in the HDF5 dataset.\n",
    "            hds_pc[i] = history.pc_wet.astype('float32')"
   ]
  },
  {
   "cell_type": "code",
   "execution_count": null,
   "metadata": {},
   "outputs": [],
   "source": [
    "dates_str = list(map(str, dt_index.values.astype('datetime64[D]')))"
   ]
  },
  {
   "cell_type": "code",
   "execution_count": null,
   "metadata": {},
   "outputs": [],
   "source": [
    "with h5py.File('interpolated_waterbodies_by_division_and_basin_fixeduids.h5', 'r+') as f:\n",
    "    f['dates'] = np.array(dates_str).astype('S10')"
   ]
  },
  {
   "cell_type": "markdown",
   "metadata": {},
   "source": [
    "## Verification\n",
    "\n",
    "Check everything is loaded OK:"
   ]
  },
  {
   "cell_type": "code",
   "execution_count": 27,
   "metadata": {},
   "outputs": [],
   "source": [
    "waterbodies = wbs"
   ]
  },
  {
   "cell_type": "code",
   "execution_count": 28,
   "metadata": {},
   "outputs": [],
   "source": [
    "waterbody_shapes = waterbodies"
   ]
  },
  {
   "cell_type": "code",
   "execution_count": 44,
   "metadata": {},
   "outputs": [],
   "source": [
    "h5 = h5py.File('interpolated_waterbodies_by_division_and_basin.h5', 'r')"
   ]
  },
  {
   "cell_type": "code",
   "execution_count": 45,
   "metadata": {},
   "outputs": [],
   "source": [
    "divbasins = {i for i in wbs[['Division_', 'BNAME']].itertuples(index=False)}"
   ]
  },
  {
   "cell_type": "code",
   "execution_count": 54,
   "metadata": {},
   "outputs": [],
   "source": [
    "for db in divbasins:\n",
    "    z = h5[db.Division_ or 'None'][db.BNAME]\n",
    "    assert z['pc_wet'][()].any()"
   ]
  },
  {
   "cell_type": "code",
   "execution_count": 55,
   "metadata": {},
   "outputs": [],
   "source": [
    "h5.close()"
   ]
  },
  {
   "cell_type": "code",
   "execution_count": null,
   "metadata": {},
   "outputs": [],
   "source": []
  }
 ],
 "metadata": {
  "kernelspec": {
   "display_name": "Python 3",
   "language": "python",
   "name": "python3"
  },
  "language_info": {
   "codemirror_mode": {
    "name": "ipython",
    "version": 3
   },
   "file_extension": ".py",
   "mimetype": "text/x-python",
   "name": "python",
   "nbconvert_exporter": "python",
   "pygments_lexer": "ipython3",
   "version": "3.6.10"
  }
 },
 "nbformat": 4,
 "nbformat_minor": 4
}
