{
 "cells": [
  {
   "cell_type": "markdown",
   "metadata": {},
   "source": [
    "# Waterbodies visualisation\n",
    "\n",
    "In this notebook we create a time-series visualisation of waterbodies."
   ]
  },
  {
   "cell_type": "markdown",
   "metadata": {},
   "source": [
    "## Setup"
   ]
  },
  {
   "cell_type": "code",
   "execution_count": 1,
   "metadata": {},
   "outputs": [],
   "source": [
    "%config IPython.use_jedi = False"
   ]
  },
  {
   "cell_type": "markdown",
   "metadata": {},
   "source": [
    "### Load modules"
   ]
  },
  {
   "cell_type": "code",
   "execution_count": 2,
   "metadata": {},
   "outputs": [],
   "source": [
    "from pathlib import Path\n",
    "import time\n",
    "\n",
    "import IPython.display\n",
    "import ipywidgets as ipyw\n",
    "import numpy as np\n",
    "import matplotlib.animation\n",
    "import matplotlib.cm\n",
    "import matplotlib.pyplot as plt\n",
    "import geopandas as gpd\n",
    "import pandas as pd\n",
    "import scipy.spatial.distance\n",
    "import scipy.ndimage\n",
    "import sklearn.cluster\n",
    "import sklearn.decomposition\n",
    "from tqdm.notebook import tqdm\n",
    "import traitlets"
   ]
  },
  {
   "cell_type": "code",
   "execution_count": 3,
   "metadata": {},
   "outputs": [],
   "source": [
    "import plotly"
   ]
  },
  {
   "cell_type": "markdown",
   "metadata": {},
   "source": [
    "### Load data"
   ]
  },
  {
   "cell_type": "code",
   "execution_count": 4,
   "metadata": {},
   "outputs": [],
   "source": [
    "waterbody_shp_path = Path('/g/data/r78/cek156/dea-notebooks/Scientific_workflows/DEAWaterbodies/AusAllTime01-005HybridWaterbodies/AusWaterBodiesFINAL.shp')\n",
    "waterbody_csv_path = Path('/g/data/r78/cek156/dea-notebooks/Scientific_workflows/DEAWaterbodies/timeseries_aus_uid/')\n",
    "surface_area_threshold = 50"
   ]
  },
  {
   "cell_type": "code",
   "execution_count": 5,
   "metadata": {},
   "outputs": [],
   "source": [
    "waterbody_shapes = gpd.read_file(waterbody_shp_path)"
   ]
  },
  {
   "cell_type": "markdown",
   "metadata": {},
   "source": [
    "Choose an area of interest to focus on."
   ]
  },
  {
   "cell_type": "code",
   "execution_count": 6,
   "metadata": {},
   "outputs": [],
   "source": [
    "bbox = gpd.GeoDataFrame(geometry=gpd.points_from_xy((142.1246, 149.1300), (-37.0161, -34.2801)))  # Mildura -> Canberra, Seymour -> Griffith"
   ]
  },
  {
   "cell_type": "code",
   "execution_count": 7,
   "metadata": {},
   "outputs": [],
   "source": [
    "bbox.crs = 'EPSG:4326'"
   ]
  },
  {
   "cell_type": "code",
   "execution_count": 8,
   "metadata": {},
   "outputs": [],
   "source": [
    "x_min, y_min, x_max, y_max = bbox.to_crs('EPSG:3577').total_bounds"
   ]
  },
  {
   "cell_type": "code",
   "execution_count": 9,
   "metadata": {},
   "outputs": [],
   "source": [
    "waterbody_shapes_ = waterbody_shapes.cx[x_min:x_max, y_min:y_max]"
   ]
  },
  {
   "cell_type": "code",
   "execution_count": 10,
   "metadata": {},
   "outputs": [
    {
     "name": "stdout",
     "output_type": "stream",
     "text": [
      "295906 waterbodies total\n",
      "12535 in Mildura/Seymour/Canberra/Griffith area\n"
     ]
    }
   ],
   "source": [
    "print(len(waterbody_shapes), 'waterbodies total')\n",
    "print(len(waterbody_shapes_), 'in Mildura/Seymour/Canberra/Griffith area')"
   ]
  },
  {
   "cell_type": "code",
   "execution_count": 11,
   "metadata": {},
   "outputs": [],
   "source": [
    "waterbody_shapes = waterbody_shapes_"
   ]
  },
  {
   "cell_type": "code",
   "execution_count": 12,
   "metadata": {},
   "outputs": [
    {
     "data": {
      "application/vnd.jupyter.widget-view+json": {
       "model_id": "04e635e35bd740389b5392ec8b01f9f5",
       "version_major": 2,
       "version_minor": 0
      },
      "text/plain": [
       "HBox(children=(FloatProgress(value=0.0, max=12535.0), HTML(value='')))"
      ]
     },
     "metadata": {},
     "output_type": "display_data"
    },
    {
     "name": "stdout",
     "output_type": "stream",
     "text": [
      "\n"
     ]
    }
   ],
   "source": [
    "all_time_series = []\n",
    "for i, shape in tqdm(waterbody_shapes.iterrows(), total=len(waterbody_shapes)):\n",
    "    uid = shape.UID\n",
    "    csv_path = waterbody_csv_path / uid[:4] / f'{uid}.csv'\n",
    "    time_series = pd.read_csv(csv_path)\n",
    "    # Relabel the third column to something consistent, and rename all columns to something\n",
    "    # easier to access.\n",
    "    time_series.rename(columns={\n",
    "        'Observation Date': 'date',\n",
    "        'Wet pixel percentage': 'pc_wet',\n",
    "        time_series.columns[2]: 'px_wet',\n",
    "        }, inplace=True)\n",
    "    # Convert time strings into datetimes.\n",
    "    time_series.date = pd.to_datetime(time_series.date)\n",
    "    # Store the actual number of pixels too.\n",
    "    n_pixels = shape.geometry.area // (25 ** 2)\n",
    "    time_series.attrs['px_tot'] = n_pixels  # attrs is experimental.\n",
    "    all_time_series.append(time_series)"
   ]
  },
  {
   "cell_type": "code",
   "execution_count": 13,
   "metadata": {},
   "outputs": [],
   "source": [
    "waterbodies = waterbody_shapes.set_index('UID')"
   ]
  },
  {
   "cell_type": "code",
   "execution_count": 14,
   "metadata": {},
   "outputs": [],
   "source": [
    "assert len(all_time_series) == len(waterbody_shapes)"
   ]
  },
  {
   "cell_type": "markdown",
   "metadata": {},
   "source": [
    "It would be useful to remove entries with NaN water levels (presumably cloud or similar)."
   ]
  },
  {
   "cell_type": "code",
   "execution_count": 15,
   "metadata": {},
   "outputs": [
    {
     "data": {
      "application/vnd.jupyter.widget-view+json": {
       "model_id": "390b01b806534dc593012c20869bb246",
       "version_major": 2,
       "version_minor": 0
      },
      "text/plain": [
       "HBox(children=(FloatProgress(value=0.0, max=12535.0), HTML(value='')))"
      ]
     },
     "metadata": {},
     "output_type": "display_data"
    },
    {
     "name": "stdout",
     "output_type": "stream",
     "text": [
      "\n"
     ]
    }
   ],
   "source": [
    "all_time_series_ = []\n",
    "for t in tqdm(all_time_series):\n",
    "    nans = t.px_wet.isnull()\n",
    "    t = t[~nans].reset_index(drop=True)\n",
    "    all_time_series_.append(t)"
   ]
  },
  {
   "cell_type": "code",
   "execution_count": 16,
   "metadata": {},
   "outputs": [],
   "source": [
    "all_time_series = all_time_series_"
   ]
  },
  {
   "cell_type": "code",
   "execution_count": 17,
   "metadata": {},
   "outputs": [],
   "source": [
    "waterbodies['water_history'] = all_time_series"
   ]
  },
  {
   "cell_type": "markdown",
   "metadata": {},
   "source": [
    "Interpolate to a common grid."
   ]
  },
  {
   "cell_type": "code",
   "execution_count": 18,
   "metadata": {},
   "outputs": [
    {
     "data": {
      "application/vnd.jupyter.widget-view+json": {
       "model_id": "6282905ee120499a863fdd0a1c7ce421",
       "version_major": 2,
       "version_minor": 0
      },
      "text/plain": [
       "HBox(children=(FloatProgress(value=0.0, max=12535.0), HTML(value='')))"
      ]
     },
     "metadata": {},
     "output_type": "display_data"
    },
    {
     "name": "stdout",
     "output_type": "stream",
     "text": [
      "\n"
     ]
    }
   ],
   "source": [
    "dates = set()\n",
    "for waterbody in tqdm(waterbodies.water_history):\n",
    "    dates |= set(waterbody.date.values)"
   ]
  },
  {
   "cell_type": "code",
   "execution_count": 19,
   "metadata": {},
   "outputs": [],
   "source": [
    "min_date, max_date = min(dates).astype('datetime64[D]'), max(dates).astype('datetime64[D]')"
   ]
  },
  {
   "cell_type": "code",
   "execution_count": 20,
   "metadata": {},
   "outputs": [],
   "source": [
    "date_range = np.arange(min_date, max_date)"
   ]
  },
  {
   "cell_type": "code",
   "execution_count": 21,
   "metadata": {},
   "outputs": [
    {
     "name": "stdout",
     "output_type": "stream",
     "text": [
      "unique dates, day-rounded: 12389\n"
     ]
    }
   ],
   "source": [
    "print('unique dates, day-rounded:', len(date_range))"
   ]
  },
  {
   "cell_type": "markdown",
   "metadata": {},
   "source": [
    "For each water history we can add in all these dates."
   ]
  },
  {
   "cell_type": "code",
   "execution_count": 22,
   "metadata": {},
   "outputs": [
    {
     "data": {
      "application/vnd.jupyter.widget-view+json": {
       "model_id": "ec769698b4fb4d2596245f5618e2dfaa",
       "version_major": 2,
       "version_minor": 0
      },
      "text/plain": [
       "HBox(children=(FloatProgress(value=0.0, max=12535.0), HTML(value='')))"
      ]
     },
     "metadata": {},
     "output_type": "display_data"
    },
    {
     "name": "stdout",
     "output_type": "stream",
     "text": [
      "\n"
     ]
    }
   ],
   "source": [
    "# First round every date and set date to be the index.\n",
    "# Note that we also have to drop the timezone, which pandas assumes is UTC.\n",
    "# If pandas did not assume it was UTC - maybe it assumed UTC+11 for example - then this would also do\n",
    "# a conversion into UTC, which is probably not what we want.\n",
    "for history in tqdm(waterbodies.water_history):\n",
    "    history.date = history.date.dt.round('1d')\n",
    "    history.set_index('date', drop=True, inplace=True)\n",
    "    history.index = history.index.tz_convert(None)"
   ]
  },
  {
   "cell_type": "code",
   "execution_count": 23,
   "metadata": {},
   "outputs": [],
   "source": [
    "dt_index = pd.DatetimeIndex(date_range)"
   ]
  },
  {
   "cell_type": "code",
   "execution_count": 24,
   "metadata": {},
   "outputs": [
    {
     "data": {
      "application/vnd.jupyter.widget-view+json": {
       "model_id": "57b8c191b46e450da727dc452b359c4a",
       "version_major": 2,
       "version_minor": 0
      },
      "text/plain": [
       "HBox(children=(FloatProgress(value=0.0, max=12535.0), HTML(value='')))"
      ]
     },
     "metadata": {},
     "output_type": "display_data"
    },
    {
     "name": "stdout",
     "output_type": "stream",
     "text": [
      "\n"
     ]
    }
   ],
   "source": [
    "histories = []  # Storing reindexed dataframes back directly in waterbodies leads to some super bizarre behaviour where they are replaced entirely by nans.\n",
    "# So, storing them in a list instead.\n",
    "for i in tqdm(range(len(waterbodies))):\n",
    "    # Merge duplicate dates into one.\n",
    "    history = waterbodies.water_history[i].groupby('date').mean()\n",
    "    # Then reindex with the full list of dates.\n",
    "    histories.append(history.reindex(dt_index))"
   ]
  },
  {
   "cell_type": "code",
   "execution_count": 25,
   "metadata": {},
   "outputs": [],
   "source": [
    "waterbodies.water_history = histories"
   ]
  },
  {
   "cell_type": "markdown",
   "metadata": {},
   "source": [
    "With all the water histories now having the same time index, they are all aligned. We now need to handle the lack of measurements at some times, and we will do this by linear interpolation as it is the least information thing we can do (besides setting them to the last observed value, which feels unphysical)."
   ]
  },
  {
   "cell_type": "code",
   "execution_count": 26,
   "metadata": {},
   "outputs": [
    {
     "data": {
      "application/vnd.jupyter.widget-view+json": {
       "model_id": "a40565ab25e54304949a80b8c5186664",
       "version_major": 2,
       "version_minor": 0
      },
      "text/plain": [
       "HBox(children=(FloatProgress(value=0.0, max=12535.0), HTML(value='')))"
      ]
     },
     "metadata": {},
     "output_type": "display_data"
    },
    {
     "name": "stdout",
     "output_type": "stream",
     "text": [
      "\n"
     ]
    }
   ],
   "source": [
    "for history in tqdm(waterbodies.water_history):\n",
    "    history.interpolate(limit_direction='both', inplace=True)"
   ]
  },
  {
   "cell_type": "markdown",
   "metadata": {},
   "source": [
    "Make a matrix for fast accessing for visualisation."
   ]
  },
  {
   "cell_type": "code",
   "execution_count": 27,
   "metadata": {},
   "outputs": [
    {
     "data": {
      "application/vnd.jupyter.widget-view+json": {
       "model_id": "fe4e8b83ae1b4efd90ec66db1dfe99e3",
       "version_major": 2,
       "version_minor": 0
      },
      "text/plain": [
       "HBox(children=(FloatProgress(value=1.0, bar_style='info', max=1.0), HTML(value='')))"
      ]
     },
     "metadata": {},
     "output_type": "display_data"
    },
    {
     "name": "stdout",
     "output_type": "stream",
     "text": [
      "\n"
     ]
    }
   ],
   "source": [
    "history_matrix = np.zeros((len(waterbodies), len(dt_index)))\n",
    "\n",
    "for i, history in tqdm(enumerate(waterbodies.water_history)):\n",
    "    history_matrix[i] = history.pc_wet"
   ]
  },
  {
   "cell_type": "code",
   "execution_count": 28,
   "metadata": {},
   "outputs": [
    {
     "data": {
      "application/vnd.jupyter.widget-view+json": {
       "model_id": "dab53322e66c46a48da8db5447536575",
       "version_major": 2,
       "version_minor": 0
      },
      "text/plain": [
       "HBox(children=(FloatProgress(value=1.0, bar_style='info', max=1.0), HTML(value='')))"
      ]
     },
     "metadata": {},
     "output_type": "display_data"
    },
    {
     "name": "stdout",
     "output_type": "stream",
     "text": [
      "\n"
     ]
    }
   ],
   "source": [
    "history_matrix_absolute = np.zeros((len(waterbodies), len(dt_index)))\n",
    "\n",
    "for i, history in tqdm(enumerate(waterbodies.water_history)):\n",
    "    history_matrix_absolute[i] = history.px_wet"
   ]
  },
  {
   "cell_type": "markdown",
   "metadata": {},
   "source": [
    "## Visualisation 1: Time vs Area\n",
    "\n",
    "Let's plot the times vs the areas and see if there are any obvious trends."
   ]
  },
  {
   "cell_type": "code",
   "execution_count": 29,
   "metadata": {},
   "outputs": [
    {
     "data": {
      "image/png": "[encoded data removed]",
      "text/plain": [
       "<Figure size 432x288 with 1 Axes>"
      ]
     },
     "metadata": {
      "needs_background": "light"
     },
     "output_type": "display_data"
    }
   ],
   "source": [
    "plt.figure()\n",
    "for i in range(100):\n",
    "    plt.scatter(dt_index, history_matrix[i], c='k', s=1, alpha=0.01, edgecolor='None')"
   ]
  },
  {
   "cell_type": "markdown",
   "metadata": {},
   "source": [
    "This is, of course, unreadable. :)"
   ]
  },
  {
   "cell_type": "markdown",
   "metadata": {},
   "source": [
    "## Visualisation 2: Area animation"
   ]
  },
  {
   "cell_type": "code",
   "execution_count": 30,
   "metadata": {},
   "outputs": [],
   "source": [
    "%matplotlib widget"
   ]
  },
  {
   "cell_type": "code",
   "execution_count": 31,
   "metadata": {},
   "outputs": [],
   "source": [
    "def plot_init(ax, subsample=10, t=0):\n",
    "    total_areas = waterbodies.area[::subsample]\n",
    "    px_wet = history_matrix_absolute[::subsample, t]\n",
    "    pc_wet = history_matrix[::subsample, t]\n",
    "    sc = ax.scatter(total_areas, pc_wet, c='k', s=px_wet / 1e2)\n",
    "    ax.set_xscale('log')\n",
    "    text = ax.text(0.05, 1.05, np.datetime_as_string(dt_index[t].to_numpy(), unit='D'), horizontalalignment='left', verticalalignment='top', transform=ax.transAxes)\n",
    "    ax.set_xlabel('Maximum extent (px)')\n",
    "    ax.set_ylabel('Wet percentage')\n",
    "    return sc, text"
   ]
  },
  {
   "cell_type": "code",
   "execution_count": 32,
   "metadata": {},
   "outputs": [],
   "source": [
    "def plot_update(ax, sc, text, t, subsample=10):\n",
    "    total_areas = waterbodies.area[::subsample]\n",
    "    px_wet = history_matrix_absolute[::subsample, t]\n",
    "    pc_wet = history_matrix[::subsample, t]\n",
    "    sc.set_offsets(np.stack([total_areas, pc_wet]).T)\n",
    "    sc.set_sizes(px_wet / 1e2)\n",
    "    text.set_text(np.datetime_as_string(dt_index[t].to_numpy(), unit='D'))"
   ]
  },
  {
   "cell_type": "code",
   "execution_count": 33,
   "metadata": {},
   "outputs": [
    {
     "data": {
      "application/vnd.jupyter.widget-view+json": {
       "model_id": "2aa8c88f9c2e48e2ab05fc5ad735648f",
       "version_major": 2,
       "version_minor": 0
      },
      "text/plain": [
       "Canvas(toolbar=Toolbar(toolitems=[('Home', 'Reset original view', 'home', 'home'), ('Back', 'Back to previous …"
      ]
     },
     "metadata": {},
     "output_type": "display_data"
    },
    {
     "data": {
      "application/vnd.jupyter.widget-view+json": {
       "model_id": "d79c8289e4ae4cca80b85991df4de33e",
       "version_major": 2,
       "version_minor": 0
      },
      "text/plain": [
       "HBox(children=(Play(value=0, description='Press play', interval=5, max=12389), SelectionSlider(options=(numpy.…"
      ]
     },
     "metadata": {},
     "output_type": "display_data"
    }
   ],
   "source": [
    "fig = plt.figure()\n",
    "ax = fig.add_subplot(1, 1, 1)\n",
    "sc, text = plot_init(ax)\n",
    "slider = ipyw.SelectionSlider(options=dt_index.to_numpy().astype('datetime64[D]'), index=0)\n",
    "def slide_handler(e):\n",
    "    t = dt_index.get_loc(e['new'])\n",
    "    plot_update(ax, sc, text, t)\n",
    "slider.observe(slide_handler, names='value')\n",
    "play = ipyw.Play(\n",
    "    value=0,\n",
    "    min=0,\n",
    "    max=len(dt_index),\n",
    "    step=1,\n",
    "    interval=5,\n",
    "    description=\"Press play\",\n",
    "    disabled=False\n",
    ")\n",
    "ipyw.jslink((play, 'value'), (slider, 'index'))\n",
    "ipyw.jslink((slider, 'index'), (play, 'value'))\n",
    "ipyw.HBox([play, slider])"
   ]
  },
  {
   "cell_type": "markdown",
   "metadata": {},
   "source": [
    "This works, but it's a bit slow."
   ]
  },
  {
   "cell_type": "code",
   "execution_count": 414,
   "metadata": {},
   "outputs": [],
   "source": [
    "np.save('history_matrix_murray.npy', history_matrix)"
   ]
  },
  {
   "cell_type": "code",
   "execution_count": 415,
   "metadata": {},
   "outputs": [],
   "source": [
    "np.save('history_matrix_murray_absolute.npy', history_matrix_absolute)"
   ]
  },
  {
   "cell_type": "code",
   "execution_count": null,
   "metadata": {},
   "outputs": [],
   "source": []
  }
 ],
 "metadata": {
  "kernelspec": {
   "display_name": "Python 3",
   "language": "python",
   "name": "python3"
  },
  "language_info": {
   "codemirror_mode": {
    "name": "ipython",
    "version": 3
   },
   "file_extension": ".py",
   "mimetype": "text/x-python",
   "name": "python",
   "nbconvert_exporter": "python",
   "pygments_lexer": "ipython3",
   "version": "3.6.10"
  }
 },
 "nbformat": 4,
 "nbformat_minor": 4
}
