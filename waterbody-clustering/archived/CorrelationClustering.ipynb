{
 "cells": [
  {
   "cell_type": "markdown",
   "metadata": {},
   "source": [
    "# Correlation clustering\n",
    "\n",
    "In this notebook we use a correlation-based distance measure to cluster waterbodies. It is taken from Basalto+07, and is:\n",
    "\n",
    "$$\n",
    "    c_{ij} = \\frac{\n",
    "        \\mathbb E[y_i y_j] - \\mathbb E[y_i] \\mathbb E[y_j]\n",
    "    }{\n",
    "        \\sqrt{\n",
    "            (\\mathbb E[y_i^2] - \\mathbb E[y_i]^2)\n",
    "            (\\mathbb E[y_j^2] - \\mathbb E[y_j]^2)\n",
    "        }\n",
    "    }\n",
    "$$\n",
    "\n",
    "where $y_i(t) = x_i(t) - x_i(t - 1)$. Actually they log their data... but we can't do that, since we go to zero. (Though theirs technically could too...)"
   ]
  },
  {
   "cell_type": "markdown",
   "metadata": {},
   "source": [
    "## Setup"
   ]
  },
  {
   "cell_type": "markdown",
   "metadata": {},
   "source": [
    "### Load modules"
   ]
  },
  {
   "cell_type": "code",
   "execution_count": 83,
   "metadata": {},
   "outputs": [],
   "source": [
    "import numpy as np\n",
    "import matplotlib.pyplot as plt\n",
    "import geopandas as gpd\n",
    "import scipy.optimize as opt\n",
    "import matplotlib.colors\n",
    "from tqdm.notebook import tqdm\n",
    "import sklearn.cluster\n",
    "import sklearn.decomposition\n",
    "\n",
    "%matplotlib widget"
   ]
  },
  {
   "cell_type": "markdown",
   "metadata": {},
   "source": [
    "### Load the data"
   ]
  },
  {
   "cell_type": "markdown",
   "metadata": {},
   "source": [
    "This was generated in WaterbodyClustering.ipynb."
   ]
  },
  {
   "cell_type": "code",
   "execution_count": 2,
   "metadata": {},
   "outputs": [],
   "source": [
    "history = np.load('history_murray_full_norivers.npy')\n",
    "times = np.load('time_axis_murray_full_norivers.npy').astype('datetime64[D]')\n",
    "waterbodies = gpd.read_file('waterbodies_murray_norivers.geojson')"
   ]
  },
  {
   "cell_type": "markdown",
   "metadata": {},
   "source": [
    "## Get the coefficients\n",
    "\n",
    "We now calculate $c_{ij}$ for all of the waterbodies. This is super slow, so let's subsample along the time axis, dividing by 7 (to get weekly data), and also reduce the number of waterbodies by a factor of 10.\n",
    "\n",
    "(Smooth or unsmooth? Let's try unsmooth, but smooth might be good to try at some point.)"
   ]
  },
  {
   "cell_type": "code",
   "execution_count": 28,
   "metadata": {},
   "outputs": [],
   "source": [
    "diffs = np.diff(history[::10, ::7], axis=1)"
   ]
  },
  {
   "cell_type": "code",
   "execution_count": 29,
   "metadata": {},
   "outputs": [
    {
     "data": {
      "text/plain": [
       "(909, 1769)"
      ]
     },
     "execution_count": 29,
     "metadata": {},
     "output_type": "execute_result"
    }
   ],
   "source": [
    "diffs.shape"
   ]
  },
  {
   "cell_type": "code",
   "execution_count": 31,
   "metadata": {},
   "outputs": [
    {
     "data": {
      "application/vnd.jupyter.widget-view+json": {
       "model_id": "b347308e13dd45be80bfe36e638a8ffd",
       "version_major": 2,
       "version_minor": 0
      },
      "text/plain": [
       "HBox(children=(FloatProgress(value=0.0, max=1769.0), HTML(value='')))"
      ]
     },
     "metadata": {},
     "output_type": "display_data"
    },
    {
     "name": "stdout",
     "output_type": "stream",
     "text": [
      "\n"
     ]
    }
   ],
   "source": [
    "total_product = np.zeros((diffs.shape[0], diffs.shape[0]))\n",
    "for i in tqdm(range(diffs.shape[1])):\n",
    "    total_product += diffs[:, None, i] * diffs[None, :, i]\n",
    "mean_product = total_product / diffs.shape[1]"
   ]
  },
  {
   "cell_type": "code",
   "execution_count": 33,
   "metadata": {},
   "outputs": [],
   "source": [
    "mean_values = diffs.mean(axis=1)\n",
    "mean_sq_values = (diffs ** 2).mean(axis=1)"
   ]
  },
  {
   "cell_type": "code",
   "execution_count": 34,
   "metadata": {},
   "outputs": [],
   "source": [
    "numerator = total_product - mean_values[:, None] * mean_values[None, :]"
   ]
  },
  {
   "cell_type": "code",
   "execution_count": 35,
   "metadata": {},
   "outputs": [],
   "source": [
    "denominator = np.sqrt((mean_sq_values - mean_values ** 2)[:, None] * (mean_sq_values - mean_values ** 2)[None, :])"
   ]
  },
  {
   "cell_type": "code",
   "execution_count": 43,
   "metadata": {},
   "outputs": [],
   "source": [
    "correlation_coefficients = numerator / denominator"
   ]
  },
  {
   "cell_type": "code",
   "execution_count": 48,
   "metadata": {},
   "outputs": [
    {
     "data": {
      "text/plain": [
       "1770.1001789183952"
      ]
     },
     "execution_count": 48,
     "metadata": {},
     "output_type": "execute_result"
    }
   ],
   "source": [
    "correlation_coefficients.max()"
   ]
  },
  {
   "cell_type": "markdown",
   "metadata": {},
   "source": [
    "## Visualise the coefficients\n",
    "\n",
    "How else but PCA? Treat each coefficient vector as a feature vector, then do PCA."
   ]
  },
  {
   "cell_type": "code",
   "execution_count": 91,
   "metadata": {},
   "outputs": [],
   "source": [
    "pca = sklearn.decomposition.PCA(n_components=2)\n",
    "pca_f = pca.fit_transform(correlation_coefficients)"
   ]
  },
  {
   "cell_type": "code",
   "execution_count": 97,
   "metadata": {},
   "outputs": [
    {
     "data": {
      "application/vnd.jupyter.widget-view+json": {
       "model_id": "112029b0457a4389bbb4c2069024a38a",
       "version_major": 2,
       "version_minor": 0
      },
      "text/plain": [
       "Canvas(toolbar=Toolbar(toolitems=[('Home', 'Reset original view', 'home', 'home'), ('Back', 'Back to previous …"
      ]
     },
     "metadata": {},
     "output_type": "display_data"
    },
    {
     "data": {
      "text/plain": [
       "<matplotlib.collections.PathCollection at 0x7ff2c77a8b00>"
      ]
     },
     "execution_count": 97,
     "metadata": {},
     "output_type": "execute_result"
    }
   ],
   "source": [
    "plt.figure()\n",
    "plt.scatter(pca_f[:, 0], pca_f[:, 1], s=10, c=waterbodies.RivRegNum[::10].astype(int), cmap='tab20')"
   ]
  },
  {
   "cell_type": "markdown",
   "metadata": {},
   "source": [
    "## Agglomerative clustering"
   ]
  },
  {
   "cell_type": "markdown",
   "metadata": {},
   "source": [
    "Basalto+07 used Hausdorff agglomerative clustering. We have access to scikit-learn and a distance matrix... so let's use DBSCAN. Agglomerative performs quite poorly on this dataset for some reason."
   ]
  },
  {
   "cell_type": "code",
   "execution_count": 159,
   "metadata": {},
   "outputs": [],
   "source": [
    "clusterer = sklearn.cluster.DBSCAN(metric='precomputed', eps=0.55)"
   ]
  },
  {
   "cell_type": "code",
   "execution_count": 160,
   "metadata": {},
   "outputs": [],
   "source": [
    "distances = -correlation_coefficients\n",
    "distances -= distances.min()\n",
    "distances /= distances.max()"
   ]
  },
  {
   "cell_type": "code",
   "execution_count": 161,
   "metadata": {},
   "outputs": [],
   "source": [
    "predictions = clusterer.fit_predict(distances)"
   ]
  },
  {
   "cell_type": "code",
   "execution_count": 162,
   "metadata": {},
   "outputs": [
    {
     "data": {
      "text/plain": [
       "9"
      ]
     },
     "execution_count": 162,
     "metadata": {},
     "output_type": "execute_result"
    }
   ],
   "source": [
    "predictions.max()"
   ]
  },
  {
   "cell_type": "code",
   "execution_count": 163,
   "metadata": {},
   "outputs": [
    {
     "data": {
      "application/vnd.jupyter.widget-view+json": {
       "model_id": "11987bdf5af94bddb07280afdb873173",
       "version_major": 2,
       "version_minor": 0
      },
      "text/plain": [
       "Canvas(toolbar=Toolbar(toolitems=[('Home', 'Reset original view', 'home', 'home'), ('Back', 'Back to previous …"
      ]
     },
     "metadata": {},
     "output_type": "display_data"
    }
   ],
   "source": [
    "plt.figure()\n",
    "for i in range(8):\n",
    "    plt.subplot(4, 2, i + 1)\n",
    "    plt.plot(times, history[::10][predictions == i][:100].T, c='k', alpha=max(1 / sum(predictions == i), 0.01))\n",
    "    plt.plot(times, history[::10][predictions == i].mean(axis=0), c='k')\n",
    "    plt.title('Cluster {} (n = {})'.format(i, sum(predictions == i)))\n",
    "plt.tight_layout()"
   ]
  },
  {
   "cell_type": "markdown",
   "metadata": {},
   "source": [
    "This worked poorly, but I think the error is in the coefficients, which don't seem correct: they don't range from -1 to 1."
   ]
  },
  {
   "cell_type": "code",
   "execution_count": 164,
   "metadata": {},
   "outputs": [
    {
     "data": {
      "application/vnd.jupyter.widget-view+json": {
       "model_id": "8df08585eaba42cb97d7184e33dc327c",
       "version_major": 2,
       "version_minor": 0
      },
      "text/plain": [
       "Canvas(toolbar=Toolbar(toolitems=[('Home', 'Reset original view', 'home', 'home'), ('Back', 'Back to previous …"
      ]
     },
     "metadata": {},
     "output_type": "display_data"
    },
    {
     "data": {
      "text/plain": [
       "<matplotlib.collections.PathCollection at 0x7ff2c5f742e8>"
      ]
     },
     "execution_count": 164,
     "metadata": {},
     "output_type": "execute_result"
    }
   ],
   "source": [
    "plt.figure()\n",
    "plt.scatter(pca_f[:, 0], pca_f[:, 1], s=10, c=predictions, cmap='tab20')"
   ]
  },
  {
   "cell_type": "code",
   "execution_count": null,
   "metadata": {},
   "outputs": [],
   "source": []
  }
 ],
 "metadata": {
  "kernelspec": {
   "display_name": "Python 3",
   "language": "python",
   "name": "python3"
  },
  "language_info": {
   "codemirror_mode": {
    "name": "ipython",
    "version": 3
   },
   "file_extension": ".py",
   "mimetype": "text/x-python",
   "name": "python",
   "nbconvert_exporter": "python",
   "pygments_lexer": "ipython3",
   "version": "3.6.10"
  }
 },
 "nbformat": 4,
 "nbformat_minor": 4
}
