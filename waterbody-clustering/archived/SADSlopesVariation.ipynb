{
 "cells": [
  {
   "cell_type": "markdown",
   "metadata": {},
   "source": [
    "# SAD Slopes and Variation\n",
    "\n",
    "In this notebook we try and characterise waterbodies by their SAD curves, specifically the slope and variation."
   ]
  },
  {
   "cell_type": "code",
   "execution_count": 2,
   "metadata": {},
   "outputs": [],
   "source": [
    "import h5py\n",
    "import geopandas as gpd\n",
    "import pandas as pd\n",
    "import numpy as np\n",
    "import matplotlib.pyplot as plt\n",
    "from tqdm.notebook import tqdm\n",
    "import matplotlib.cm\n",
    "import scipy.signal\n",
    "import matplotlib.animation\n",
    "import sklearn.decomposition\n",
    "import sklearn.svm\n",
    "\n",
    "%matplotlib widget"
   ]
  },
  {
   "cell_type": "markdown",
   "metadata": {},
   "source": [
    "## Load data"
   ]
  },
  {
   "cell_type": "code",
   "execution_count": 3,
   "metadata": {},
   "outputs": [],
   "source": [
    "history_file = h5py.File('interpolated_waterbodies_by_division_and_basin.h5', 'r')"
   ]
  },
  {
   "cell_type": "code",
   "execution_count": 8,
   "metadata": {},
   "outputs": [],
   "source": [
    "waterbodies = gpd.read_file('waterbodies_joined_drainage_basins.shp')"
   ]
  },
  {
   "cell_type": "markdown",
   "metadata": {},
   "source": [
    "We'll just focus on one location for now."
   ]
  },
  {
   "cell_type": "code",
   "execution_count": 9,
   "metadata": {},
   "outputs": [],
   "source": [
    "waterbodies = waterbodies[(waterbodies.BNAME == 'CONDAMINE-CULGOA RIVERS') & (waterbodies.Division_ == 'Murray-Darling Basin')]"
   ]
  },
  {
   "cell_type": "code",
   "execution_count": 10,
   "metadata": {},
   "outputs": [],
   "source": [
    "data = history_file['Murray-Darling Basin']['CONDAMINE-CULGOA RIVERS']['pc_wet'][()]"
   ]
  },
  {
   "cell_type": "code",
   "execution_count": 11,
   "metadata": {},
   "outputs": [],
   "source": [
    "uids = [int(a) for a in history_file['Murray-Darling Basin']['CONDAMINE-CULGOA RIVERS']['uid']]"
   ]
  },
  {
   "cell_type": "code",
   "execution_count": 12,
   "metadata": {},
   "outputs": [],
   "source": [
    "dates = pd.to_datetime([a.decode('ascii') for a in history_file['dates']])"
   ]
  },
  {
   "cell_type": "code",
   "execution_count": null,
   "metadata": {},
   "outputs": [],
   "source": [
    "qld = gpd.read_file('../wetlands/QSC_Extracted_Data_20200820_104013993000-3580/Wetland_areas.shp')"
   ]
  },
  {
   "cell_type": "markdown",
   "metadata": {},
   "source": [
    "## SAD curves\n",
    "\n",
    "The SAD curves are a proxy for how slowly water drains. Groundwater should have a shallow slope with low variation and regulated water should have a steep slope with high variation(?). At least, they should have different slopes and variations. Let's compute the SAD curves and their variation using a sliding window."
   ]
  },
  {
   "cell_type": "code",
   "execution_count": 13,
   "metadata": {},
   "outputs": [],
   "source": [
    "def calculate_vector_stat(\n",
    "    vec: \"data dim\",\n",
    "    stat: \"data dim -> target dim\",\n",
    "    window_size=365,\n",
    "    step=10,\n",
    "    target_dim=365,\n",
    "    progress=None,\n",
    "    window=\"hann\",\n",
    "):\n",
    "    \"\"\"Calculates a vector statistic over a rolling window.\n",
    "    \n",
    "    Parameters\n",
    "    ----------\n",
    "    vec : d-dimensional np.ndarray\n",
    "        Vector to calculate over, e.g. a time series.\n",
    "    stat : R^d -> R^t function\n",
    "        Statistic function.\n",
    "    window_size : int\n",
    "        Sliding window size (default 365).\n",
    "    step : int\n",
    "        Step size (default 10).\n",
    "    target_dim : int\n",
    "        Dimensionality of the output of `stat` (default 365).\n",
    "    progress : iterator -> iterator\n",
    "        Optional progress decorator, e.g. tqdm.notebook.tqdm. Default None.\n",
    "    window : str\n",
    "        What kind of window function to use. Default 'hann', but you might\n",
    "        also want to use 'boxcar'. Any scipy window\n",
    "        function is allowed (see documentation for scipy.signal.get_window\n",
    "        for more information).\n",
    "        \n",
    "    Returns\n",
    "    -------\n",
    "    (d / step)-dimensional np.ndarray\n",
    "        y values (the time axis)\n",
    "    t-dimensional np.ndarray\n",
    "        x values (the statistic axis)\n",
    "    (d / step) x t-dimensional np.ndarray\n",
    "        The vector statistic array.\n",
    "    \"\"\"\n",
    "    # Initialise output array.\n",
    "    spectrogram_values = np.zeros((vec.shape[0] // step, target_dim))\n",
    "\n",
    "    # Apply the progress decorator, if specified.\n",
    "    r = range(0, vec.shape[0] - window_size, step)\n",
    "    if progress:\n",
    "        r = progress(r)\n",
    "\n",
    "    # Convert the window str argument into a window function.\n",
    "    window = scipy.signal.get_window(window, window_size)\n",
    "\n",
    "    # Iterate over the sliding window and compute the statistic.\n",
    "    for base in r:\n",
    "        win = vec[base : base + window_size] * window\n",
    "        sad = stat(win)\n",
    "        spectrogram_values[base // step, :] = sad\n",
    "\n",
    "    return (\n",
    "        np.linspace(0, vec.shape[0], vec.shape[0] // step, endpoint=False),\n",
    "        np.arange(target_dim),\n",
    "        spectrogram_values,\n",
    "    )"
   ]
  },
  {
   "cell_type": "code",
   "execution_count": 14,
   "metadata": {},
   "outputs": [],
   "source": [
    "def calculate_sad(vec):\n",
    "    \"\"\"Calculates the surface area duration curve for a given vector of heights.\n",
    "    \n",
    "    Parameters\n",
    "    ----------\n",
    "    vec : d-dimensional np.ndarray\n",
    "        Vector of heights over time.\n",
    "    \n",
    "    Returns\n",
    "    -------\n",
    "    d-dimensional np.ndarray\n",
    "        Surface area duration curve vector over the same time scale.\n",
    "    \"\"\"\n",
    "    return np.sort(vec)[::-1]\n",
    "\n",
    "def calculate_stsad(vec, window_size=365, step=10, progress=None, window=\"hann\"):\n",
    "    \"\"\"Calculates the short-time surface area duration curve for a given vector of heights.\n",
    "    \n",
    "    Parameters\n",
    "    ----------\n",
    "    vec : d-dimensional np.ndarray\n",
    "        Vector of heights over time.\n",
    "    window_size : int\n",
    "        Sliding window size (default 365).\n",
    "    step : int\n",
    "        Step size (default 10).\n",
    "    progress : iterator -> iterator\n",
    "        Optional progress decorator, e.g. tqdm.notebook.tqdm. Default None.\n",
    "    window : str\n",
    "        What kind of window function to use. Default 'hann', but you might\n",
    "        also want to use 'boxcar'. Any scipy window\n",
    "        function is allowed (see documentation for scipy.signal.get_window\n",
    "        for more information).\n",
    "    \n",
    "    Returns\n",
    "    -------\n",
    "    (d / step)-dimensional np.ndarray\n",
    "        y values (the time axis)\n",
    "    t-dimensional np.ndarray\n",
    "        x values (the statistic axis)\n",
    "    (d / step) x t-dimensional np.ndarray\n",
    "        The short-time surface area duration curve array.\n",
    "    \"\"\"\n",
    "    return calculate_vector_stat(\n",
    "        vec,\n",
    "        calculate_sad,\n",
    "        window_size=window_size,\n",
    "        step=step,\n",
    "        target_dim=window_size,\n",
    "        progress=progress,\n",
    "        window=window,\n",
    "    )"
   ]
  },
  {
   "cell_type": "code",
   "execution_count": 24,
   "metadata": {},
   "outputs": [
    {
     "data": {
      "application/vnd.jupyter.widget-view+json": {
       "model_id": "ffa8381ceeb847a1a5cdbb0a990bba83",
       "version_major": 2,
       "version_minor": 0
      },
      "text/plain": [
       "HBox(children=(FloatProgress(value=0.0, max=9196.0), HTML(value='')))"
      ]
     },
     "metadata": {},
     "output_type": "display_data"
    },
    {
     "name": "stdout",
     "output_type": "stream",
     "text": [
      "\n"
     ]
    }
   ],
   "source": [
    "sads = []\n",
    "for pc_wet in tqdm(data):\n",
    "    sads.append(calculate_stsad(\n",
    "        pc_wet[-365 * 5:], window_size=365 * 2, window='hann', step=30,\n",
    "    )[-1])"
   ]
  },
  {
   "cell_type": "markdown",
   "metadata": {},
   "source": [
    "Now compute the slopes and standard deviations."
   ]
  },
  {
   "cell_type": "code",
   "execution_count": 25,
   "metadata": {},
   "outputs": [],
   "source": [
    "stdevs = [np.std(sad, axis=0) for sad in sads]"
   ]
  },
  {
   "cell_type": "code",
   "execution_count": 26,
   "metadata": {},
   "outputs": [],
   "source": [
    "slopes = [np.gradient(np.mean(sad, axis=0), axis=0) for sad in sads]"
   ]
  },
  {
   "cell_type": "code",
   "execution_count": 27,
   "metadata": {},
   "outputs": [],
   "source": [
    "means = [np.mean(sad, axis=0) for sad in sads]"
   ]
  },
  {
   "cell_type": "code",
   "execution_count": 28,
   "metadata": {},
   "outputs": [
    {
     "data": {
      "application/vnd.jupyter.widget-view+json": {
       "model_id": "c101795cb84f44309202f1c7607e2ba2",
       "version_major": 2,
       "version_minor": 0
      },
      "text/plain": [
       "Canvas(toolbar=Toolbar(toolitems=[('Home', 'Reset original view', 'home', 'home'), ('Back', 'Back to previous …"
      ]
     },
     "metadata": {},
     "output_type": "display_data"
    },
    {
     "data": {
      "text/plain": [
       "[<matplotlib.lines.Line2D at 0x7fd646c25b70>]"
      ]
     },
     "execution_count": 28,
     "metadata": {},
     "output_type": "execute_result"
    }
   ],
   "source": [
    "plt.figure()\n",
    "k = 8\n",
    "mean = np.cumsum(slopes[k])\n",
    "plt.fill_between(np.arange(len(mean)), mean - stdevs[k], mean + stdevs[k], alpha=0.1)\n",
    "plt.plot(np.arange(len(mean)), mean)"
   ]
  },
  {
   "cell_type": "markdown",
   "metadata": {},
   "source": [
    "Let's look at one day and highlighting farm dam areas."
   ]
  },
  {
   "cell_type": "code",
   "execution_count": 33,
   "metadata": {},
   "outputs": [],
   "source": [
    "k = 100\n",
    "features = np.stack([\n",
    "    [s[k] for s in slopes],\n",
    "    [s[k] for s in stdevs],\n",
    "]).T"
   ]
  },
  {
   "cell_type": "code",
   "execution_count": 34,
   "metadata": {},
   "outputs": [
    {
     "data": {
      "application/vnd.jupyter.widget-view+json": {
       "model_id": "25e436f9b6624178a6bf61bdb27fd6fe",
       "version_major": 2,
       "version_minor": 0
      },
      "text/plain": [
       "Canvas(toolbar=Toolbar(toolitems=[('Home', 'Reset original view', 'home', 'home'), ('Back', 'Back to previous …"
      ]
     },
     "metadata": {},
     "output_type": "display_data"
    },
    {
     "data": {
      "text/plain": [
       "<matplotlib.collections.PathCollection at 0x7fd64280c5c0>"
      ]
     },
     "execution_count": 34,
     "metadata": {},
     "output_type": "execute_result"
    }
   ],
   "source": [
    "plt.figure()\n",
    "plt.scatter(features[:, 0], features[:, 1], s=1, c=waterbodies.FEATURETYP == 'Farm Dam Area', cmap='cool')"
   ]
  },
  {
   "cell_type": "markdown",
   "metadata": {},
   "source": [
    "This is pretty good at separating farm storages! What objects are tangled up with farm storages?"
   ]
  },
  {
   "cell_type": "code",
   "execution_count": 35,
   "metadata": {},
   "outputs": [],
   "source": [
    "clf = sklearn.linear_model.LogisticRegression().fit(features, waterbodies.FEATURETYP == 'Farm Dam Area')"
   ]
  },
  {
   "cell_type": "code",
   "execution_count": 36,
   "metadata": {},
   "outputs": [
    {
     "data": {
      "application/vnd.jupyter.widget-view+json": {
       "model_id": "42d1327a4791419184602a24e5c5f631",
       "version_major": 2,
       "version_minor": 0
      },
      "text/plain": [
       "Canvas(toolbar=Toolbar(toolitems=[('Home', 'Reset original view', 'home', 'home'), ('Back', 'Back to previous …"
      ]
     },
     "metadata": {},
     "output_type": "display_data"
    },
    {
     "data": {
      "text/plain": [
       "<matplotlib.collections.PathCollection at 0x7fd6427b6828>"
      ]
     },
     "execution_count": 36,
     "metadata": {},
     "output_type": "execute_result"
    }
   ],
   "source": [
    "plt.figure()\n",
    "probs = clf.predict_proba(features)[:, 1]\n",
    "plt.scatter(features[:, 0], features[:, 1], s=1, c=probs, cmap='cool')"
   ]
  },
  {
   "cell_type": "code",
   "execution_count": 37,
   "metadata": {},
   "outputs": [
    {
     "data": {
      "application/vnd.jupyter.widget-view+json": {
       "model_id": "5b7c9e81ca064b8b8eba8bb0035a8455",
       "version_major": 2,
       "version_minor": 0
      },
      "text/plain": [
       "Canvas(toolbar=Toolbar(toolitems=[('Home', 'Reset original view', 'home', 'home'), ('Back', 'Back to previous …"
      ]
     },
     "metadata": {},
     "output_type": "display_data"
    },
    {
     "data": {
      "text/plain": [
       "<matplotlib.axes._subplots.AxesSubplot at 0x7fd642481128>"
      ]
     },
     "execution_count": 37,
     "metadata": {},
     "output_type": "execute_result"
    }
   ],
   "source": [
    "waterbodies.buffer(200).plot(color=matplotlib.cm.cool(probs / probs.max()))"
   ]
  },
  {
   "cell_type": "markdown",
   "metadata": {},
   "source": [
    "Most of these look artificial (one is a mine lake). We also pick up a river, which is weird."
   ]
  },
  {
   "cell_type": "code",
   "execution_count": null,
   "metadata": {},
   "outputs": [],
   "source": []
  }
 ],
 "metadata": {
  "kernelspec": {
   "display_name": "Python 3",
   "language": "python",
   "name": "python3"
  },
  "language_info": {
   "codemirror_mode": {
    "name": "ipython",
    "version": 3
   },
   "file_extension": ".py",
   "mimetype": "text/x-python",
   "name": "python",
   "nbconvert_exporter": "python",
   "pygments_lexer": "ipython3",
   "version": "3.6.10"
  }
 },
 "nbformat": 4,
 "nbformat_minor": 4
}
