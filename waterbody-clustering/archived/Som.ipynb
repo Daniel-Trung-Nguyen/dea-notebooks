{
 "cells": [
  {
   "cell_type": "markdown",
   "metadata": {},
   "source": [
    "# Self-organising maps\n",
    "\n",
    "Let's use some self-organising maps to arrange our waterbodies."
   ]
  },
  {
   "cell_type": "markdown",
   "metadata": {},
   "source": [
    "## Setup"
   ]
  },
  {
   "cell_type": "markdown",
   "metadata": {},
   "source": [
    "### Load modules"
   ]
  },
  {
   "cell_type": "code",
   "execution_count": 1,
   "metadata": {},
   "outputs": [
    {
     "name": "stderr",
     "output_type": "stream",
     "text": [
      "Loaded backend module://ipympl.backend_nbagg version unknown.\n"
     ]
    }
   ],
   "source": [
    "import numpy as np\n",
    "import matplotlib.pyplot as plt\n",
    "import geopandas as gpd\n",
    "import scipy.optimize as opt\n",
    "import matplotlib.colors\n",
    "from tqdm.notebook import tqdm\n",
    "import sklearn.cluster\n",
    "import sklearn.decomposition\n",
    "import sompy\n",
    "import scipy.ndimage.filters\n",
    "import matplotlib.animation\n",
    "\n",
    "%matplotlib widget"
   ]
  },
  {
   "cell_type": "markdown",
   "metadata": {},
   "source": [
    "### Load the data"
   ]
  },
  {
   "cell_type": "markdown",
   "metadata": {},
   "source": [
    "This was generated in WaterbodyClustering.ipynb."
   ]
  },
  {
   "cell_type": "code",
   "execution_count": 2,
   "metadata": {},
   "outputs": [
    {
     "name": "stderr",
     "output_type": "stream",
     "text": [
      "Entering env context: <fiona.env.Env object at 0x7fc973cd0048>\n",
      "Starting outermost env\n",
      "No GDAL environment exists\n",
      "New GDAL environment <fiona._env.GDALEnv object at 0x7fc962be3940> created\n",
      "Logging error handler pushed.\n",
      "All drivers registered.\n",
      "GDAL_DATA found in environment: '/g/data/v10/public/modules/dea-env/20200713/share/gdal'.\n",
      "PROJ_LIB found in environment: '/g/data/v10/public/modules/dea-env/20200713/share/proj'.\n",
      "Started GDALEnv <fiona._env.GDALEnv object at 0x7fc962be3940>.\n",
      "Updated existing <fiona._env.GDALEnv object at 0x7fc962be3940> with options {}\n",
      "Entered env context: <fiona.env.Env object at 0x7fc973cd0048>\n",
      "Got coordinate system\n",
      "Index: 0\n",
      "Flushed buffer\n",
      "Stopped session\n",
      "Exiting env context: <fiona.env.Env object at 0x7fc973cd0048>\n",
      "Cleared existing <fiona._env.GDALEnv object at 0x7fc962be3940> options\n",
      "Stopping GDALEnv <fiona._env.GDALEnv object at 0x7fc962be3940>.\n",
      "Error handler popped.\n",
      "Stopped GDALEnv <fiona._env.GDALEnv object at 0x7fc962be3940>.\n",
      "Exiting outermost env\n",
      "Exited env context: <fiona.env.Env object at 0x7fc973cd0048>\n"
     ]
    }
   ],
   "source": [
    "history = np.load('history_murray_full_norivers.npy')\n",
    "times = np.load('time_axis_murray_full_norivers.npy').astype('datetime64[D]')\n",
    "waterbodies = gpd.read_file('waterbodies_murray_norivers.geojson')"
   ]
  },
  {
   "cell_type": "markdown",
   "metadata": {},
   "source": [
    "## Vector self-organising maps\n",
    "\n",
    "As nice as it would be to use something designed for time series, most SOMs work on vector data. To get around this, we'll Gaussian blur the vector data &mdash; this is similar to a kernel and imposes correlations between neighbouring time stamps. This means that it imposes _structure_ on the vector, like a budget time series method. We'll also only use the last five years of data to ignore long-term effects (e.g. many water bodies didn't exist at the start of our data!)."
   ]
  },
  {
   "cell_type": "code",
   "execution_count": 3,
   "metadata": {},
   "outputs": [],
   "source": [
    "data = history[:, -365 * 5:]"
   ]
  },
  {
   "cell_type": "code",
   "execution_count": 4,
   "metadata": {},
   "outputs": [],
   "source": [
    "blurred_data = scipy.ndimage.filters.gaussian_filter1d(data, 7, axis=1)"
   ]
  },
  {
   "cell_type": "code",
   "execution_count": 5,
   "metadata": {},
   "outputs": [
    {
     "data": {
      "application/vnd.jupyter.widget-view+json": {
       "model_id": "cfa29a60b9dc4abeb6c598e98167df0b",
       "version_major": 2,
       "version_minor": 0
      },
      "text/plain": [
       "Canvas(toolbar=Toolbar(toolitems=[('Home', 'Reset original view', 'home', 'home'), ('Back', 'Back to previous …"
      ]
     },
     "metadata": {},
     "output_type": "display_data"
    },
    {
     "data": {
      "text/plain": [
       "[<matplotlib.lines.Line2D at 0x7fc91a19e198>]"
      ]
     },
     "execution_count": 5,
     "metadata": {},
     "output_type": "execute_result"
    }
   ],
   "source": [
    "k = 20\n",
    "plt.figure()\n",
    "plt.plot(times[-365 * 5:], data[k])\n",
    "plt.plot(times[-365 * 5:], blurred_data[k])"
   ]
  },
  {
   "cell_type": "markdown",
   "metadata": {},
   "source": [
    "We'll use SOMPY for generating the map."
   ]
  },
  {
   "cell_type": "code",
   "execution_count": 105,
   "metadata": {},
   "outputs": [
    {
     "name": "stderr",
     "output_type": "stream",
     "text": [
      " Training...\n",
      "--------------------------------------------------------------\n",
      " details: \n",
      "      > data len is 9081 and data dimension is 1825\n",
      "      > map size is 50,50\n",
      "      > array size in log10 scale is 10.617336553140767\n",
      "      > number of jobs in parallel: 4\n",
      " -------------------------------------------------------------\n",
      "\n",
      " pca_linear_initialization took: 1.103000 seconds\n",
      " Rough training...\n",
      " radius_ini: 7.000000 , radius_final: 1.750000, trainlen: 9\n",
      "\n",
      " find_bmu took: 1.460000 seconds\n",
      " update_codebook_voronoi took: 0.840000 seconds\n",
      " epoch: 1 ---> elapsed time:  2.536000, quantization error: 26.397222\n",
      "\n",
      " find_bmu took: 1.360000 seconds\n",
      " update_codebook_voronoi took: 0.682000 seconds\n",
      " epoch: 2 ---> elapsed time:  2.398000, quantization error: 31.810184\n",
      "\n",
      " find_bmu took: 1.576000 seconds\n",
      " update_codebook_voronoi took: 0.321000 seconds\n",
      " epoch: 3 ---> elapsed time:  2.119000, quantization error: 23.401697\n",
      "\n",
      " find_bmu took: 1.348000 seconds\n",
      " update_codebook_voronoi took: 0.691000 seconds\n",
      " epoch: 4 ---> elapsed time:  2.311000, quantization error: 21.224516\n",
      "\n",
      " find_bmu took: 1.354000 seconds\n",
      " update_codebook_voronoi took: 0.811000 seconds\n",
      " epoch: 5 ---> elapsed time:  2.396000, quantization error: 20.356929\n",
      "\n",
      " find_bmu took: 1.362000 seconds\n",
      " update_codebook_voronoi took: 0.496000 seconds\n",
      " epoch: 6 ---> elapsed time:  2.171000, quantization error: 19.711047\n",
      "\n",
      " find_bmu took: 1.343000 seconds\n",
      " update_codebook_voronoi took: 0.984000 seconds\n",
      " epoch: 7 ---> elapsed time:  2.544000, quantization error: 19.113172\n",
      "\n",
      " find_bmu took: 1.348000 seconds\n",
      " update_codebook_voronoi took: 0.381000 seconds\n",
      " epoch: 8 ---> elapsed time:  1.949000, quantization error: 18.513634\n",
      "\n",
      " find_bmu took: 1.446000 seconds\n",
      " update_codebook_voronoi took: 0.370000 seconds\n",
      " epoch: 9 ---> elapsed time:  2.231000, quantization error: 17.861631\n",
      "\n",
      " Finetune training...\n",
      " radius_ini: 1.750000 , radius_final: 1.000000, trainlen: 12\n",
      "\n",
      " find_bmu took: 1.355000 seconds\n",
      " update_codebook_voronoi took: 0.364000 seconds\n",
      " epoch: 1 ---> elapsed time:  2.004000, quantization error: 17.095149\n",
      "\n",
      " find_bmu took: 1.439000 seconds\n",
      " update_codebook_voronoi took: 0.385000 seconds\n",
      " epoch: 2 ---> elapsed time:  2.054000, quantization error: 16.899919\n",
      "\n",
      " find_bmu took: 1.548000 seconds\n",
      " update_codebook_voronoi took: 0.767000 seconds\n",
      " epoch: 3 ---> elapsed time:  2.539000, quantization error: 16.743514\n",
      "\n",
      " find_bmu took: 1.343000 seconds\n",
      " update_codebook_voronoi took: 0.623000 seconds\n",
      " epoch: 4 ---> elapsed time:  2.190000, quantization error: 16.606267\n",
      "\n",
      " find_bmu took: 1.541000 seconds\n",
      " update_codebook_voronoi took: 0.768000 seconds\n",
      " epoch: 5 ---> elapsed time:  2.537000, quantization error: 16.476748\n",
      "\n",
      " find_bmu took: 1.358000 seconds\n",
      " update_codebook_voronoi took: 0.756000 seconds\n",
      " epoch: 6 ---> elapsed time:  2.334000, quantization error: 16.346170\n",
      "\n",
      " find_bmu took: 1.243000 seconds\n",
      " update_codebook_voronoi took: 0.872000 seconds\n",
      " epoch: 7 ---> elapsed time:  2.341000, quantization error: 16.214892\n",
      "\n",
      " find_bmu took: 1.534000 seconds\n",
      " update_codebook_voronoi took: 1.273000 seconds\n",
      " epoch: 8 ---> elapsed time:  3.042000, quantization error: 16.081378\n",
      "\n",
      " find_bmu took: 1.350000 seconds\n",
      " update_codebook_voronoi took: 1.751000 seconds\n",
      " epoch: 9 ---> elapsed time:  3.325000, quantization error: 15.939861\n",
      "\n",
      " find_bmu took: 1.465000 seconds\n",
      " update_codebook_voronoi took: 1.654000 seconds\n",
      " epoch: 10 ---> elapsed time:  3.353000, quantization error: 15.791342\n",
      "\n",
      " find_bmu took: 1.283000 seconds\n",
      " update_codebook_voronoi took: 1.779000 seconds\n",
      " epoch: 11 ---> elapsed time:  3.521000, quantization error: 15.630828\n",
      "\n",
      " find_bmu took: 1.439000 seconds\n",
      " update_codebook_voronoi took: 2.010000 seconds\n",
      " epoch: 12 ---> elapsed time:  3.689000, quantization error: 15.460674\n",
      "\n",
      " --------------------------------------------------------------\n",
      " Final quantization error: 15.460674\n",
      " train took: 54.775000 seconds\n"
     ]
    }
   ],
   "source": [
    "mapsize = [50, 50]\n",
    "som = sompy.SOMFactory.build(\n",
    "    blurred_data,\n",
    "    mapsize)\n",
    "som.train(n_job=4, verbose='debug')  # verbose='debug' will print more, and verbose=None wont print anything"
   ]
  },
  {
   "cell_type": "code",
   "execution_count": 106,
   "metadata": {},
   "outputs": [
    {
     "data": {
      "application/vnd.jupyter.widget-view+json": {
       "model_id": "eec66f186e924646af8a5e98745e2e9f",
       "version_major": 2,
       "version_minor": 0
      },
      "text/plain": [
       "Canvas(toolbar=Toolbar(toolitems=[('Home', 'Reset original view', 'home', 'home'), ('Back', 'Back to previous …"
      ]
     },
     "metadata": {},
     "output_type": "display_data"
    }
   ],
   "source": [
    "um = sompy.umatrix.UMatrixView(10, 10, 'umatrix', show_axis=True, text_size=8, show_text=True)\n",
    "umat = um.build_u_matrix(som, distance=1, row_normalized=False)\n",
    "UMAT = um.show(som, distance2=1, row_normalized=False, show_data=True, contooor=True, blob=False)"
   ]
  },
  {
   "cell_type": "markdown",
   "metadata": {},
   "source": [
    "There are some weak clusters in the U-matrix, but it looks like most of the data is up in that upper-right corner."
   ]
  },
  {
   "cell_type": "code",
   "execution_count": 110,
   "metadata": {},
   "outputs": [
    {
     "data": {
      "application/vnd.jupyter.widget-view+json": {
       "model_id": "8a322c7f111d429c85da3dd549d80c97",
       "version_major": 2,
       "version_minor": 0
      },
      "text/plain": [
       "Canvas(toolbar=Toolbar(toolitems=[('Home', 'Reset original view', 'home', 'home'), ('Back', 'Back to previous …"
      ]
     },
     "metadata": {},
     "output_type": "display_data"
    }
   ],
   "source": [
    "def get_anim():\n",
    "    # need a closure for these variables\n",
    "    fig = plt.figure()\n",
    "    codebook = som.codebook.matrix.reshape(tuple(mapsize) + (-1,))\n",
    "    ax = fig.add_subplot(2, 1, 1)\n",
    "    im = ax.imshow(codebook[:, :, 0])\n",
    "    ax = fig.add_subplot(2, 1, 2)\n",
    "    mean = blurred_data.mean(axis=0)\n",
    "    ax.plot(times[-365 * 5:], mean, c='k')\n",
    "    line = ax.axvline(times[-365 * 5], c='r')\n",
    "    def update_im(i):\n",
    "        i = i * 5\n",
    "        im.set_data(codebook[:, :, i])\n",
    "        t = times[-365 * 5 + i]\n",
    "        line.set_xdata([t, t])\n",
    "    anim = matplotlib.animation.FuncAnimation(fig, update_im, frames=range(365), interval=10)\n",
    "    return anim\n",
    "\n",
    "anim = get_anim()"
   ]
  },
  {
   "cell_type": "code",
   "execution_count": 14,
   "metadata": {
    "collapsed": true,
    "jupyter": {
     "outputs_hidden": true
    }
   },
   "outputs": [
    {
     "name": "stderr",
     "output_type": "stream",
     "text": [
      "Animation.save using <class 'matplotlib.animation.ImageMagickWriter'>\n",
      "frame size in pixels is 640 x 480\n",
      "MovieWriter._run: running command: convert -size 640x480 -depth 8 -delay 1.6666666666666667 -loop 0 rgba:- som_animation.gif\n",
      "MovieWriter.grab_frame: Grabbing frame.\n",
      "MovieWriter.grab_frame: Grabbing frame.\n",
      "MovieWriter.grab_frame: Grabbing frame.\n",
      "MovieWriter.grab_frame: Grabbing frame.\n",
      "MovieWriter.grab_frame: Grabbing frame.\n",
      "MovieWriter.grab_frame: Grabbing frame.\n",
      "MovieWriter.grab_frame: Grabbing frame.\n",
      "MovieWriter.grab_frame: Grabbing frame.\n",
      "MovieWriter.grab_frame: Grabbing frame.\n",
      "MovieWriter.grab_frame: Grabbing frame.\n",
      "MovieWriter.grab_frame: Grabbing frame.\n",
      "MovieWriter.grab_frame: Grabbing frame.\n",
      "MovieWriter.grab_frame: Grabbing frame.\n",
      "MovieWriter.grab_frame: Grabbing frame.\n",
      "MovieWriter.grab_frame: Grabbing frame.\n",
      "MovieWriter.grab_frame: Grabbing frame.\n",
      "MovieWriter.grab_frame: Grabbing frame.\n",
      "MovieWriter.grab_frame: Grabbing frame.\n",
      "MovieWriter.grab_frame: Grabbing frame.\n",
      "MovieWriter.grab_frame: Grabbing frame.\n",
      "MovieWriter.grab_frame: Grabbing frame.\n",
      "MovieWriter.grab_frame: Grabbing frame.\n",
      "MovieWriter.grab_frame: Grabbing frame.\n",
      "MovieWriter.grab_frame: Grabbing frame.\n",
      "MovieWriter.grab_frame: Grabbing frame.\n",
      "MovieWriter.grab_frame: Grabbing frame.\n",
      "MovieWriter.grab_frame: Grabbing frame.\n",
      "MovieWriter.grab_frame: Grabbing frame.\n",
      "MovieWriter.grab_frame: Grabbing frame.\n",
      "MovieWriter.grab_frame: Grabbing frame.\n",
      "MovieWriter.grab_frame: Grabbing frame.\n",
      "MovieWriter.grab_frame: Grabbing frame.\n",
      "MovieWriter.grab_frame: Grabbing frame.\n",
      "MovieWriter.grab_frame: Grabbing frame.\n",
      "MovieWriter.grab_frame: Grabbing frame.\n",
      "MovieWriter.grab_frame: Grabbing frame.\n",
      "MovieWriter.grab_frame: Grabbing frame.\n",
      "MovieWriter.grab_frame: Grabbing frame.\n",
      "MovieWriter.grab_frame: Grabbing frame.\n",
      "MovieWriter.grab_frame: Grabbing frame.\n",
      "MovieWriter.grab_frame: Grabbing frame.\n",
      "MovieWriter.grab_frame: Grabbing frame.\n",
      "MovieWriter.grab_frame: Grabbing frame.\n",
      "MovieWriter.grab_frame: Grabbing frame.\n",
      "MovieWriter.grab_frame: Grabbing frame.\n",
      "MovieWriter.grab_frame: Grabbing frame.\n",
      "MovieWriter.grab_frame: Grabbing frame.\n",
      "MovieWriter.grab_frame: Grabbing frame.\n",
      "MovieWriter.grab_frame: Grabbing frame.\n",
      "MovieWriter.grab_frame: Grabbing frame.\n",
      "MovieWriter.grab_frame: Grabbing frame.\n",
      "MovieWriter.grab_frame: Grabbing frame.\n",
      "MovieWriter.grab_frame: Grabbing frame.\n",
      "MovieWriter.grab_frame: Grabbing frame.\n",
      "MovieWriter.grab_frame: Grabbing frame.\n",
      "MovieWriter.grab_frame: Grabbing frame.\n",
      "MovieWriter.grab_frame: Grabbing frame.\n",
      "MovieWriter.grab_frame: Grabbing frame.\n",
      "MovieWriter.grab_frame: Grabbing frame.\n",
      "MovieWriter.grab_frame: Grabbing frame.\n",
      "MovieWriter.grab_frame: Grabbing frame.\n",
      "MovieWriter.grab_frame: Grabbing frame.\n",
      "MovieWriter.grab_frame: Grabbing frame.\n",
      "MovieWriter.grab_frame: Grabbing frame.\n",
      "MovieWriter.grab_frame: Grabbing frame.\n",
      "MovieWriter.grab_frame: Grabbing frame.\n",
      "MovieWriter.grab_frame: Grabbing frame.\n",
      "MovieWriter.grab_frame: Grabbing frame.\n",
      "MovieWriter.grab_frame: Grabbing frame.\n",
      "MovieWriter.grab_frame: Grabbing frame.\n",
      "MovieWriter.grab_frame: Grabbing frame.\n",
      "MovieWriter.grab_frame: Grabbing frame.\n",
      "MovieWriter.grab_frame: Grabbing frame.\n",
      "MovieWriter.grab_frame: Grabbing frame.\n",
      "MovieWriter.grab_frame: Grabbing frame.\n",
      "MovieWriter.grab_frame: Grabbing frame.\n",
      "MovieWriter.grab_frame: Grabbing frame.\n",
      "MovieWriter.grab_frame: Grabbing frame.\n",
      "MovieWriter.grab_frame: Grabbing frame.\n",
      "MovieWriter.grab_frame: Grabbing frame.\n",
      "MovieWriter.grab_frame: Grabbing frame.\n",
      "MovieWriter.grab_frame: Grabbing frame.\n",
      "MovieWriter.grab_frame: Grabbing frame.\n",
      "MovieWriter.grab_frame: Grabbing frame.\n",
      "MovieWriter.grab_frame: Grabbing frame.\n",
      "MovieWriter.grab_frame: Grabbing frame.\n",
      "MovieWriter.grab_frame: Grabbing frame.\n",
      "MovieWriter.grab_frame: Grabbing frame.\n",
      "MovieWriter.grab_frame: Grabbing frame.\n",
      "MovieWriter.grab_frame: Grabbing frame.\n",
      "MovieWriter.grab_frame: Grabbing frame.\n",
      "MovieWriter.grab_frame: Grabbing frame.\n",
      "MovieWriter.grab_frame: Grabbing frame.\n",
      "MovieWriter.grab_frame: Grabbing frame.\n",
      "MovieWriter.grab_frame: Grabbing frame.\n",
      "MovieWriter.grab_frame: Grabbing frame.\n",
      "MovieWriter.grab_frame: Grabbing frame.\n",
      "MovieWriter.grab_frame: Grabbing frame.\n",
      "MovieWriter.grab_frame: Grabbing frame.\n",
      "MovieWriter.grab_frame: Grabbing frame.\n",
      "MovieWriter.grab_frame: Grabbing frame.\n",
      "MovieWriter.grab_frame: Grabbing frame.\n",
      "MovieWriter.grab_frame: Grabbing frame.\n",
      "MovieWriter.grab_frame: Grabbing frame.\n",
      "MovieWriter.grab_frame: Grabbing frame.\n",
      "MovieWriter.grab_frame: Grabbing frame.\n",
      "MovieWriter.grab_frame: Grabbing frame.\n",
      "MovieWriter.grab_frame: Grabbing frame.\n",
      "MovieWriter.grab_frame: Grabbing frame.\n",
      "MovieWriter.grab_frame: Grabbing frame.\n",
      "MovieWriter.grab_frame: Grabbing frame.\n",
      "MovieWriter.grab_frame: Grabbing frame.\n",
      "MovieWriter.grab_frame: Grabbing frame.\n",
      "MovieWriter.grab_frame: Grabbing frame.\n",
      "MovieWriter.grab_frame: Grabbing frame.\n",
      "MovieWriter.grab_frame: Grabbing frame.\n",
      "MovieWriter.grab_frame: Grabbing frame.\n",
      "MovieWriter.grab_frame: Grabbing frame.\n",
      "MovieWriter.grab_frame: Grabbing frame.\n",
      "MovieWriter.grab_frame: Grabbing frame.\n",
      "MovieWriter.grab_frame: Grabbing frame.\n",
      "MovieWriter.grab_frame: Grabbing frame.\n",
      "MovieWriter.grab_frame: Grabbing frame.\n",
      "MovieWriter.grab_frame: Grabbing frame.\n",
      "MovieWriter.grab_frame: Grabbing frame.\n",
      "MovieWriter.grab_frame: Grabbing frame.\n",
      "MovieWriter.grab_frame: Grabbing frame.\n",
      "MovieWriter.grab_frame: Grabbing frame.\n",
      "MovieWriter.grab_frame: Grabbing frame.\n",
      "MovieWriter.grab_frame: Grabbing frame.\n",
      "MovieWriter.grab_frame: Grabbing frame.\n",
      "MovieWriter.grab_frame: Grabbing frame.\n",
      "MovieWriter.grab_frame: Grabbing frame.\n",
      "MovieWriter.grab_frame: Grabbing frame.\n",
      "MovieWriter.grab_frame: Grabbing frame.\n",
      "MovieWriter.grab_frame: Grabbing frame.\n",
      "MovieWriter.grab_frame: Grabbing frame.\n",
      "MovieWriter.grab_frame: Grabbing frame.\n",
      "MovieWriter.grab_frame: Grabbing frame.\n",
      "MovieWriter.grab_frame: Grabbing frame.\n",
      "MovieWriter.grab_frame: Grabbing frame.\n",
      "MovieWriter.grab_frame: Grabbing frame.\n",
      "MovieWriter.grab_frame: Grabbing frame.\n",
      "MovieWriter.grab_frame: Grabbing frame.\n",
      "MovieWriter.grab_frame: Grabbing frame.\n",
      "MovieWriter.grab_frame: Grabbing frame.\n",
      "MovieWriter.grab_frame: Grabbing frame.\n",
      "MovieWriter.grab_frame: Grabbing frame.\n",
      "MovieWriter.grab_frame: Grabbing frame.\n",
      "MovieWriter.grab_frame: Grabbing frame.\n",
      "MovieWriter.grab_frame: Grabbing frame.\n",
      "MovieWriter.grab_frame: Grabbing frame.\n",
      "MovieWriter.grab_frame: Grabbing frame.\n",
      "MovieWriter.grab_frame: Grabbing frame.\n",
      "MovieWriter.grab_frame: Grabbing frame.\n",
      "MovieWriter.grab_frame: Grabbing frame.\n",
      "MovieWriter.grab_frame: Grabbing frame.\n",
      "MovieWriter.grab_frame: Grabbing frame.\n",
      "MovieWriter.grab_frame: Grabbing frame.\n",
      "MovieWriter.grab_frame: Grabbing frame.\n",
      "MovieWriter.grab_frame: Grabbing frame.\n",
      "MovieWriter.grab_frame: Grabbing frame.\n",
      "MovieWriter.grab_frame: Grabbing frame.\n",
      "MovieWriter.grab_frame: Grabbing frame.\n",
      "MovieWriter.grab_frame: Grabbing frame.\n",
      "MovieWriter.grab_frame: Grabbing frame.\n",
      "MovieWriter.grab_frame: Grabbing frame.\n",
      "MovieWriter.grab_frame: Grabbing frame.\n",
      "MovieWriter.grab_frame: Grabbing frame.\n",
      "MovieWriter.grab_frame: Grabbing frame.\n",
      "MovieWriter.grab_frame: Grabbing frame.\n",
      "MovieWriter.grab_frame: Grabbing frame.\n",
      "MovieWriter.grab_frame: Grabbing frame.\n",
      "MovieWriter.grab_frame: Grabbing frame.\n",
      "MovieWriter.grab_frame: Grabbing frame.\n",
      "MovieWriter.grab_frame: Grabbing frame.\n",
      "MovieWriter.grab_frame: Grabbing frame.\n",
      "MovieWriter.grab_frame: Grabbing frame.\n",
      "MovieWriter.grab_frame: Grabbing frame.\n",
      "MovieWriter.grab_frame: Grabbing frame.\n",
      "MovieWriter.grab_frame: Grabbing frame.\n",
      "MovieWriter.grab_frame: Grabbing frame.\n",
      "MovieWriter.grab_frame: Grabbing frame.\n",
      "MovieWriter.grab_frame: Grabbing frame.\n",
      "MovieWriter.grab_frame: Grabbing frame.\n",
      "MovieWriter.grab_frame: Grabbing frame.\n",
      "MovieWriter.grab_frame: Grabbing frame.\n",
      "MovieWriter.grab_frame: Grabbing frame.\n",
      "MovieWriter.grab_frame: Grabbing frame.\n",
      "MovieWriter.grab_frame: Grabbing frame.\n",
      "MovieWriter.grab_frame: Grabbing frame.\n",
      "MovieWriter.grab_frame: Grabbing frame.\n",
      "MovieWriter.grab_frame: Grabbing frame.\n",
      "MovieWriter.grab_frame: Grabbing frame.\n",
      "MovieWriter.grab_frame: Grabbing frame.\n",
      "MovieWriter.grab_frame: Grabbing frame.\n",
      "MovieWriter.grab_frame: Grabbing frame.\n",
      "MovieWriter.grab_frame: Grabbing frame.\n",
      "MovieWriter.grab_frame: Grabbing frame.\n",
      "MovieWriter.grab_frame: Grabbing frame.\n",
      "MovieWriter.grab_frame: Grabbing frame.\n",
      "MovieWriter.grab_frame: Grabbing frame.\n",
      "MovieWriter.grab_frame: Grabbing frame.\n",
      "MovieWriter.grab_frame: Grabbing frame.\n",
      "MovieWriter.grab_frame: Grabbing frame.\n",
      "MovieWriter.grab_frame: Grabbing frame.\n",
      "MovieWriter.grab_frame: Grabbing frame.\n",
      "MovieWriter.grab_frame: Grabbing frame.\n",
      "MovieWriter.grab_frame: Grabbing frame.\n",
      "MovieWriter.grab_frame: Grabbing frame.\n",
      "MovieWriter.grab_frame: Grabbing frame.\n",
      "MovieWriter.grab_frame: Grabbing frame.\n",
      "MovieWriter.grab_frame: Grabbing frame.\n",
      "MovieWriter.grab_frame: Grabbing frame.\n",
      "MovieWriter.grab_frame: Grabbing frame.\n",
      "MovieWriter.grab_frame: Grabbing frame.\n",
      "MovieWriter.grab_frame: Grabbing frame.\n",
      "MovieWriter.grab_frame: Grabbing frame.\n",
      "MovieWriter.grab_frame: Grabbing frame.\n",
      "MovieWriter.grab_frame: Grabbing frame.\n",
      "MovieWriter.grab_frame: Grabbing frame.\n",
      "MovieWriter.grab_frame: Grabbing frame.\n",
      "MovieWriter.grab_frame: Grabbing frame.\n",
      "MovieWriter.grab_frame: Grabbing frame.\n",
      "MovieWriter.grab_frame: Grabbing frame.\n",
      "MovieWriter.grab_frame: Grabbing frame.\n",
      "MovieWriter.grab_frame: Grabbing frame.\n",
      "MovieWriter.grab_frame: Grabbing frame.\n",
      "MovieWriter.grab_frame: Grabbing frame.\n",
      "MovieWriter.grab_frame: Grabbing frame.\n",
      "MovieWriter.grab_frame: Grabbing frame.\n",
      "MovieWriter.grab_frame: Grabbing frame.\n",
      "MovieWriter.grab_frame: Grabbing frame.\n",
      "MovieWriter.grab_frame: Grabbing frame.\n",
      "MovieWriter.grab_frame: Grabbing frame.\n",
      "MovieWriter.grab_frame: Grabbing frame.\n",
      "MovieWriter.grab_frame: Grabbing frame.\n",
      "MovieWriter.grab_frame: Grabbing frame.\n",
      "MovieWriter.grab_frame: Grabbing frame.\n",
      "MovieWriter.grab_frame: Grabbing frame.\n",
      "MovieWriter.grab_frame: Grabbing frame.\n",
      "MovieWriter.grab_frame: Grabbing frame.\n",
      "MovieWriter.grab_frame: Grabbing frame.\n",
      "MovieWriter.grab_frame: Grabbing frame.\n",
      "MovieWriter.grab_frame: Grabbing frame.\n",
      "MovieWriter.grab_frame: Grabbing frame.\n",
      "MovieWriter.grab_frame: Grabbing frame.\n",
      "MovieWriter.grab_frame: Grabbing frame.\n",
      "MovieWriter.grab_frame: Grabbing frame.\n",
      "MovieWriter.grab_frame: Grabbing frame.\n",
      "MovieWriter.grab_frame: Grabbing frame.\n",
      "MovieWriter.grab_frame: Grabbing frame.\n",
      "MovieWriter.grab_frame: Grabbing frame.\n",
      "MovieWriter.grab_frame: Grabbing frame.\n",
      "MovieWriter.grab_frame: Grabbing frame.\n",
      "MovieWriter.grab_frame: Grabbing frame.\n",
      "MovieWriter.grab_frame: Grabbing frame.\n",
      "MovieWriter.grab_frame: Grabbing frame.\n",
      "MovieWriter.grab_frame: Grabbing frame.\n",
      "MovieWriter.grab_frame: Grabbing frame.\n",
      "MovieWriter.grab_frame: Grabbing frame.\n",
      "MovieWriter.grab_frame: Grabbing frame.\n",
      "MovieWriter.grab_frame: Grabbing frame.\n",
      "MovieWriter.grab_frame: Grabbing frame.\n",
      "MovieWriter.grab_frame: Grabbing frame.\n",
      "MovieWriter.grab_frame: Grabbing frame.\n",
      "MovieWriter.grab_frame: Grabbing frame.\n",
      "MovieWriter.grab_frame: Grabbing frame.\n",
      "MovieWriter.grab_frame: Grabbing frame.\n",
      "MovieWriter.grab_frame: Grabbing frame.\n",
      "MovieWriter.grab_frame: Grabbing frame.\n",
      "MovieWriter.grab_frame: Grabbing frame.\n",
      "MovieWriter.grab_frame: Grabbing frame.\n",
      "MovieWriter.grab_frame: Grabbing frame.\n",
      "MovieWriter.grab_frame: Grabbing frame.\n",
      "MovieWriter.grab_frame: Grabbing frame.\n",
      "MovieWriter.grab_frame: Grabbing frame.\n",
      "MovieWriter.grab_frame: Grabbing frame.\n",
      "MovieWriter.grab_frame: Grabbing frame.\n",
      "MovieWriter.grab_frame: Grabbing frame.\n",
      "MovieWriter.grab_frame: Grabbing frame.\n",
      "MovieWriter.grab_frame: Grabbing frame.\n",
      "MovieWriter.grab_frame: Grabbing frame.\n",
      "MovieWriter.grab_frame: Grabbing frame.\n",
      "MovieWriter.grab_frame: Grabbing frame.\n",
      "MovieWriter.grab_frame: Grabbing frame.\n",
      "MovieWriter.grab_frame: Grabbing frame.\n",
      "MovieWriter.grab_frame: Grabbing frame.\n",
      "MovieWriter.grab_frame: Grabbing frame.\n",
      "MovieWriter.grab_frame: Grabbing frame.\n",
      "MovieWriter.grab_frame: Grabbing frame.\n",
      "MovieWriter.grab_frame: Grabbing frame.\n",
      "MovieWriter.grab_frame: Grabbing frame.\n",
      "MovieWriter.grab_frame: Grabbing frame.\n",
      "MovieWriter.grab_frame: Grabbing frame.\n",
      "MovieWriter.grab_frame: Grabbing frame.\n",
      "MovieWriter.grab_frame: Grabbing frame.\n",
      "MovieWriter.grab_frame: Grabbing frame.\n",
      "MovieWriter.grab_frame: Grabbing frame.\n",
      "MovieWriter.grab_frame: Grabbing frame.\n",
      "MovieWriter.grab_frame: Grabbing frame.\n",
      "MovieWriter.grab_frame: Grabbing frame.\n",
      "MovieWriter.grab_frame: Grabbing frame.\n",
      "MovieWriter.grab_frame: Grabbing frame.\n",
      "MovieWriter.grab_frame: Grabbing frame.\n",
      "MovieWriter.grab_frame: Grabbing frame.\n",
      "MovieWriter.grab_frame: Grabbing frame.\n",
      "MovieWriter.grab_frame: Grabbing frame.\n",
      "MovieWriter.grab_frame: Grabbing frame.\n",
      "MovieWriter.grab_frame: Grabbing frame.\n",
      "MovieWriter.grab_frame: Grabbing frame.\n",
      "MovieWriter.grab_frame: Grabbing frame.\n",
      "MovieWriter.grab_frame: Grabbing frame.\n",
      "MovieWriter.grab_frame: Grabbing frame.\n",
      "MovieWriter.grab_frame: Grabbing frame.\n",
      "MovieWriter.grab_frame: Grabbing frame.\n",
      "MovieWriter.grab_frame: Grabbing frame.\n",
      "MovieWriter.grab_frame: Grabbing frame.\n",
      "MovieWriter.grab_frame: Grabbing frame.\n",
      "MovieWriter.grab_frame: Grabbing frame.\n",
      "MovieWriter.grab_frame: Grabbing frame.\n",
      "MovieWriter.grab_frame: Grabbing frame.\n",
      "MovieWriter.grab_frame: Grabbing frame.\n",
      "MovieWriter.grab_frame: Grabbing frame.\n",
      "MovieWriter.grab_frame: Grabbing frame.\n",
      "MovieWriter.grab_frame: Grabbing frame.\n",
      "MovieWriter.grab_frame: Grabbing frame.\n",
      "MovieWriter.grab_frame: Grabbing frame.\n",
      "MovieWriter.grab_frame: Grabbing frame.\n",
      "MovieWriter.grab_frame: Grabbing frame.\n",
      "MovieWriter.grab_frame: Grabbing frame.\n",
      "MovieWriter.grab_frame: Grabbing frame.\n",
      "MovieWriter.grab_frame: Grabbing frame.\n",
      "MovieWriter.grab_frame: Grabbing frame.\n",
      "MovieWriter.grab_frame: Grabbing frame.\n",
      "MovieWriter.grab_frame: Grabbing frame.\n",
      "MovieWriter.grab_frame: Grabbing frame.\n",
      "MovieWriter.grab_frame: Grabbing frame.\n",
      "MovieWriter.grab_frame: Grabbing frame.\n",
      "MovieWriter.grab_frame: Grabbing frame.\n",
      "MovieWriter.grab_frame: Grabbing frame.\n",
      "MovieWriter.grab_frame: Grabbing frame.\n",
      "MovieWriter.grab_frame: Grabbing frame.\n",
      "MovieWriter.grab_frame: Grabbing frame.\n",
      "MovieWriter.grab_frame: Grabbing frame.\n",
      "MovieWriter.grab_frame: Grabbing frame.\n",
      "MovieWriter.grab_frame: Grabbing frame.\n",
      "MovieWriter.grab_frame: Grabbing frame.\n",
      "MovieWriter.grab_frame: Grabbing frame.\n",
      "MovieWriter.grab_frame: Grabbing frame.\n",
      "MovieWriter.grab_frame: Grabbing frame.\n",
      "MovieWriter.grab_frame: Grabbing frame.\n",
      "MovieWriter.grab_frame: Grabbing frame.\n",
      "MovieWriter.grab_frame: Grabbing frame.\n",
      "MovieWriter.grab_frame: Grabbing frame.\n",
      "MovieWriter.grab_frame: Grabbing frame.\n",
      "MovieWriter.grab_frame: Grabbing frame.\n",
      "MovieWriter.grab_frame: Grabbing frame.\n",
      "MovieWriter.grab_frame: Grabbing frame.\n",
      "MovieWriter.grab_frame: Grabbing frame.\n",
      "MovieWriter.grab_frame: Grabbing frame.\n",
      "MovieWriter.grab_frame: Grabbing frame.\n",
      "MovieWriter.grab_frame: Grabbing frame.\n",
      "MovieWriter.grab_frame: Grabbing frame.\n",
      "MovieWriter.grab_frame: Grabbing frame.\n"
     ]
    }
   ],
   "source": [
    "anim.save('som_animation.gif', writer='imagemagick', fps=60)"
   ]
  },
  {
   "cell_type": "code",
   "execution_count": 111,
   "metadata": {},
   "outputs": [],
   "source": [
    "cl = som.cluster()"
   ]
  },
  {
   "cell_type": "code",
   "execution_count": 113,
   "metadata": {},
   "outputs": [
    {
     "name": "stderr",
     "output_type": "stream",
     "text": [
      "/g/data/v10/public/modules/dea-env/20200713/lib/python3.6/site-packages/ipykernel_launcher.py:1: RuntimeWarning: More than 20 figures have been opened. Figures created through the pyplot interface (`matplotlib.pyplot.figure`) are retained until explicitly closed and may consume too much memory. (To control this warning, see the rcParam `figure.max_open_warning`).\n",
      "  \"\"\"Entry point for launching an IPython kernel.\n"
     ]
    },
    {
     "data": {
      "application/vnd.jupyter.widget-view+json": {
       "model_id": "90d7cf2a39b4473998d2eccb5260e854",
       "version_major": 2,
       "version_minor": 0
      },
      "text/plain": [
       "Canvas(toolbar=Toolbar(toolitems=[('Home', 'Reset original view', 'home', 'home'), ('Back', 'Back to previous …"
      ]
     },
     "metadata": {},
     "output_type": "display_data"
    },
    {
     "data": {
      "text/plain": [
       "<matplotlib.image.AxesImage at 0x7fc908b640f0>"
      ]
     },
     "execution_count": 113,
     "metadata": {},
     "output_type": "execute_result"
    }
   ],
   "source": [
    "plt.figure()\n",
    "plt.imshow(cl.reshape(mapsize), cmap='rainbow')"
   ]
  },
  {
   "cell_type": "code",
   "execution_count": 114,
   "metadata": {},
   "outputs": [
    {
     "name": "stderr",
     "output_type": "stream",
     "text": [
      " find_bmu took: 1.563000 seconds\n"
     ]
    }
   ],
   "source": [
    "bmus = som.find_bmu(blurred_data, njb=4)"
   ]
  },
  {
   "cell_type": "code",
   "execution_count": 115,
   "metadata": {},
   "outputs": [],
   "source": [
    "clusters = cl[bmus[0].astype(int)]"
   ]
  },
  {
   "cell_type": "code",
   "execution_count": 117,
   "metadata": {},
   "outputs": [
    {
     "data": {
      "text/plain": [
       "7"
      ]
     },
     "execution_count": 117,
     "metadata": {},
     "output_type": "execute_result"
    }
   ],
   "source": [
    "max(clusters)"
   ]
  },
  {
   "cell_type": "code",
   "execution_count": 116,
   "metadata": {},
   "outputs": [
    {
     "name": "stderr",
     "output_type": "stream",
     "text": [
      "/g/data/v10/public/modules/dea-env/20200713/lib/python3.6/site-packages/ipykernel_launcher.py:1: RuntimeWarning: More than 20 figures have been opened. Figures created through the pyplot interface (`matplotlib.pyplot.figure`) are retained until explicitly closed and may consume too much memory. (To control this warning, see the rcParam `figure.max_open_warning`).\n",
      "  \"\"\"Entry point for launching an IPython kernel.\n"
     ]
    },
    {
     "data": {
      "application/vnd.jupyter.widget-view+json": {
       "model_id": "e3611a6a499a4f32bce1c62a3e7dc87e",
       "version_major": 2,
       "version_minor": 0
      },
      "text/plain": [
       "Canvas(toolbar=Toolbar(toolitems=[('Home', 'Reset original view', 'home', 'home'), ('Back', 'Back to previous …"
      ]
     },
     "metadata": {},
     "output_type": "display_data"
    },
    {
     "name": "stderr",
     "output_type": "stream",
     "text": [
      "/g/data/v10/public/modules/dea-env/20200713/lib/python3.6/site-packages/ipykernel_launcher.py:4: RuntimeWarning: Mean of empty slice.\n",
      "  after removing the cwd from sys.path.\n",
      "/g/data/v10/public/modules/dea-env/20200713/lib/python3.6/site-packages/numpy/core/_methods.py:154: RuntimeWarning: invalid value encountered in true_divide\n",
      "  ret, rcount, out=ret, casting='unsafe', subok=False)\n"
     ]
    }
   ],
   "source": [
    "plt.figure()\n",
    "for cluster in range(8):\n",
    "    plt.subplot(4, 2, cluster + 1)\n",
    "    plt.plot(times[-365 * 5:], blurred_data[clusters == cluster].mean(axis=0), c='k')\n",
    "    if (clusters == cluster).any():\n",
    "        plt.plot(times[-365 * 5:], blurred_data[clusters == cluster][:100].T, alpha=0.01, c='b')\n",
    "    plt.title('Cluster {} (n = {})'.format(cluster, sum(clusters == cluster)))"
   ]
  },
  {
   "cell_type": "markdown",
   "metadata": {},
   "source": [
    "Finally, some of these clusters actually look meaningful. Not all of them by any means, but two clusters both look pretty good (and pretty similar). What are these?"
   ]
  },
  {
   "cell_type": "code",
   "execution_count": 62,
   "metadata": {},
   "outputs": [
    {
     "data": {
      "application/vnd.jupyter.widget-view+json": {
       "model_id": "563306d3e27f46ef86f850efbd5ad6cc",
       "version_major": 2,
       "version_minor": 0
      },
      "text/plain": [
       "Canvas(toolbar=Toolbar(toolitems=[('Home', 'Reset original view', 'home', 'home'), ('Back', 'Back to previous …"
      ]
     },
     "metadata": {},
     "output_type": "display_data"
    }
   ],
   "source": [
    "fig = plt.figure()\n",
    "ax = fig.add_subplot(1, 1, 1)\n",
    "waterbodies[clusters == 1].to_crs('EPSG:3857').plot(ax=ax, color='red')\n",
    "waterbodies[clusters == 6].to_crs('EPSG:3857').plot(ax=ax, color='red')\n",
    "import contextily as ctx\n",
    "ctx.add_basemap(ax)"
   ]
  },
  {
   "attachments": {
    "0d701575-2bbd-4b03-a515-39df0ca39db4.png": {
     "image/png": "[encoded data removed]"
    }
   },
   "cell_type": "markdown",
   "metadata": {},
   "source": [
    "These seem to be natural waterbodies that flooded during La Ninas and were dry otherwise. They even look pretty similar before the last five years:\n",
    "![image.png](attachment:0d701575-2bbd-4b03-a515-39df0ca39db4.png)"
   ]
  },
  {
   "cell_type": "markdown",
   "metadata": {},
   "source": [
    "But this doesn't really use the map. Let's project onto the map..."
   ]
  },
  {
   "cell_type": "code",
   "execution_count": 118,
   "metadata": {},
   "outputs": [],
   "source": [
    "proj = som.node_activation(blurred_data)"
   ]
  },
  {
   "cell_type": "code",
   "execution_count": 119,
   "metadata": {},
   "outputs": [],
   "source": [
    "proj_ = np.array([vals[np.argsort(nodes)] for vals, nodes in zip(*proj)])"
   ]
  },
  {
   "cell_type": "markdown",
   "metadata": {},
   "source": [
    "Then we'll cluster that with k-means."
   ]
  },
  {
   "cell_type": "code",
   "execution_count": 120,
   "metadata": {},
   "outputs": [],
   "source": [
    "kmc = sklearn.cluster.KMeans(n_clusters=8)"
   ]
  },
  {
   "cell_type": "code",
   "execution_count": 121,
   "metadata": {},
   "outputs": [],
   "source": [
    "clusters = kmc.fit_predict(proj_)"
   ]
  },
  {
   "cell_type": "code",
   "execution_count": 122,
   "metadata": {},
   "outputs": [],
   "source": [
    "cluster_memberships = np.zeros((kmc.n_clusters, np.product(mapsize)))\n",
    "for cluster in range(kmc.n_clusters):\n",
    "    cluster_memberships[cluster] = proj_[clusters == cluster].mean(axis=0)"
   ]
  },
  {
   "cell_type": "code",
   "execution_count": 123,
   "metadata": {},
   "outputs": [
    {
     "name": "stderr",
     "output_type": "stream",
     "text": [
      "/g/data/v10/public/modules/dea-env/20200713/lib/python3.6/site-packages/ipykernel_launcher.py:1: RuntimeWarning: More than 20 figures have been opened. Figures created through the pyplot interface (`matplotlib.pyplot.figure`) are retained until explicitly closed and may consume too much memory. (To control this warning, see the rcParam `figure.max_open_warning`).\n",
      "  \"\"\"Entry point for launching an IPython kernel.\n"
     ]
    },
    {
     "data": {
      "application/vnd.jupyter.widget-view+json": {
       "model_id": "6cbb1f4009094906acd4a797e2cd97ad",
       "version_major": 2,
       "version_minor": 0
      },
      "text/plain": [
       "Canvas(toolbar=Toolbar(toolitems=[('Home', 'Reset original view', 'home', 'home'), ('Back', 'Back to previous …"
      ]
     },
     "metadata": {},
     "output_type": "display_data"
    }
   ],
   "source": [
    "plt.figure()\n",
    "for i in range(kmc.n_clusters):\n",
    "    plt.subplot(2, 4, i + 1)\n",
    "    plt.imshow(cluster_memberships[i].reshape(mapsize))"
   ]
  },
  {
   "cell_type": "markdown",
   "metadata": {},
   "source": [
    "Not great! But maybe they're good? Let's look at the averages again."
   ]
  },
  {
   "cell_type": "code",
   "execution_count": 124,
   "metadata": {},
   "outputs": [
    {
     "name": "stderr",
     "output_type": "stream",
     "text": [
      "/g/data/v10/public/modules/dea-env/20200713/lib/python3.6/site-packages/ipykernel_launcher.py:1: RuntimeWarning: More than 20 figures have been opened. Figures created through the pyplot interface (`matplotlib.pyplot.figure`) are retained until explicitly closed and may consume too much memory. (To control this warning, see the rcParam `figure.max_open_warning`).\n",
      "  \"\"\"Entry point for launching an IPython kernel.\n"
     ]
    },
    {
     "data": {
      "application/vnd.jupyter.widget-view+json": {
       "model_id": "2cb25e29a340447aad61b01823082263",
       "version_major": 2,
       "version_minor": 0
      },
      "text/plain": [
       "Canvas(toolbar=Toolbar(toolitems=[('Home', 'Reset original view', 'home', 'home'), ('Back', 'Back to previous …"
      ]
     },
     "metadata": {},
     "output_type": "display_data"
    }
   ],
   "source": [
    "plt.figure()\n",
    "for cluster in range(8):\n",
    "    plt.subplot(4, 2, cluster + 1)\n",
    "    plt.plot(times[-365 * 5:], blurred_data[clusters == cluster].mean(axis=0), c='k')\n",
    "    if (clusters == cluster).any():\n",
    "        plt.plot(times[-365 * 5:], blurred_data[clusters == cluster][:100].T, alpha=0.01, c='b')\n",
    "    plt.title('Cluster {} (n = {})'.format(cluster, sum(clusters == cluster)))"
   ]
  },
  {
   "cell_type": "markdown",
   "metadata": {},
   "source": [
    "These are pretty meaningless. :("
   ]
  },
  {
   "cell_type": "code",
   "execution_count": null,
   "metadata": {},
   "outputs": [],
   "source": []
  }
 ],
 "metadata": {
  "kernelspec": {
   "display_name": "Python 3",
   "language": "python",
   "name": "python3"
  },
  "language_info": {
   "codemirror_mode": {
    "name": "ipython",
    "version": 3
   },
   "file_extension": ".py",
   "mimetype": "text/x-python",
   "name": "python",
   "nbconvert_exporter": "python",
   "pygments_lexer": "ipython3",
   "version": "3.6.10"
  }
 },
 "nbformat": 4,
 "nbformat_minor": 4
}
