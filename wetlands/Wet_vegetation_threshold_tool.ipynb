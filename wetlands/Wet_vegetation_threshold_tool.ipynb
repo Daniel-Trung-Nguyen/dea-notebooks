{
 "cells": [
  {
   "cell_type": "markdown",
   "metadata": {},
   "source": [
    "# Wet vegetation threshold tool\n",
    "\n",
    "This notebook implements a widget for helping fihd good thresholds for wet vegetation."
   ]
  },
  {
   "cell_type": "code",
   "execution_count": 6,
   "metadata": {},
   "outputs": [],
   "source": [
    "import ipywidgets\n",
    "import matplotlib.pyplot as plt\n",
    "import numpy as np\n",
    "import xarray\n",
    "from skimage.filters import threshold_otsu"
   ]
  },
  {
   "cell_type": "code",
   "execution_count": 11,
   "metadata": {},
   "outputs": [],
   "source": [
    "def get_tcw(tile_label):\n",
    "    tif_path_base = \"/g/data/r78/datacube_stats/TCW_stats/demo_tiles/output_qld_wetness/LS_TCW_PC_{}_1986_2020_summary.tif\"\n",
    "    tif_path = tif_path_base.format(tile_label.replace(\",\", \"_\"))\n",
    "    da = xarray.open_rasterio(tif_path)\n",
    "    return da\n",
    "\n",
    "def get_mrvbf(tile_label):\n",
    "    mrvbf_path_base = (\n",
    "        mrvbf_base_path\n",
    "    ) = \"/g/data/u46/wofs/confidence_albers/MrVBF/tiles/mrvbf_{}.nc\"\n",
    "    mrvbf_path = mrvbf_path_base.format(tile_label.replace(\",\", \"_\"))\n",
    "    da = xarray.open_dataset(mrvbf_path)\n",
    "    return da\n",
    "\n",
    "def get_tcg(tile_label):\n",
    "    tif_path_base = \"/g/data/r78/datacube_stats/TCW_stats/demo_tiles/output_qld_greenness/LS_TCG_PC_{}_1986_2020_summary.tif\"\n",
    "    tif_path = tif_path_base.format(tile_label.replace(\",\", \"_\"))\n",
    "    da = xarray.open_rasterio(tif_path)\n",
    "    return da"
   ]
  },
  {
   "cell_type": "code",
   "execution_count": 12,
   "metadata": {},
   "outputs": [
    {
     "name": "stdout",
     "output_type": "stream",
     "text": [
      "/g/data/r78/datacube_stats/TCW_stats/demo_tiles/output_qld_greenness/LS_TCG_PC_10_-15_1986_2020_summary.tif\n",
      "/g/data/r78/datacube_stats/TCW_stats/demo_tiles/output_qld_greenness/LS_TCG_PC_10_-17_1986_2020_summary.tif\n",
      "/g/data/r78/datacube_stats/TCW_stats/demo_tiles/output_qld_greenness/LS_TCG_PC_10_-19_1986_2020_summary.tif\n",
      "/g/data/r78/datacube_stats/TCW_stats/demo_tiles/output_qld_greenness/LS_TCG_PC_10_-22_1986_2020_summary.tif\n",
      "/g/data/r78/datacube_stats/TCW_stats/demo_tiles/output_qld_greenness/LS_TCG_PC_10_-32_1986_2020_summary.tif\n",
      "/g/data/r78/datacube_stats/TCW_stats/demo_tiles/output_qld_greenness/LS_TCG_PC_12_-16_1986_2020_summary.tif\n",
      "/g/data/r78/datacube_stats/TCW_stats/demo_tiles/output_qld_greenness/LS_TCG_PC_12_-29_1986_2020_summary.tif\n",
      "/g/data/r78/datacube_stats/TCW_stats/demo_tiles/output_qld_greenness/LS_TCG_PC_12_-32_1986_2020_summary.tif\n",
      "/g/data/r78/datacube_stats/TCW_stats/demo_tiles/output_qld_greenness/LS_TCG_PC_13_-27_1986_2020_summary.tif\n",
      "/g/data/r78/datacube_stats/TCW_stats/demo_tiles/output_qld_greenness/LS_TCG_PC_13_-30_1986_2020_summary.tif\n",
      "/g/data/r78/datacube_stats/TCW_stats/demo_tiles/output_qld_greenness/LS_TCG_PC_14_-21_1986_2020_summary.tif\n",
      "/g/data/r78/datacube_stats/TCW_stats/demo_tiles/output_qld_greenness/LS_TCG_PC_14_-25_1986_2020_summary.tif\n",
      "/g/data/r78/datacube_stats/TCW_stats/demo_tiles/output_qld_greenness/LS_TCG_PC_15_-23_1986_2020_summary.tif\n",
      "/g/data/r78/datacube_stats/TCW_stats/demo_tiles/output_qld_greenness/LS_TCG_PC_16_-27_1986_2020_summary.tif\n",
      "/g/data/r78/datacube_stats/TCW_stats/demo_tiles/output_qld_greenness/LS_TCG_PC_16_-29_1986_2020_summary.tif\n",
      "/g/data/r78/datacube_stats/TCW_stats/demo_tiles/output_qld_greenness/LS_TCG_PC_17_-25_1986_2020_summary.tif\n",
      "/g/data/r78/datacube_stats/TCW_stats/demo_tiles/output_qld_greenness/LS_TCG_PC_18_-31_1986_2020_summary.tif\n",
      "/g/data/r78/datacube_stats/TCW_stats/demo_tiles/output_qld_greenness/LS_TCG_PC_19_-29_1986_2020_summary.tif\n",
      "/g/data/r78/datacube_stats/TCW_stats/demo_tiles/output_qld_greenness/LS_TCG_PC_19_-32_1986_2020_summary.tif\n",
      "/g/data/r78/datacube_stats/TCW_stats/demo_tiles/output_qld_greenness/LS_TCG_PC_20_-30_1986_2020_summary.tif\n",
      "/g/data/r78/datacube_stats/TCW_stats/demo_tiles/output_qld_greenness/LS_TCG_PC_7_-23_1986_2020_summary.tif\n",
      "/g/data/r78/datacube_stats/TCW_stats/demo_tiles/output_qld_greenness/LS_TCG_PC_7_-28_1986_2020_summary.tif\n",
      "/g/data/r78/datacube_stats/TCW_stats/demo_tiles/output_qld_greenness/LS_TCG_PC_8_-20_1986_2020_summary.tif\n",
      "/g/data/r78/datacube_stats/TCW_stats/demo_tiles/output_qld_greenness/LS_TCG_PC_8_-28_1986_2020_summary.tif\n",
      "/g/data/r78/datacube_stats/TCW_stats/demo_tiles/output_qld_greenness/LS_TCG_PC_9_-31_1986_2020_summary.tif\n"
     ]
    },
    {
     "name": "stderr",
     "output_type": "stream",
     "text": [
      "Warning: dea-env/20200713 exists in the python env (/g/data/v10/public/modules/otps/0.1/shallow_water/src/python:/home/547/ma6611/.digitalearthau/dea-env/20200713/local/lib/python3.6/site-packages:/home/547/ma6611/.digitalearthau/dea-env/20200713/local/lib/python3.6/site-packages:/g/data/v10/public/modules/dea/20200819/lib/python3.6/site-packages/:/g/data/v10/public/modules/dea-env/20200713/share/qgis/python)\n",
      "Unload all python modules, if you experience any issues.\n",
      "Warning: dea/20200819 exists in the python env (/g/data/v10/public/modules/otps/0.1/shallow_water/src/python:/home/547/ma6611/.digitalearthau/dea-env/20200713/local/lib/python3.6/site-packages:/home/547/ma6611/.digitalearthau/dea-env/20200713/local/lib/python3.6/site-packages:/g/data/v10/public/modules/dea/20200819/lib/python3.6/site-packages/:/g/data/v10/public/modules/dea-env/20200713/share/qgis/python)\n"
     ]
    }
   ],
   "source": [
    "%%bash\n",
    "ls /g/data/r78/datacube_stats/TCW_stats/demo_tiles/output_qld_greenness/*.tif"
   ]
  },
  {
   "cell_type": "code",
   "execution_count": 33,
   "metadata": {},
   "outputs": [],
   "source": [
    "%matplotlib widget\n",
    "def show_widget(tile_label, subsample=5, continuous_update=True):\n",
    "    tcw = get_tcw(tile_label).isel(band=3)[::subsample, ::subsample]\n",
    "    tcg = get_tcg(tile_label).isel(band=1)[::subsample, ::subsample]\n",
    "    vbf = get_mrvbf(tile_label).isel(time=0).band1[::subsample, ::subsample]\n",
    "    \n",
    "    tcw_mask = tcw > -600\n",
    "    otsu_threshold = threshold_otsu(tcg.values[tcw_mask])\n",
    "    initial_threshold = np.percentile(tcg, 95)\n",
    "    tcg_mask = tcg < initial_threshold\n",
    "    \n",
    "    threshold_low = initial_threshold\n",
    "    threshold_high = initial_threshold\n",
    "    \n",
    "    output = ipywidgets.Output()\n",
    "    with output:\n",
    "        fig = plt.figure(figsize=(11, 6))\n",
    "        gs = fig.add_gridspec(ncols=2, nrows=2, width_ratios=[1, 1],\n",
    "                              height_ratios=[1, 0.25], hspace=0.2, bottom=0.03, wspace=0.2,\n",
    "                              top=0.95)\n",
    "        ax = fig.add_subplot(gs[0, 0])\n",
    "        im = (tcw_mask & tcg_mask).plot.imshow(interpolation='bilinear', ax=ax)\n",
    "        hist_ax = fig.add_subplot(gs[1, :])\n",
    "        hist = hist_ax.hist(tcg.values.ravel(), bins=100)\n",
    "        \n",
    "        hist_line_all = hist_ax.axvline(initial_threshold, c='red')\n",
    "        hist_line_low = hist_ax.axvline(initial_threshold, c='magenta', alpha=0)\n",
    "        hist_line_high = hist_ax.axvline(initial_threshold, c='purple', alpha=0)\n",
    "        otsu_line = hist_ax.axvline(otsu_threshold, c='cyan')\n",
    "        hist_ax.text(otsu_threshold, 5000, 'Otsu')\n",
    "        \n",
    "        vbf_ax = fig.add_subplot(gs[0, 1])\n",
    "        vbf.plot.imshow(ax=vbf_ax, interpolation='gaussian')\n",
    "    \n",
    "    def slider_update_all(change):\n",
    "        threshold = change['new']['value']\n",
    "        thresholded = tcg < threshold\n",
    "        nonlocal threshold_high, threshold_low\n",
    "        threshold_high = threshold_low = threshold\n",
    "        \n",
    "        # Change the slider values without triggering the change event.\n",
    "        slider_high.unobserve(slider_update_high)\n",
    "        slider_low.unobserve(slider_update_low)\n",
    "        slider_high.value = threshold_high\n",
    "        slider_low.value = threshold_low\n",
    "        slider_high.observe(slider_update_high)\n",
    "        slider_low.observe(slider_update_low)\n",
    "        \n",
    "        with output:\n",
    "            im.set_data(tcw_mask & thresholded)\n",
    "            hist_line_all.set_alpha(1)\n",
    "            hist_line_all.set_xdata([threshold, threshold])\n",
    "            # Hide the high/low lines.\n",
    "            hist_line_high.set_alpha(0)\n",
    "            hist_line_low.set_alpha(0)\n",
    "            im.autoscale()\n",
    "            fig.canvas.draw()\n",
    "    \n",
    "    def slider_update_low(change):\n",
    "        threshold = change['new']['value']\n",
    "        nonlocal threshold_low\n",
    "        threshold_low = threshold\n",
    "        threshold_grid = np.where(vbf >= 3, threshold_high, threshold_low)\n",
    "        thresholded = tcg < threshold_grid\n",
    "        with output:\n",
    "            im.set_data(tcw_mask & thresholded)\n",
    "            # Hide the all line.\n",
    "            hist_line_all.set_alpha(0)\n",
    "            # Show the high/low lines.\n",
    "            hist_line_high.set_alpha(1)\n",
    "            hist_line_high.set_xdata([threshold_high, threshold_high])\n",
    "            hist_line_low.set_alpha(1)\n",
    "            hist_line_low.set_xdata([threshold_low, threshold_low])\n",
    "            im.autoscale()\n",
    "            fig.canvas.draw()\n",
    "    \n",
    "    def slider_update_high(change):\n",
    "        threshold = change['new']['value']\n",
    "        nonlocal threshold_high\n",
    "        threshold_high = threshold\n",
    "        threshold_grid = np.where(vbf >= 3, threshold_high, threshold_low)\n",
    "        thresholded = tcg < threshold_grid\n",
    "        with output:\n",
    "            im.set_data(tcw_mask & thresholded)\n",
    "            # Hide the all line.\n",
    "            hist_line_all.set_alpha(0)\n",
    "            # Show the high/low lines.\n",
    "            hist_line_high.set_alpha(1)\n",
    "            hist_line_high.set_xdata([threshold_high, threshold_high])\n",
    "            hist_line_low.set_alpha(1)\n",
    "            hist_line_low.set_xdata([threshold_low, threshold_low])\n",
    "            im.autoscale()\n",
    "            fig.canvas.draw()\n",
    "\n",
    "    slider_props = dict(\n",
    "        value=initial_threshold,\n",
    "        min=tcg.min(),\n",
    "        max=tcg.max(),\n",
    "        step=10,\n",
    "        disabled=False,\n",
    "        continuous_update=continuous_update,\n",
    "        orientation='horizontal',\n",
    "        readout=True,\n",
    "        style={'description_width': 'initial'},\n",
    "        readout_format='.0f')\n",
    "    slider_all = ipywidgets.FloatSlider(\n",
    "        description='Max TCG50 (all):', \n",
    "        layout=ipywidgets.Layout(width='90%', margin='0 0 0 0'), **slider_props)\n",
    "    slider_all.observe(slider_update_all)\n",
    "    slider_low = ipywidgets.FloatSlider(\n",
    "        description='Max TCG50 (MrVBF < 3):',\n",
    "        layout=ipywidgets.Layout(width='100%', margin='0 0 0 0'),\n",
    "        **slider_props)\n",
    "    slider_low.observe(slider_update_low)\n",
    "    slider_high = ipywidgets.FloatSlider(\n",
    "        description='Max TCG50 (MrVBF >= 3):',\n",
    "        layout=ipywidgets.Layout(width='100%', margin='0 0 0 0'),\n",
    "        **slider_props)\n",
    "    slider_high.observe(slider_update_high)\n",
    "\n",
    "    return ipywidgets.VBox([\n",
    "        output, slider_all,\n",
    "        ipywidgets.HBox([slider_low, slider_high], layout=ipywidgets.Layout(width='90%', margin='0 0 0 0'))], layout=ipywidgets.Layout(margin='0 0 0 0'))"
   ]
  },
  {
   "cell_type": "code",
   "execution_count": 34,
   "metadata": {},
   "outputs": [
    {
     "data": {
      "application/vnd.jupyter.widget-view+json": {
       "model_id": "9f1211c9b2c64efe98b528a43bc84ce3",
       "version_major": 2,
       "version_minor": 0
      },
      "text/plain": [
       "VBox(children=(Output(), FloatSlider(value=1989.0, description='Max TCG50 (all):', layout=Layout(margin='0 0 0…"
      ]
     },
     "metadata": {},
     "output_type": "display_data"
    }
   ],
   "source": [
    "show_widget('14,-21', subsample=5, continuous_update=True)"
   ]
  },
  {
   "cell_type": "code",
   "execution_count": null,
   "metadata": {},
   "outputs": [],
   "source": []
  }
 ],
 "metadata": {
  "kernelspec": {
   "display_name": "Python 3",
   "language": "python",
   "name": "python3"
  },
  "language_info": {
   "codemirror_mode": {
    "name": "ipython",
    "version": 3
   },
   "file_extension": ".py",
   "mimetype": "text/x-python",
   "name": "python",
   "nbconvert_exporter": "python",
   "pygments_lexer": "ipython3",
   "version": "3.6.10"
  }
 },
 "nbformat": 4,
 "nbformat_minor": 4
}
