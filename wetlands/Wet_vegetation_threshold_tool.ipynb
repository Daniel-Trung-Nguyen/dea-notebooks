{
 "cells": [
  {
   "cell_type": "markdown",
   "metadata": {},
   "source": [
    "# Wet vegetation threshold tool\n",
    "\n",
    "This notebook implements a widget for helping fihd good thresholds for wet vegetation."
   ]
  },
  {
   "cell_type": "code",
   "execution_count": 1,
   "metadata": {},
   "outputs": [],
   "source": [
    "import asyncio\n",
    "from time import time\n",
    "\n",
    "import ipywidgets\n",
    "import matplotlib.pyplot as plt\n",
    "import numpy as np\n",
    "import xarray\n",
    "from skimage.filters import threshold_otsu"
   ]
  },
  {
   "cell_type": "code",
   "execution_count": 2,
   "metadata": {},
   "outputs": [],
   "source": [
    "def get_tcw(tile_label):\n",
    "    tif_path_base = \"/g/data/r78/datacube_stats/TCW_stats/demo_tiles/output_qld_wetness/LS_TCW_PC_{}_1986_2020_summary.tif\"\n",
    "    tif_path = tif_path_base.format(tile_label.replace(\",\", \"_\"))\n",
    "    da = xarray.open_rasterio(tif_path)\n",
    "    return da\n",
    "\n",
    "def get_mrvbf(tile_label):\n",
    "    mrvbf_path_base = (\n",
    "        mrvbf_base_path\n",
    "    ) = \"/g/data/u46/wofs/confidence_albers/MrVBF/tiles/mrvbf_{}.nc\"\n",
    "    mrvbf_path = mrvbf_path_base.format(tile_label.replace(\",\", \"_\"))\n",
    "    da = xarray.open_dataset(mrvbf_path)\n",
    "    return da\n",
    "\n",
    "def get_tcg(tile_label):\n",
    "    tif_path_base = \"/g/data/r78/datacube_stats/TCW_stats/demo_tiles/output_qld_greenness/LS_TCG_PC_{}_1986_2020_summary.tif\"\n",
    "    tif_path = tif_path_base.format(tile_label.replace(\",\", \"_\"))\n",
    "    da = xarray.open_rasterio(tif_path)\n",
    "    return da"
   ]
  },
  {
   "cell_type": "code",
   "execution_count": 3,
   "metadata": {},
   "outputs": [
    {
     "name": "stdout",
     "output_type": "stream",
     "text": [
      "/g/data/r78/datacube_stats/TCW_stats/demo_tiles/output_qld_greenness/LS_TCG_PC_10_-15_1986_2020_summary.tif\n",
      "/g/data/r78/datacube_stats/TCW_stats/demo_tiles/output_qld_greenness/LS_TCG_PC_10_-17_1986_2020_summary.tif\n",
      "/g/data/r78/datacube_stats/TCW_stats/demo_tiles/output_qld_greenness/LS_TCG_PC_10_-19_1986_2020_summary.tif\n",
      "/g/data/r78/datacube_stats/TCW_stats/demo_tiles/output_qld_greenness/LS_TCG_PC_10_-22_1986_2020_summary.tif\n",
      "/g/data/r78/datacube_stats/TCW_stats/demo_tiles/output_qld_greenness/LS_TCG_PC_10_-32_1986_2020_summary.tif\n",
      "/g/data/r78/datacube_stats/TCW_stats/demo_tiles/output_qld_greenness/LS_TCG_PC_12_-16_1986_2020_summary.tif\n",
      "/g/data/r78/datacube_stats/TCW_stats/demo_tiles/output_qld_greenness/LS_TCG_PC_12_-29_1986_2020_summary.tif\n",
      "/g/data/r78/datacube_stats/TCW_stats/demo_tiles/output_qld_greenness/LS_TCG_PC_12_-32_1986_2020_summary.tif\n",
      "/g/data/r78/datacube_stats/TCW_stats/demo_tiles/output_qld_greenness/LS_TCG_PC_13_-27_1986_2020_summary.tif\n",
      "/g/data/r78/datacube_stats/TCW_stats/demo_tiles/output_qld_greenness/LS_TCG_PC_13_-30_1986_2020_summary.tif\n",
      "/g/data/r78/datacube_stats/TCW_stats/demo_tiles/output_qld_greenness/LS_TCG_PC_14_-21_1986_2020_summary.tif\n",
      "/g/data/r78/datacube_stats/TCW_stats/demo_tiles/output_qld_greenness/LS_TCG_PC_14_-25_1986_2020_summary.tif\n",
      "/g/data/r78/datacube_stats/TCW_stats/demo_tiles/output_qld_greenness/LS_TCG_PC_15_-23_1986_2020_summary.tif\n",
      "/g/data/r78/datacube_stats/TCW_stats/demo_tiles/output_qld_greenness/LS_TCG_PC_16_-27_1986_2020_summary.tif\n",
      "/g/data/r78/datacube_stats/TCW_stats/demo_tiles/output_qld_greenness/LS_TCG_PC_16_-29_1986_2020_summary.tif\n",
      "/g/data/r78/datacube_stats/TCW_stats/demo_tiles/output_qld_greenness/LS_TCG_PC_17_-25_1986_2020_summary.tif\n",
      "/g/data/r78/datacube_stats/TCW_stats/demo_tiles/output_qld_greenness/LS_TCG_PC_18_-31_1986_2020_summary.tif\n",
      "/g/data/r78/datacube_stats/TCW_stats/demo_tiles/output_qld_greenness/LS_TCG_PC_19_-29_1986_2020_summary.tif\n",
      "/g/data/r78/datacube_stats/TCW_stats/demo_tiles/output_qld_greenness/LS_TCG_PC_19_-32_1986_2020_summary.tif\n",
      "/g/data/r78/datacube_stats/TCW_stats/demo_tiles/output_qld_greenness/LS_TCG_PC_20_-30_1986_2020_summary.tif\n",
      "/g/data/r78/datacube_stats/TCW_stats/demo_tiles/output_qld_greenness/LS_TCG_PC_7_-23_1986_2020_summary.tif\n",
      "/g/data/r78/datacube_stats/TCW_stats/demo_tiles/output_qld_greenness/LS_TCG_PC_7_-28_1986_2020_summary.tif\n",
      "/g/data/r78/datacube_stats/TCW_stats/demo_tiles/output_qld_greenness/LS_TCG_PC_8_-20_1986_2020_summary.tif\n",
      "/g/data/r78/datacube_stats/TCW_stats/demo_tiles/output_qld_greenness/LS_TCG_PC_8_-28_1986_2020_summary.tif\n",
      "/g/data/r78/datacube_stats/TCW_stats/demo_tiles/output_qld_greenness/LS_TCG_PC_9_-31_1986_2020_summary.tif\n"
     ]
    },
    {
     "name": "stderr",
     "output_type": "stream",
     "text": [
      "Warning: dea-env/20200713 exists in the python env (/g/data/v10/public/modules/otps/0.1/shallow_water/src/python:/home/547/ma6611/.digitalearthau/dea-env/20200713/local/lib/python3.6/site-packages:/home/547/ma6611/.digitalearthau/dea-env/20200713/local/lib/python3.6/site-packages:/g/data/v10/public/modules/dea/20200819/lib/python3.6/site-packages/:/g/data/v10/public/modules/dea-env/20200713/share/qgis/python)\n",
      "Unload all python modules, if you experience any issues.\n",
      "Warning: dea/20200819 exists in the python env (/g/data/v10/public/modules/otps/0.1/shallow_water/src/python:/home/547/ma6611/.digitalearthau/dea-env/20200713/local/lib/python3.6/site-packages:/home/547/ma6611/.digitalearthau/dea-env/20200713/local/lib/python3.6/site-packages:/g/data/v10/public/modules/dea/20200819/lib/python3.6/site-packages/:/g/data/v10/public/modules/dea-env/20200713/share/qgis/python)\n"
     ]
    }
   ],
   "source": [
    "%%bash\n",
    "ls /g/data/r78/datacube_stats/TCW_stats/demo_tiles/output_qld_greenness/*.tif"
   ]
  },
  {
   "cell_type": "code",
   "execution_count": 22,
   "metadata": {},
   "outputs": [],
   "source": [
    "%matplotlib widget\n",
    "def show_widget(tile_label, subsample=5, continuous_update=True, mrvbf=False):\n",
    "    tcw = get_tcw(tile_label).isel(band=3)[::subsample, ::subsample]\n",
    "    tcg = get_tcg(tile_label).isel(band=1)[::subsample, ::subsample]\n",
    "    \n",
    "    initial_tcw_threshold = -600\n",
    "    tcw_mask = tcw > initial_tcw_threshold\n",
    "    initial_tcg_threshold = np.percentile(tcg, 95)\n",
    "    tcg_mask = tcg < initial_tcg_threshold\n",
    "    \n",
    "    output = ipywidgets.Output()\n",
    "    with output:\n",
    "        fig = plt.figure(figsize=(6, 6))\n",
    "        gs = fig.add_gridspec(ncols=2, nrows=2, width_ratios=[1, 1],\n",
    "                              height_ratios=[1, 0.25], hspace=0.3, bottom=0.03, wspace=0.2,\n",
    "                              top=0.95)\n",
    "        ax = fig.add_subplot(gs[0, :])\n",
    "        im = (tcw_mask & tcg_mask).plot.imshow(interpolation='bilinear', ax=ax)\n",
    "\n",
    "        hist_ax_tcg = fig.add_subplot(gs[1, 0])\n",
    "        hist_ax_tcg.set_title('TCG50')\n",
    "        hist_tcg = hist_ax_tcg.hist(tcg.values.ravel(), bins=100, color='lightgray')\n",
    "        hist_ax_tcw = fig.add_subplot(gs[1, 1])\n",
    "        hist_ax_tcw.set_title('TCW95')\n",
    "        hist_tcw = hist_ax_tcw.hist(tcw.values.ravel(), bins=100, color='lightgray')\n",
    "        \n",
    "        hist_line_tcg = hist_ax_tcg.axvline(initial_tcg_threshold, c='green')\n",
    "        hist_line_tcw = hist_ax_tcw.axvline(initial_tcw_threshold, c='blue')\n",
    "\n",
    "    def update_masks_and_draw():\n",
    "        im.set_data(tcw_mask & tcg_mask)\n",
    "        im.autoscale()\n",
    "        fig.canvas.draw()\n",
    "        \n",
    "    def slider_update_green(change):\n",
    "        with output:  # for errors\n",
    "            threshold = change['new']\n",
    "            if not isinstance(threshold, float):\n",
    "                return\n",
    "\n",
    "            nonlocal tcg_mask\n",
    "            tcg_mask = tcg < threshold\n",
    "            hist_line_tcg.set_xdata([threshold, threshold])\n",
    "\n",
    "            update_masks_and_draw()\n",
    "\n",
    "    def slider_update_wet(change):\n",
    "        with output:  # for errors\n",
    "            threshold = change['new']\n",
    "            if not isinstance(threshold, float):\n",
    "                return\n",
    "\n",
    "            nonlocal tcw_mask\n",
    "            tcw_mask = tcw > threshold\n",
    "            hist_line_tcw.set_xdata([threshold, threshold])\n",
    "\n",
    "            update_masks_and_draw()\n",
    "\n",
    "    slider_props = dict(\n",
    "        step=10,\n",
    "        disabled=False,\n",
    "        continuous_update=continuous_update,\n",
    "        orientation='horizontal',\n",
    "        readout=True,\n",
    "        layout=ipywidgets.Layout(width='90%', margin='0 0 0 0'),\n",
    "        style={'description_width': 'initial'},\n",
    "        readout_format='.0f')\n",
    "    slider_tcg = ipywidgets.FloatSlider(\n",
    "        min=tcg.min(),\n",
    "        max=tcg.max(),\n",
    "        value=initial_tcg_threshold,\n",
    "        description='Max TCG50:',\n",
    "        **slider_props)\n",
    "    slider_tcg.observe(slider_update_green, names='value')\n",
    "    slider_tcw = ipywidgets.FloatSlider(\n",
    "        min=tcw.min(),\n",
    "        max=tcw.max(),\n",
    "        value=initial_tcw_threshold,\n",
    "        description='Max TCW95:',\n",
    "        **slider_props)\n",
    "    slider_tcw.observe(slider_update_wet, names='value')\n",
    "    \n",
    "    return ipywidgets.VBox([output, slider_tcg, slider_tcw])"
   ]
  },
  {
   "cell_type": "code",
   "execution_count": 23,
   "metadata": {},
   "outputs": [
    {
     "data": {
      "application/vnd.jupyter.widget-view+json": {
       "model_id": "40d246c8fe1041c79d7392307eda26c3",
       "version_major": 2,
       "version_minor": 0
      },
      "text/plain": [
       "VBox(children=(Output(), FloatSlider(value=1989.0, description='Max TCG50:', layout=Layout(margin='0 0 0 0', w…"
      ]
     },
     "metadata": {},
     "output_type": "display_data"
    }
   ],
   "source": [
    "show_widget('14,-21', subsample=5, continuous_update=True)"
   ]
  },
  {
   "cell_type": "code",
   "execution_count": null,
   "metadata": {},
   "outputs": [],
   "source": []
  },
  {
   "cell_type": "code",
   "execution_count": null,
   "metadata": {},
   "outputs": [],
   "source": []
  }
 ],
 "metadata": {
  "kernelspec": {
   "display_name": "Python 3",
   "language": "python",
   "name": "python3"
  },
  "language_info": {
   "codemirror_mode": {
    "name": "ipython",
    "version": 3
   },
   "file_extension": ".py",
   "mimetype": "text/x-python",
   "name": "python",
   "nbconvert_exporter": "python",
   "pygments_lexer": "ipython3",
   "version": "3.6.10"
  }
 },
 "nbformat": 4,
 "nbformat_minor": 4
}
