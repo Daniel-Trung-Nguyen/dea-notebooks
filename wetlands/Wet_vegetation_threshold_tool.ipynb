{
 "cells": [
  {
   "cell_type": "markdown",
   "metadata": {},
   "source": [
    "# Wet vegetation threshold tool\n",
    "\n",
    "This notebook implements a widget for helping fihd good thresholds for wet vegetation."
   ]
  },
  {
   "cell_type": "code",
   "execution_count": 20,
   "metadata": {},
   "outputs": [],
   "source": [
    "import ipywidgets\n",
    "import matplotlib.pyplot as plt\n",
    "import numpy as np\n",
    "import xarray"
   ]
  },
  {
   "cell_type": "code",
   "execution_count": 11,
   "metadata": {},
   "outputs": [],
   "source": [
    "\n",
    "\n",
    "def get_mrvbf(tile_label):\n",
    "    mrvbf_path_base = (\n",
    "        mrvbf_base_path\n",
    "    ) = \"/g/data/u46/wofs/confidence_albers/MrVBF/tiles/mrvbf_{}.nc\"\n",
    "    mrvbf_path = mrvbf_path_base.format(tile_label.replace(\",\", \"_\"))\n",
    "    da = xarray.open_dataset(mrvbf_path)\n",
    "    return da\n",
    "\n",
    "def get_tcg(tile_label):\n",
    "    tif_path_base = \"/g/data/r78/datacube_stats/TCW_stats/demo_tiles/output_qld_greenness/LS_TCG_PC_{}_1986_2020_summary.tif\"\n",
    "    tif_path = tif_path_base.format(tile_label.replace(\",\", \"_\"))\n",
    "    da = xarray.open_rasterio(tif_path)\n",
    "    return da"
   ]
  },
  {
   "cell_type": "code",
   "execution_count": 12,
   "metadata": {},
   "outputs": [
    {
     "name": "stdout",
     "output_type": "stream",
     "text": [
      "/g/data/r78/datacube_stats/TCW_stats/demo_tiles/output_qld_greenness/LS_TCG_PC_10_-15_1986_2020_summary.tif\n",
      "/g/data/r78/datacube_stats/TCW_stats/demo_tiles/output_qld_greenness/LS_TCG_PC_10_-17_1986_2020_summary.tif\n",
      "/g/data/r78/datacube_stats/TCW_stats/demo_tiles/output_qld_greenness/LS_TCG_PC_10_-19_1986_2020_summary.tif\n",
      "/g/data/r78/datacube_stats/TCW_stats/demo_tiles/output_qld_greenness/LS_TCG_PC_10_-22_1986_2020_summary.tif\n",
      "/g/data/r78/datacube_stats/TCW_stats/demo_tiles/output_qld_greenness/LS_TCG_PC_10_-32_1986_2020_summary.tif\n",
      "/g/data/r78/datacube_stats/TCW_stats/demo_tiles/output_qld_greenness/LS_TCG_PC_12_-16_1986_2020_summary.tif\n",
      "/g/data/r78/datacube_stats/TCW_stats/demo_tiles/output_qld_greenness/LS_TCG_PC_12_-29_1986_2020_summary.tif\n",
      "/g/data/r78/datacube_stats/TCW_stats/demo_tiles/output_qld_greenness/LS_TCG_PC_12_-32_1986_2020_summary.tif\n",
      "/g/data/r78/datacube_stats/TCW_stats/demo_tiles/output_qld_greenness/LS_TCG_PC_13_-27_1986_2020_summary.tif\n",
      "/g/data/r78/datacube_stats/TCW_stats/demo_tiles/output_qld_greenness/LS_TCG_PC_13_-30_1986_2020_summary.tif\n",
      "/g/data/r78/datacube_stats/TCW_stats/demo_tiles/output_qld_greenness/LS_TCG_PC_14_-21_1986_2020_summary.tif\n",
      "/g/data/r78/datacube_stats/TCW_stats/demo_tiles/output_qld_greenness/LS_TCG_PC_14_-25_1986_2020_summary.tif\n",
      "/g/data/r78/datacube_stats/TCW_stats/demo_tiles/output_qld_greenness/LS_TCG_PC_15_-23_1986_2020_summary.tif\n",
      "/g/data/r78/datacube_stats/TCW_stats/demo_tiles/output_qld_greenness/LS_TCG_PC_16_-27_1986_2020_summary.tif\n",
      "/g/data/r78/datacube_stats/TCW_stats/demo_tiles/output_qld_greenness/LS_TCG_PC_16_-29_1986_2020_summary.tif\n",
      "/g/data/r78/datacube_stats/TCW_stats/demo_tiles/output_qld_greenness/LS_TCG_PC_17_-25_1986_2020_summary.tif\n",
      "/g/data/r78/datacube_stats/TCW_stats/demo_tiles/output_qld_greenness/LS_TCG_PC_18_-31_1986_2020_summary.tif\n",
      "/g/data/r78/datacube_stats/TCW_stats/demo_tiles/output_qld_greenness/LS_TCG_PC_19_-29_1986_2020_summary.tif\n",
      "/g/data/r78/datacube_stats/TCW_stats/demo_tiles/output_qld_greenness/LS_TCG_PC_19_-32_1986_2020_summary.tif\n",
      "/g/data/r78/datacube_stats/TCW_stats/demo_tiles/output_qld_greenness/LS_TCG_PC_20_-30_1986_2020_summary.tif\n",
      "/g/data/r78/datacube_stats/TCW_stats/demo_tiles/output_qld_greenness/LS_TCG_PC_7_-23_1986_2020_summary.tif\n",
      "/g/data/r78/datacube_stats/TCW_stats/demo_tiles/output_qld_greenness/LS_TCG_PC_7_-28_1986_2020_summary.tif\n",
      "/g/data/r78/datacube_stats/TCW_stats/demo_tiles/output_qld_greenness/LS_TCG_PC_8_-20_1986_2020_summary.tif\n",
      "/g/data/r78/datacube_stats/TCW_stats/demo_tiles/output_qld_greenness/LS_TCG_PC_8_-28_1986_2020_summary.tif\n",
      "/g/data/r78/datacube_stats/TCW_stats/demo_tiles/output_qld_greenness/LS_TCG_PC_9_-31_1986_2020_summary.tif\n"
     ]
    },
    {
     "name": "stderr",
     "output_type": "stream",
     "text": [
      "Warning: dea-env/20200713 exists in the python env (/g/data/v10/public/modules/otps/0.1/shallow_water/src/python:/home/547/ma6611/.digitalearthau/dea-env/20200713/local/lib/python3.6/site-packages:/home/547/ma6611/.digitalearthau/dea-env/20200713/local/lib/python3.6/site-packages:/g/data/v10/public/modules/dea/20200819/lib/python3.6/site-packages/:/g/data/v10/public/modules/dea-env/20200713/share/qgis/python)\n",
      "Unload all python modules, if you experience any issues.\n",
      "Warning: dea/20200819 exists in the python env (/g/data/v10/public/modules/otps/0.1/shallow_water/src/python:/home/547/ma6611/.digitalearthau/dea-env/20200713/local/lib/python3.6/site-packages:/home/547/ma6611/.digitalearthau/dea-env/20200713/local/lib/python3.6/site-packages:/g/data/v10/public/modules/dea/20200819/lib/python3.6/site-packages/:/g/data/v10/public/modules/dea-env/20200713/share/qgis/python)\n"
     ]
    }
   ],
   "source": [
    "%%bash\n",
    "ls /g/data/r78/datacube_stats/TCW_stats/demo_tiles/output_qld_greenness/*.tif"
   ]
  },
  {
   "cell_type": "code",
   "execution_count": 175,
   "metadata": {},
   "outputs": [],
   "source": [
    "%matplotlib widget\n",
    "def show_widget(tile_label):\n",
    "    tcw = get_tcw(tile_label).isel(band=3)[::5, ::5]\n",
    "    tcg = get_tcg(tile_label).isel(band=1)[::5, ::5]\n",
    "    \n",
    "    initial_threshold = np.percentile(tcg, 95)\n",
    "    tcw_mask = tcw > -600\n",
    "    tcg_mask = tcg < initial_threshold\n",
    "    \n",
    "    output = ipywidgets.Output()\n",
    "    with output:\n",
    "        fig = plt.figure(figsize=(6, 7))\n",
    "        gs = fig.add_gridspec(ncols=1, nrows=2, width_ratios=[1],\n",
    "                              height_ratios=[1, 0.25], hspace=0.2, bottom=0.03,\n",
    "                              top=0.95)\n",
    "        ax = fig.add_subplot(gs[0, 0])\n",
    "        im = (tcw_mask & tcg_mask).plot.imshow(interpolation='bilinear')\n",
    "        hist_ax = fig.add_subplot(gs[1, 0])\n",
    "        hist = hist_ax.hist(tcg.values.ravel(), bins=100)\n",
    "        hist_line = hist_ax.axvline(initial_threshold, c='red')\n",
    "    \n",
    "    def slider_update(change):\n",
    "        threshold = change['new']['value']\n",
    "        thresholded = tcg < threshold\n",
    "        with output:\n",
    "            im.set_data(tcw_mask & thresholded)\n",
    "            hist_line.set_xdata([threshold, threshold])\n",
    "            im.autoscale()\n",
    "            fig.canvas.draw()\n",
    "\n",
    "    slider = ipywidgets.FloatSlider(\n",
    "        value=initial_threshold,\n",
    "        min=tcg.min(),\n",
    "        max=tcg.max(),\n",
    "        step=10,\n",
    "        description='Max TCG50:',\n",
    "        disabled=False,\n",
    "        continuous_update=True,\n",
    "        orientation='horizontal',\n",
    "        readout=True,\n",
    "        readout_format='.2f',\n",
    "        layout=ipywidgets.Layout(width='50%', margin='0 0 0 0')\n",
    "    )\n",
    "    slider.observe(slider_update)\n",
    "\n",
    "    return ipywidgets.VBox([output, slider], layout=ipywidgets.Layout(margin='0 0 0 0'))"
   ]
  },
  {
   "cell_type": "code",
   "execution_count": 176,
   "metadata": {},
   "outputs": [
    {
     "data": {
      "application/vnd.jupyter.widget-view+json": {
       "model_id": "da014d39232847d295336a6ca9350250",
       "version_major": 2,
       "version_minor": 0
      },
      "text/plain": [
       "VBox(children=(Output(), FloatSlider(value=467.0, description='Max TCG50:', layout=Layout(margin='0 0 0 0', wi…"
      ]
     },
     "metadata": {},
     "output_type": "display_data"
    }
   ],
   "source": [
    "show_widget('9,-31')"
   ]
  },
  {
   "cell_type": "code",
   "execution_count": null,
   "metadata": {},
   "outputs": [],
   "source": []
  }
 ],
 "metadata": {
  "kernelspec": {
   "display_name": "Python 3",
   "language": "python",
   "name": "python3"
  },
  "language_info": {
   "codemirror_mode": {
    "name": "ipython",
    "version": 3
   },
   "file_extension": ".py",
   "mimetype": "text/x-python",
   "name": "python",
   "nbconvert_exporter": "python",
   "pygments_lexer": "ipython3",
   "version": "3.6.10"
  }
 },
 "nbformat": 4,
 "nbformat_minor": 4
}
