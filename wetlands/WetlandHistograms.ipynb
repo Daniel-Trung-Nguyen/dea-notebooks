{
 "cells": [
  {
   "cell_type": "markdown",
   "metadata": {},
   "source": [
    "# Wetland histograms\n",
    "\n",
    "**Background**\n",
    "\n",
    "**What does this notebook do?** This notebook generates histograms of raster properties for wetland and non-wetland regions in Queensland.\n",
    "\n",
    "**Date**: Aug 2020.\n",
    "\n",
    "**Author**: Matthew Alger"
   ]
  },
  {
   "cell_type": "markdown",
   "metadata": {},
   "source": [
    "## Setup\n",
    "\n",
    "Set up the notebook and load the data."
   ]
  },
  {
   "cell_type": "code",
   "execution_count": 10,
   "metadata": {},
   "outputs": [
    {
     "name": "stderr",
     "output_type": "stream",
     "text": [
      "/g/data/v10/public/modules/dea/20200617/lib/python3.6/site-packages/datacube/storage/masking.py:4: DeprecationWarning: datacube.storage.masking has moved to datacube.utils.masking\n",
      "  category=DeprecationWarning)\n"
     ]
    }
   ],
   "source": [
    "import functools\n",
    "import os\n",
    "import sys\n",
    "import datacube\n",
    "from datacube.storage.masking import make_mask\n",
    "import datacube.utils.cog\n",
    "import geopandas as gpd\n",
    "import ipyleaflet\n",
    "from IPython.display import display\n",
    "import ipywidgets as widgets\n",
    "import matplotlib.colors\n",
    "import matplotlib.pyplot as plt\n",
    "import numpy as np\n",
    "import odc.ui\n",
    "from odc.ui import with_ui_cbk\n",
    "import rasterio.features\n",
    "from shapely.geometry import shape\n",
    "from shapely.validation import explain_validity\n",
    "import skimage.color as colour\n",
    "import skimage.io\n",
    "from tqdm.notebook import tqdm\n",
    "import xarray\n",
    "\n",
    "sys.path.append('../Scripts')\n",
    "from dea_dask import create_local_dask_cluster\n",
    "from dea_datahandling import load_ard, array_to_geotiff\n",
    "from dea_plotting import rgb"
   ]
  },
  {
   "cell_type": "code",
   "execution_count": 11,
   "metadata": {},
   "outputs": [],
   "source": [
    "tcw_conf = '/g/data/r78/datacube_stats/ls_tcw_percentiles/vmn547_cog_dev.conf'\n",
    "dc = datacube.Datacube(config=tcw_conf)"
   ]
  },
  {
   "cell_type": "code",
   "execution_count": 12,
   "metadata": {},
   "outputs": [],
   "source": [
    "wetlands = gpd.read_file('/g/data/r78/ma6611/Queensland_dominant_wetland_areas_22042020.shp')"
   ]
  },
  {
   "cell_type": "code",
   "execution_count": 13,
   "metadata": {},
   "outputs": [],
   "source": [
    "tiles = gpd.read_file('QLDTestTiles.shp')"
   ]
  },
  {
   "cell_type": "code",
   "execution_count": 14,
   "metadata": {},
   "outputs": [],
   "source": [
    "validity = wetlands.geometry.apply(lambda k: explain_validity(k) if k is not None else None)"
   ]
  },
  {
   "cell_type": "code",
   "execution_count": 15,
   "metadata": {},
   "outputs": [],
   "source": [
    "invalid = validity != 'Valid Geometry'"
   ]
  },
  {
   "cell_type": "code",
   "execution_count": 16,
   "metadata": {},
   "outputs": [],
   "source": [
    "# Fix invalid geometries.\n",
    "fixed_wetlands = wetlands[invalid].geometry.buffer(0)\n",
    "wetlands_original = wetlands\n",
    "wetlands = wetlands.copy()\n",
    "wetlands.loc[invalid, 'geometry'] = fixed_wetlands"
   ]
  },
  {
   "cell_type": "markdown",
   "metadata": {},
   "source": [
    "## Calculate histograms"
   ]
  },
  {
   "cell_type": "code",
   "execution_count": 17,
   "metadata": {},
   "outputs": [],
   "source": [
    "sampled_wetlands = wetlands.geometry.intersection(tiles.unary_union)"
   ]
  },
  {
   "cell_type": "code",
   "execution_count": 18,
   "metadata": {},
   "outputs": [],
   "source": [
    "wetlands = wetlands[~sampled_wetlands.geometry.is_empty]\n",
    "wetlands.loc[:, 'geometry'] = sampled_wetlands[~sampled_wetlands.geometry.is_empty]"
   ]
  },
  {
   "cell_type": "code",
   "execution_count": 19,
   "metadata": {},
   "outputs": [],
   "source": [
    "# Here's some ways to get the \"non-wetlands\" regions that we have tiles for.\n",
    "# Super super slow! Don't do this.\n",
    "# Better approach is to load the raster images that we have and then mask the wetlands.\n",
    "\n",
    "# sampled_nonwetlands = tiles.copy()\n",
    "# for i in tqdm(range(len(sampled_wetlands))):\n",
    "#     sampled_nonwetlands = sampled_nonwetlands.difference(wetlands.iloc[i])\n",
    "\n",
    "# sampled_nonwetlands = gpd.overlay(tiles, wetlands, how='difference')"
   ]
  },
  {
   "cell_type": "code",
   "execution_count": 28,
   "metadata": {},
   "outputs": [],
   "source": [
    "def get_tcw(tile_label):\n",
    "    tif_path_base = '/g/data/r78/datacube_stats/TCW_stats/demo_tiles/output_qld_wetness/LS_TCW_PC_{}_1986_2020_summary.tif'\n",
    "    tif_path = tif_path_base.format(tile_label.replace(',', '_'))\n",
    "    da = xarray.open_rasterio(tif_path)\n",
    "    return da\n",
    "\n",
    "def get_tcg(tile_label):\n",
    "    tif_path_base = '/g/data/r78/datacube_stats/TCW_stats/demo_tiles/output_qld_greenness/LS_TCG_PC_{}_1986_2020_summary.tif'\n",
    "    tif_path = tif_path_base.format(tile_label.replace(',', '_'))\n",
    "    da = xarray.open_rasterio(tif_path)\n",
    "    return da\n",
    "\n",
    "def make_wetland_mask(da):\n",
    "    raster_wetland = rasterio.features.rasterize(shapes=wetlands.buffer(0),\n",
    "                                                 out_shape=da.y.shape + da.x.shape,\n",
    "                                                 all_touched=False,\n",
    "                                                 default_value=1,\n",
    "                                                 fill=0,\n",
    "                                                 transform=da.geobox.transform)\n",
    "    return raster_wetland.astype(bool)"
   ]
  },
  {
   "cell_type": "code",
   "execution_count": 31,
   "metadata": {},
   "outputs": [],
   "source": [
    "def get_tc_data(tile_label, tc='w', band=3, bins=None) -> ('wetland', 'nonwetland'):\n",
    "    if tc == 'w':\n",
    "        get = get_tcw\n",
    "    elif tc == 'g':\n",
    "        get = get_tcb\n",
    "    else:\n",
    "        raise NotImplementedError(f'Unsupported TC type: {tc} (supported: w, g)')\n",
    "\n",
    "    da = get(tile_label)\n",
    "    # Rasterise this tile of wetlands so we can quickly mask.\n",
    "    wetlands_mask = make_wetland_mask(da)\n",
    "    # Apply the mask and get the TC data.\n",
    "    tc_data = da.isel(band=band).values\n",
    "    nodata = tc_data == da.nodatavals[band]\n",
    "    tc_data_w = tc_data[wetlands_mask & ~nodata]\n",
    "    tc_data_nw = tc_data[~wetlands_mask & ~nodata]\n",
    "    \n",
    "    if bins is None:\n",
    "        # Just return the data. Big!\n",
    "        return tc_data_w, tc_data_nw\n",
    "    \n",
    "    # Return a histogram of the data.\n",
    "    hist_wetland, bin_edges = np.histogram(tc_data_w, bins=bins)\n",
    "    assert (bin_edges == bins).all()\n",
    "    hist_nonwetland, bin_edges = np.histogram(tc_data_nw, bins=bins)\n",
    "    return (hist_wetland, hist_nonwetland)"
   ]
  },
  {
   "cell_type": "code",
   "execution_count": null,
   "metadata": {},
   "outputs": [
    {
     "data": {
      "application/vnd.jupyter.widget-view+json": {
       "model_id": "78d4eac898a74dad8a05fa63bace6919",
       "version_major": 2,
       "version_minor": 0
      },
      "text/plain": [
       "HBox(children=(FloatProgress(value=1.0, bar_style='info', max=1.0), HTML(value='')))"
      ]
     },
     "metadata": {},
     "output_type": "display_data"
    }
   ],
   "source": [
    "bins = np.linspace(-4000, 4000, 120)\n",
    "hist_wetland = np.zeros(len(bins) - 1, dtype=int)\n",
    "hist_nonwetland = np.zeros(len(bins) - 1, dtype=int)\n",
    "for tile in tqdm(tiles.itertuples(), total=len(tiles)):\n",
    "    hist_wetland_, hist_nonwetland_ = get_tc_data(tile.label, tc='w', band=3, bins=bins)\n",
    "    hist_wetland += hist_wetland_\n",
    "    hist_nonwetland += hist_nonwetland_"
   ]
  },
  {
   "cell_type": "code",
   "execution_count": null,
   "metadata": {},
   "outputs": [],
   "source": [
    "px_to_km2 = 0.0001 # 10 m x 10 m -> 100 m^2 = 0.0001 km^2"
   ]
  },
  {
   "cell_type": "code",
   "execution_count": null,
   "metadata": {},
   "outputs": [],
   "source": [
    "ax = plt.subplot(1, 1, 1)\n",
    "ax.bar(bins[:-1], hist_wetland * px_to_km2, width=bins[1] - bins[0], color='blue')\n",
    "ax.set_xlabel('TCW 95')\n",
    "ax.set_ylabel('Total wetland area (km$^2$)', fontdict={'color': 'blue'})\n",
    "ax.tick_params(axis='y', colors='blue')\n",
    "ax2 = ax.twinx()\n",
    "ax2.bar(bins[:-1], hist_nonwetland * px_to_km2, width=bins[1] - bins[0], color='red', alpha=0.8)\n",
    "ax2.set_ylabel('Total non-wetland area (km$^2$)', fontdict={'color': 'red'})\n",
    "ax2.tick_params(axis='y', colors='red')\n",
    "\n",
    "lines, labels = ax.get_legend_handles_labels()\n",
    "lines2, labels2 = ax2.get_legend_handles_labels()\n",
    "ax2.legend(lines + lines2, labels + labels2, loc=0)"
   ]
  },
  {
   "cell_type": "code",
   "execution_count": null,
   "metadata": {},
   "outputs": [],
   "source": []
  },
  {
   "cell_type": "code",
   "execution_count": null,
   "metadata": {},
   "outputs": [],
   "source": []
  }
 ],
 "metadata": {
  "kernelspec": {
   "display_name": "Python 3",
   "language": "python",
   "name": "python3"
  },
  "language_info": {
   "codemirror_mode": {
    "name": "ipython",
    "version": 3
   },
   "file_extension": ".py",
   "mimetype": "text/x-python",
   "name": "python",
   "nbconvert_exporter": "python",
   "pygments_lexer": "ipython3",
   "version": "3.6.10"
  },
  "widgets": {
   "application/vnd.jupyter.widget-state+json": {
    "state": {},
    "version_major": 2,
    "version_minor": 0
   }
  }
 },
 "nbformat": 4,
 "nbformat_minor": 4
}
