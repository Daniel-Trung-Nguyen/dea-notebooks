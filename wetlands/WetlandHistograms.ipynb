{
 "cells": [
  {
   "cell_type": "markdown",
   "metadata": {},
   "source": [
    "# Wetland histograms\n",
    "\n",
    "**Background**\n",
    "\n",
    "**What does this notebook do?** This notebook generates histograms of raster properties for wetland and non-wetland regions in Queensland.\n",
    "\n",
    "**Date**: Aug 2020.\n",
    "\n",
    "**Author**: Matthew Alger"
   ]
  },
  {
   "cell_type": "markdown",
   "metadata": {},
   "source": [
    "## Setup\n",
    "\n",
    "Set up the notebook and load the data."
   ]
  },
  {
   "cell_type": "code",
   "execution_count": 4,
   "metadata": {},
   "outputs": [],
   "source": [
    "import functools\n",
    "import os\n",
    "import sys\n",
    "import datacube\n",
    "from datacube.storage.masking import make_mask\n",
    "import datacube.utils.cog\n",
    "import geopandas as gpd\n",
    "import ipyleaflet\n",
    "from IPython.display import display\n",
    "import ipywidgets as widgets\n",
    "import matplotlib.pyplot as plt\n",
    "import numpy as np\n",
    "import odc.ui\n",
    "from odc.ui import with_ui_cbk\n",
    "import rasterio.features\n",
    "from shapely.geometry import shape\n",
    "from shapely.validation import explain_validity\n",
    "import skimage.color as colour\n",
    "import skimage.io\n",
    "from tqdm.notebook import tqdm\n",
    "import xarray\n",
    "\n",
    "sys.path.append('../Scripts')\n",
    "from dea_dask import create_local_dask_cluster\n",
    "from dea_datahandling import load_ard, array_to_geotiff\n",
    "from dea_plotting import rgb"
   ]
  },
  {
   "cell_type": "code",
   "execution_count": 5,
   "metadata": {},
   "outputs": [],
   "source": [
    "tcw_conf = '/g/data/r78/datacube_stats/ls_tcw_percentiles/vmn547_cog_dev.conf'\n",
    "dc = datacube.Datacube(config=tcw_conf)"
   ]
  },
  {
   "cell_type": "code",
   "execution_count": 6,
   "metadata": {},
   "outputs": [],
   "source": [
    "wetlands = gpd.read_file('/g/data/r78/ma6611/Queensland_dominant_wetland_areas_22042020.shp')"
   ]
  },
  {
   "cell_type": "code",
   "execution_count": 7,
   "metadata": {},
   "outputs": [],
   "source": [
    "tiles = gpd.read_file('QLDTestTiles.shp')"
   ]
  },
  {
   "cell_type": "code",
   "execution_count": 8,
   "metadata": {},
   "outputs": [],
   "source": [
    "validity = wetlands.geometry.apply(lambda k: explain_validity(k) if k is not None else None)"
   ]
  },
  {
   "cell_type": "code",
   "execution_count": 9,
   "metadata": {},
   "outputs": [],
   "source": [
    "invalid = validity != 'Valid Geometry'"
   ]
  },
  {
   "cell_type": "code",
   "execution_count": 10,
   "metadata": {},
   "outputs": [],
   "source": [
    "# Fix invalid geometries.\n",
    "fixed_wetlands = wetlands[invalid].geometry.buffer(0)\n",
    "wetlands = wetlands.copy()\n",
    "wetlands.loc[invalid, 'geometry'] = fixed_wetlands"
   ]
  },
  {
   "cell_type": "markdown",
   "metadata": {},
   "source": [
    "## Load rasters"
   ]
  },
  {
   "cell_type": "code",
   "execution_count": 11,
   "metadata": {},
   "outputs": [],
   "source": [
    "sampled_wetlands = wetlands.geometry.intersection(tiles.unary_union)"
   ]
  },
  {
   "cell_type": "code",
   "execution_count": 12,
   "metadata": {},
   "outputs": [],
   "source": [
    "wetlands = wetlands[~sampled_wetlands.geometry.is_empty]\n",
    "wetlands.loc[:, 'geometry'] = sampled_wetlands[~sampled_wetlands.geometry.is_empty]"
   ]
  },
  {
   "cell_type": "code",
   "execution_count": 13,
   "metadata": {},
   "outputs": [],
   "source": [
    "# Here's some ways to get the \"non-wetlands\" regions that we have tiles for.\n",
    "# Super super slow! Don't do this.\n",
    "# Better approach is to load the raster images that we have and then mask the wetlands.\n",
    "\n",
    "# sampled_nonwetlands = tiles.copy()\n",
    "# for i in tqdm(range(len(sampled_wetlands))):\n",
    "#     sampled_nonwetlands = sampled_nonwetlands.difference(wetlands.iloc[i])\n",
    "\n",
    "# sampled_nonwetlands = gpd.overlay(tiles, wetlands, how='difference')"
   ]
  },
  {
   "cell_type": "code",
   "execution_count": 49,
   "metadata": {},
   "outputs": [],
   "source": [
    "def get_hists(bins, tile_idx) -> ('wetland', 'nonwetland'):\n",
    "    # tile_idx = 10\n",
    "    # bins = np.linspace(-2000, 2000, 30)\n",
    "    tile = tiles.iloc[tile_idx]\n",
    "    tif_path_base = '/g/data/r78/datacube_stats/TCW_stats/demo_tiles/output_qld_wetness/LS_TCW_PC_{}_1986_2020_summary.tif'\n",
    "    tif_path = tif_path_base.format(tile.label.replace(',', '_'))\n",
    "    da = xarray.open_rasterio(tif_path)\n",
    "    this_tile = gpd.clip(wetlands, tile.geometry)\n",
    "    # Rasterise this tile of wetlands so we can quickly mask.\n",
    "    raster_wetland = rasterio.features.rasterize(shapes=this_tile.buffer(0),\n",
    "                                                 out_shape=da.y.shape + da.x.shape,\n",
    "                                                 all_touched=False,\n",
    "                                                 default_value=1,\n",
    "                                                 fill=0,\n",
    "                                                 transform=da.geobox.transform)\n",
    "    wetlands_mask = raster_wetland.astype(bool)\n",
    "    tcw = da.isel(band=3).values\n",
    "    nodata = tcw == da.nodatavals[3]\n",
    "    tcw_w = tcw[wetlands_mask & ~nodata]\n",
    "    tcw_nw = tcw[~wetlands_mask & ~nodata]\n",
    "    hist_wetland, bin_edges = np.histogram(tcw_w, bins=bins)\n",
    "    assert (bin_edges == bins).all()\n",
    "    hist_nonwetland, bin_edges = np.histogram(tcw_nw, bins=bins)\n",
    "    return (hist_wetland, hist_nonwetland)"
   ]
  },
  {
   "cell_type": "code",
   "execution_count": 62,
   "metadata": {},
   "outputs": [
    {
     "data": {
      "application/vnd.jupyter.widget-view+json": {
       "model_id": "62e64cd0816d46dc9a25ef7d4895b2ae",
       "version_major": 2,
       "version_minor": 0
      },
      "text/plain": [
       "HBox(children=(FloatProgress(value=0.0, max=25.0), HTML(value='')))"
      ]
     },
     "metadata": {},
     "output_type": "display_data"
    },
    {
     "name": "stderr",
     "output_type": "stream",
     "text": [
      "/g/data/v10/public/modules/dea-env/20200612/lib/python3.6/site-packages/geopandas/geoseries.py:358: UserWarning: GeoSeries.notna() previously returned False for both missing (None) and empty geometries. Now, it only returns False for missing values. Since the calling GeoSeries contains empty geometries, the result has changed compared to previous versions of GeoPandas.\n",
      "Given a GeoSeries 's', you can use '~s.is_empty & s.notna()' to get back the old behaviour.\n",
      "\n",
      "To further ignore this warning, you can do: \n",
      "import warnings; warnings.filterwarnings('ignore', 'GeoSeries.notna', UserWarning)\n",
      "  return self.notna()\n",
      "/g/data/v10/public/modules/dea-env/20200612/lib/python3.6/site-packages/geopandas/geoseries.py:358: UserWarning: GeoSeries.notna() previously returned False for both missing (None) and empty geometries. Now, it only returns False for missing values. Since the calling GeoSeries contains empty geometries, the result has changed compared to previous versions of GeoPandas.\n",
      "Given a GeoSeries 's', you can use '~s.is_empty & s.notna()' to get back the old behaviour.\n",
      "\n",
      "To further ignore this warning, you can do: \n",
      "import warnings; warnings.filterwarnings('ignore', 'GeoSeries.notna', UserWarning)\n",
      "  return self.notna()\n"
     ]
    },
    {
     "name": "stdout",
     "output_type": "stream",
     "text": [
      "\n"
     ]
    }
   ],
   "source": [
    "bins = np.linspace(-2000, 1000, 60)\n",
    "hist_wetland = np.zeros(len(bins) - 1, dtype=int)\n",
    "hist_nonwetland = np.zeros(len(bins) - 1, dtype=int)\n",
    "for tile_idx in tqdm(range(len(tiles))):\n",
    "    hist_wetland_, hist_nonwetland_ = get_hists(bins, tile_idx)\n",
    "    hist_wetland += hist_wetland_\n",
    "    hist_nonwetland += hist_nonwetland_"
   ]
  },
  {
   "cell_type": "code",
   "execution_count": 63,
   "metadata": {},
   "outputs": [],
   "source": [
    "px_to_km2 = 0.0001 # 10 m x 10 m -> 100 m^2 = 0.0001 km^2"
   ]
  },
  {
   "cell_type": "code",
   "execution_count": 66,
   "metadata": {},
   "outputs": [
    {
     "data": {
      "text/plain": [
       "<matplotlib.legend.Legend at 0x7f8de6439908>"
      ]
     },
     "execution_count": 66,
     "metadata": {},
     "output_type": "execute_result"
    },
    {
     "data": {
      "image/png": "[encoded data removed]",
      "text/plain": [
       "<Figure size 432x288 with 2 Axes>"
      ]
     },
     "metadata": {
      "needs_background": "light"
     },
     "output_type": "display_data"
    }
   ],
   "source": [
    "ax = plt.subplot(1, 1, 1)\n",
    "ax.bar(bins[:-1], hist_wetland * px_to_km2, width=bins[1] - bins[0], color='blue')\n",
    "ax.set_xlabel('TCW 95')\n",
    "ax.set_ylabel('Total wetland area (km$^2$)', fontdict={'color': 'blue'})\n",
    "ax.tick_params(axis='y', colors='blue')\n",
    "ax2 = ax.twinx()\n",
    "ax2.bar(bins[:-1], hist_nonwetland * px_to_km2, width=bins[1] - bins[0], color='red', alpha=0.8)\n",
    "ax2.set_ylabel('Total non-wetland area (km$^2$)', fontdict={'color': 'red'})\n",
    "ax2.tick_params(axis='y', colors='red')\n",
    "\n",
    "lines, labels = ax.get_legend_handles_labels()\n",
    "lines2, labels2 = ax2.get_legend_handles_labels()\n",
    "ax2.legend(lines + lines2, labels + labels2, loc=0)"
   ]
  },
  {
   "cell_type": "code",
   "execution_count": 67,
   "metadata": {},
   "outputs": [],
   "source": [
    "def get_hists_2d(bins, tile_idx) -> ('wetland', 'nonwetland'):\n",
    "    # tile_idx = 10\n",
    "    # bins = np.linspace(-2000, 2000, 30)\n",
    "    tile = tiles.iloc[tile_idx]\n",
    "    tif_path_base = '/g/data/r78/datacube_stats/TCW_stats/demo_tiles/output_qld_wetness/LS_TCW_PC_{}_1986_2020_summary.tif'\n",
    "    tif_path = tif_path_base.format(tile.label.replace(',', '_'))\n",
    "    da = xarray.open_rasterio(tif_path)\n",
    "    this_tile = gpd.clip(wetlands, tile.geometry)\n",
    "    # Rasterise this tile of wetlands so we can quickly mask.\n",
    "    raster_wetland = rasterio.features.rasterize(shapes=this_tile.buffer(0),\n",
    "                                                 out_shape=da.y.shape + da.x.shape,\n",
    "                                                 all_touched=False,\n",
    "                                                 default_value=1,\n",
    "                                                 fill=0,\n",
    "                                                 transform=da.geobox.transform)\n",
    "    wetlands_mask = raster_wetland.astype(bool)\n",
    "    tcw = da.isel(band=3).values\n",
    "    nodata = tcw == da.nodatavals[3]\n",
    "    tcw_w_95 = tcw[wetlands_mask & ~nodata]\n",
    "    tcw_nw_95 = tcw[~wetlands_mask & ~nodata]\n",
    "    tcw = da.isel(band=2).values\n",
    "    nodata = tcw == da.nodatavals[2]\n",
    "    tcw_w_90 = tcw[wetlands_mask & ~nodata]\n",
    "    tcw_nw_90 = tcw[~wetlands_mask & ~nodata]\n",
    "    hist_wetland, bin_edges_x, bin_edges_y = np.histogram2d(tcw_w_90, tcw_w_95, bins=bins)\n",
    "    assert (bin_edges_x == bins).all()\n",
    "    assert (bin_edges_y == bins).all()\n",
    "    hist_nonwetland, bin_edges_x, bin_edges_y = np.histogram2d(tcw_nw_90, tcw_nw_95, bins=bins)\n",
    "    assert (bin_edges_x == bins).all()\n",
    "    assert (bin_edges_y == bins).all()\n",
    "    return (hist_wetland, hist_nonwetland)"
   ]
  },
  {
   "cell_type": "code",
   "execution_count": null,
   "metadata": {},
   "outputs": [
    {
     "data": {
      "application/vnd.jupyter.widget-view+json": {
       "model_id": "002b960b5a97466180a45853a57489ec",
       "version_major": 2,
       "version_minor": 0
      },
      "text/plain": [
       "HBox(children=(FloatProgress(value=0.0, max=25.0), HTML(value='')))"
      ]
     },
     "metadata": {},
     "output_type": "display_data"
    }
   ],
   "source": [
    "bins = np.linspace(-4000, 4000, 120)\n",
    "hist_2d_shape = (len(bins) - 1,) * 2\n",
    "hist_2d_wetland = np.zeros(hist_2d_shape, dtype=int)\n",
    "hist_2d_nonwetland = np.zeros(hist_2d_shape, dtype=int)\n",
    "for tile_idx in tqdm(range(len(tiles))):\n",
    "    hist_2d_wetland_, hist_2d_nonwetland_ = get_hists_2d(bins, tile_idx)\n",
    "    hist_2d_wetland += hist_2d_wetland_.astype(int)\n",
    "    hist_2d_nonwetland += hist_2d_nonwetland_.astype(int)"
   ]
  },
  {
   "cell_type": "code",
   "execution_count": null,
   "metadata": {},
   "outputs": [],
   "source": []
  }
 ],
 "metadata": {
  "kernelspec": {
   "display_name": "Python 3",
   "language": "python",
   "name": "python3"
  },
  "language_info": {
   "codemirror_mode": {
    "name": "ipython",
    "version": 3
   },
   "file_extension": ".py",
   "mimetype": "text/x-python",
   "name": "python",
   "nbconvert_exporter": "python",
   "pygments_lexer": "ipython3",
   "version": "3.6.10"
  },
  "widgets": {
   "application/vnd.jupyter.widget-state+json": {
    "state": {},
    "version_major": 2,
    "version_minor": 0
   }
  }
 },
 "nbformat": 4,
 "nbformat_minor": 4
}
